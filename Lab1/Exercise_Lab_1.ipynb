{
 "cells": [
  {
   "cell_type": "markdown",
   "metadata": {
    "id": "6X-TO_KR1mjo"
   },
   "source": [
    "## Questions to be done during the lab:\n",
    "\n",
    "**Questions 1.** \n",
    "Write a function name 'avg', which take an array of number and calculate the average"
   ]
  },
  {
   "cell_type": "code",
   "execution_count": 1,
   "metadata": {
    "colab": {
     "base_uri": "https://localhost:8080/"
    },
    "id": "vbu3Vga33lw3",
    "outputId": "571d8c46-675e-44ab-a473-033904d77c42"
   },
   "outputs": [
    {
     "data": {
      "text/plain": [
       "78.0"
      ]
     },
     "execution_count": 1,
     "metadata": {},
     "output_type": "execute_result"
    }
   ],
   "source": [
    "def avg(marks):\n",
    "    \"\"\"This function takes a list of numebrs as argument and returns the average of the numbers\"\"\"\n",
    "    total = 0\n",
    "    for mark in marks:\n",
    "      total+=mark\n",
    "      average = total/len(marks)\n",
    "    return average\n",
    "\n",
    "# Creating a list of numbers called mark2\n",
    "mark2 = [55,88,78,90,79]\n",
    "# calling  function avg to calculate average of mark2 list\n",
    "avg(mark2)"
   ]
  },
  {
   "cell_type": "code",
   "execution_count": 2,
   "metadata": {
    "id": "MtgR1Y695RpD"
   },
   "outputs": [],
   "source": [
    "# Only run this cell to check your answer. If it is true then no error will be raised\n",
    "import numpy as np\n",
    "assert(avg(mark2) == np.mean(mark2))"
   ]
  },
  {
   "cell_type": "markdown",
   "metadata": {
    "id": "W1hVtS896cfi"
   },
   "source": [
    "**Questions 2**.\n",
    "Write a function name 'areaCricle', which take radius as a argument and calculate the area. \n",
    "\n"
   ]
  },
  {
   "cell_type": "code",
   "execution_count": 4,
   "metadata": {
    "colab": {
     "base_uri": "https://localhost:8080/"
    },
    "id": "Fn7_nt8-vUao",
    "outputId": "162615c5-d71b-4794-b68e-f90a6a80e144"
   },
   "outputs": [
    {
     "data": {
      "text/plain": [
       "314.1592653589793"
      ]
     },
     "execution_count": 4,
     "metadata": {},
     "output_type": "execute_result"
    }
   ],
   "source": [
    "import math # importing math package to use pi value form math package\n",
    "def areaCircle(radius):\n",
    "    \"\"\"This function takes radius as argument and returns the area of circle with that radius\"\"\"\n",
    "    # Area of circle = pi*r*r\n",
    "    r  = radius\n",
    "    pi = math.pi\n",
    "    return pi*r*r\n",
    "    \n",
    "# Calling function areaCircle with radius 10, to calcalulate area of that circle\n",
    "areaCircle(10)"
   ]
  },
  {
   "cell_type": "code",
   "execution_count": 5,
   "metadata": {
    "id": "BML90x25vikN"
   },
   "outputs": [],
   "source": [
    "# Only run this cell to check your answer. If it is true then no error will be raised\n",
    "assert(round(areaCircle(10),2) == 314.16)"
   ]
  },
  {
   "cell_type": "markdown",
   "metadata": {
    "id": "_EfKc7-3x2k8"
   },
   "source": [
    "**Question 3.**\n",
    "Write a function that takes a list of items and returns a new list with the order of items reversed, without using any inbuilt Python features that will do this for you (e.g. .reverse() or reversed(…)). As specified in the instructions, your function must not modify the contents of the original list."
   ]
  },
  {
   "cell_type": "code",
   "execution_count": 84,
   "metadata": {
    "colab": {
     "base_uri": "https://localhost:8080/"
    },
    "id": "rEtOO9yPyKwe",
    "outputId": "c532acfd-2031-4037-f6c7-3d144636d947"
   },
   "outputs": [
    {
     "data": {
      "text/plain": [
       "['u', 'o', 'i', 'e', 'a']"
      ]
     },
     "execution_count": 84,
     "metadata": {
      "tags": []
     },
     "output_type": "execute_result"
    }
   ],
   "source": [
    "def reversed_list(in_list):\n",
    "    \"\"\"This function takes a list as argument and returns a list with items in it reversed\"\"\"\n",
    "    list_reversed = in_list[::-1]\n",
    "    #raise NotImplementedError()\n",
    "    return list_reversed\n",
    "\n",
    "# Creating a list of numbers\n",
    "listt = ['a','e','i','o','u']\n",
    "# calling the function reversed-list by passing created list\n",
    "reversed_list(listt)"
   ]
  },
  {
   "cell_type": "code",
   "execution_count": 82,
   "metadata": {
    "id": "bVyMOVMLyRib"
   },
   "outputs": [],
   "source": [
    "# Only run this cell to check your answer. If it is true then no error will be raised\n",
    "assert(reversed_list([1, 2]) == [2, 1])"
   ]
  },
  {
   "cell_type": "markdown",
   "metadata": {
    "id": "DFQPTbd90pPN"
   },
   "source": [
    "**Question 4.** \n",
    "\n",
    "*Read carefully: *Write a function to perform a Bubble Sort on a list of numbers. \n",
    "\n",
    "Bubble sort is a sorting algorithm and works by iterating over the list, comparing adjacent items, and swapping them if they are out of order.\n",
    "\n",
    "Notice that after the first pass of a bubble sort, the biggest item is always moved to the end of the list. This means the next iteration does not need to check the final position of the list.\n",
    "\n",
    "In addition, you can keep track of how many items were swapped on each iteration. If this count is zero on any iteration, then the list must be fully sorted, in which case the algorithm can stop early.\n",
    "\n",
    "Hint: To understand Bubble Sort Algorithm, please [Watch](https://www.youtube.com/watch?v=xli_FI7CuzA)"
   ]
  },
  {
   "cell_type": "code",
   "execution_count": 85,
   "metadata": {
    "colab": {
     "base_uri": "https://localhost:8080/"
    },
    "id": "sGkDiI3b1DpQ",
    "outputId": "4ed70070-8654-4eb8-ec41-d054c9f4413c"
   },
   "outputs": [
    {
     "data": {
      "text/plain": [
       "[4, 9, 19, 22, 35, 37, 42, 53]"
      ]
     },
     "execution_count": 85,
     "metadata": {
      "tags": []
     },
     "output_type": "execute_result"
    }
   ],
   "source": [
    "def bubble_sort(in_list):\n",
    "    \"\"\"This function takes a list of numbers as argument and returns a sorted list using bubblesort algorithm\"\"\"\n",
    "    n = len(in_list) # storing len of list in a variable\n",
    "    for i in range(n):\n",
    "      for j in range(0,n-i-1):\n",
    "        if in_list[j]>in_list[j+1]:\n",
    "          in_list[j],in_list[j+1]= in_list[j+1],in_list[j]\n",
    "    return in_list\n",
    "    #raise NotImplementedError()\n",
    "\n",
    "# Creating a list of numbers\n",
    "li = [37, 42, 9, 19, 35, 4, 53, 22]\n",
    "# Calling the bubble_sort function by passing the list\n",
    "bubble_sort(li)"
   ]
  },
  {
   "cell_type": "code",
   "execution_count": null,
   "metadata": {
    "id": "ReCP5Nv_1ETF"
   },
   "outputs": [],
   "source": [
    "# Only run this cell to check your answer. If it is true then no error will be raised\n",
    "assert(bubble_sort([5, 4, 3, 2, 1]) == [1, 2, 3, 4, 5])\n",
    "assert(bubble_sort([37, 42, 9, 19, 35, 4, 53, 22])== [4, 9, 19, 22, 35, 37, 42, 53])"
   ]
  },
  {
   "cell_type": "markdown",
   "metadata": {
    "id": "c6y0x8KsvySS"
   },
   "source": [
    "**Question 5.** \n",
    "\n",
    "Write a function to find $n^{th}$ Fibonacci number\n",
    "The Fibonacci numbers are the numbers in the following integer sequence.\n",
    "\n",
    "| 1  | 2 | 3  | 4 | 5  | 6 | 7  | 8 | 9 | 10 | 11 | 12 |\n",
    "| -- |-- | -- | --| -- | --| -- | --|-- | -- |-- |-- |\n",
    "| 0  | 1 | 1  | 2 | 3  | 5 | 8  | 13| 21| 34 |55 |89 |\n",
    "\n",
    "Please consider index starting from 1\n",
    "\n",
    "In mathematical terms, the sequence $F_n$ of Fibonacci numbers is defined by the recurrence relation \n",
    "\n",
    "$F_n = F_n-1 + F_n-2$\n",
    "\n",
    "with seed values \n",
    "\n",
    "$F_0 = 0$ and $F_1 = 1$\n"
   ]
  },
  {
   "cell_type": "code",
   "execution_count": 87,
   "metadata": {
    "colab": {
     "base_uri": "https://localhost:8080/"
    },
    "id": "7Bs6CzMCwTgt",
    "outputId": "416d3e28-51f2-4f1e-8016-dc3b568cbc77"
   },
   "outputs": [
    {
     "data": {
      "text/plain": [
       "8"
      ]
     },
     "execution_count": 87,
     "metadata": {
      "tags": []
     },
     "output_type": "execute_result"
    }
   ],
   "source": [
    "def Fibonacci(n):\n",
    "  \"\"\"This function takes an index and returns the fibonacci element at that index\"\"\"\n",
    "  if n==1:\n",
    "    return 0\n",
    "  elif n==2:\n",
    "   return 1\n",
    "  else:\n",
    "    return Fibonacci(n-1)+Fibonacci(n-2)\n",
    "  #raise NotImplementedError()\n",
    "\n",
    "# Calling the function function Fibonacci to find 7th element in fibonacci series\n",
    "Fibonacci(7)"
   ]
  },
  {
   "cell_type": "code",
   "execution_count": null,
   "metadata": {
    "colab": {
     "base_uri": "https://localhost:8080/"
    },
    "id": "8OJv6zQKxzKj",
    "outputId": "3e96e7e9-d191-4250-c21e-196b76e46db2"
   },
   "outputs": [
    {
     "name": "stdout",
     "output_type": "stream",
     "text": [
      "\n",
      "\n",
      "\n",
      "\n",
      "\n",
      "\n",
      "\n",
      "\n",
      "\n",
      "\n",
      "\n",
      "\n",
      "\n",
      "\n",
      "\n",
      "\n",
      "\n",
      "\n",
      "\n",
      "\n",
      "\n",
      "\n",
      "\n",
      "\n",
      "\n",
      "\n",
      "\n",
      "\n",
      "\n",
      "\n",
      "\n",
      "\n",
      "\n",
      "\n",
      "\n",
      "\n",
      "\n",
      "\n",
      "\n",
      "\n",
      "\n",
      "\n",
      "\n",
      "\n",
      "\n",
      "\n",
      "\n",
      "\n",
      "\n",
      "\n",
      "\n",
      "\n",
      "\n",
      "\n",
      "\n",
      "\n",
      "\n",
      "\n",
      "\n",
      "\n",
      "\n",
      "\n",
      "\n",
      "\n",
      "\n",
      "\n",
      "\n",
      "\n",
      "\n",
      "\n",
      "\n",
      "\n",
      "\n",
      "\n",
      "\n",
      "\n",
      "\n",
      "\n",
      "\n",
      "\n",
      "\n",
      "\n",
      "\n",
      "\n",
      "\n",
      "\n",
      "\n",
      "\n",
      "\n",
      "\n",
      "\n",
      "\n"
     ]
    }
   ],
   "source": [
    "# Only run this cell to check your answer. If it is true then no error will be raised\n",
    "assert(Fibonacci(7) == 8)\n",
    "assert(Fibonacci(9) == 21)"
   ]
  }
 ],
 "metadata": {
  "colab": {
   "collapsed_sections": [],
   "name": " Lab_1.ipynb",
   "provenance": []
  },
  "kernelspec": {
   "display_name": "Python 3",
   "language": "python",
   "name": "python3"
  },
  "language_info": {
   "codemirror_mode": {
    "name": "ipython",
    "version": 3
   },
   "file_extension": ".py",
   "mimetype": "text/x-python",
   "name": "python",
   "nbconvert_exporter": "python",
   "pygments_lexer": "ipython3",
   "version": "3.8.5"
  }
 },
 "nbformat": 4,
 "nbformat_minor": 1
}
