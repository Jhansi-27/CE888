{
  "nbformat": 4,
  "nbformat_minor": 0,
  "metadata": {
    "kernelspec": {
      "display_name": "Python 3",
      "language": "python",
      "name": "python3"
    },
    "language_info": {
      "codemirror_mode": {
        "name": "ipython",
        "version": 3
      },
      "file_extension": ".py",
      "mimetype": "text/x-python",
      "name": "python",
      "nbconvert_exporter": "python",
      "pygments_lexer": "ipython3",
      "version": "3.6.5"
    },
    "colab": {
      "name": "Copy of CNN.ipynb",
      "provenance": [],
      "include_colab_link": true
    },
    "accelerator": "GPU"
  },
  "cells": [
    {
      "cell_type": "markdown",
      "metadata": {
        "id": "view-in-github",
        "colab_type": "text"
      },
      "source": [
        "<a href=\"https://colab.research.google.com/github/Jhansi-27/CE888/blob/main/Copy_of_CNN.ipynb\" target=\"_parent\"><img src=\"https://colab.research.google.com/assets/colab-badge.svg\" alt=\"Open In Colab\"/></a>"
      ]
    },
    {
      "cell_type": "markdown",
      "metadata": {
        "id": "vwRGEQbzGpYQ"
      },
      "source": [
        "# First CNN model for MNIST Dataset\n",
        "\n",
        "* MNIST Dataset is ''Hello World'' of Image Recognition\n",
        "\n",
        "* [Dataset HomePage](http://yann.lecun.com/exdb/mnist/)\n",
        "\n",
        "* History of MNIST Dataset [Watch here](https://www.youtube.com/watch?v=oKzNUGz21JM)\n",
        "\n",
        "\n",
        "---\n",
        "The MNIST database of handwritten digits, available from this page, has a training set of 60,000 examples, and a \n",
        "test set of 10,000 examples. It is a subset of a larger set available from NIST. The digits have been size-normalized and centered in a fixed-size image.\n",
        "\n",
        "![Kitten](https://camo.githubusercontent.com/01c057a753e92a9bc70b8c45d62b295431851c09cffadf53106fc0aea7e2843f/687474703a2f2f692e7974696d672e636f6d2f76692f3051493378675875422d512f687164656661756c742e6a7067)\n"
      ]
    },
    {
      "cell_type": "markdown",
      "metadata": {
        "id": "PhmJOHCpJD_w"
      },
      "source": [
        "# Let's start building our first CNN Model"
      ]
    },
    {
      "cell_type": "code",
      "metadata": {
        "id": "lSyHCSV7jymI"
      },
      "source": [
        "from keras import layers\n",
        "from keras import models"
      ],
      "execution_count": 1,
      "outputs": []
    },
    {
      "cell_type": "markdown",
      "metadata": {
        "id": "oWNzCYUUjymN"
      },
      "source": [
        "Importantly, a convnet takes as input tensors of shape (image_height, image_width,\n",
        "image_channels) (not including the batch dimension). In this case, we’ll configure\n",
        "the convnet to process inputs of size (28, 28, 1), which is the format of MNIST\n",
        "images. We’ll do this by passing the argument input_shape=(28, 28, 1) to the first\n",
        "layer."
      ]
    },
    {
      "cell_type": "markdown",
      "metadata": {
        "id": "dM4JLEpwjymN"
      },
      "source": [
        "#### Instantiating a small convnet"
      ]
    },
    {
      "cell_type": "code",
      "metadata": {
        "id": "p-OnpExGjymO",
        "colab": {
          "base_uri": "https://localhost:8080/"
        },
        "outputId": "6ceac294-a765-48fe-8a88-0ae23340d015"
      },
      "source": [
        "model = models.Sequential()\n",
        "model.add(layers.Conv2D(32, (3, 3), activation='relu', input_shape=(28, 28, 1)))\n",
        "model.add(layers.MaxPooling2D((2, 2)))\n",
        "model.add(layers.Conv2D(64, (3, 3), activation='relu'))\n",
        "model.add(layers.MaxPooling2D((2, 2)))\n",
        "model.add(layers.Conv2D(64, (3, 3), activation='relu'))\n",
        "model.summary()"
      ],
      "execution_count": 2,
      "outputs": [
        {
          "output_type": "stream",
          "text": [
            "Model: \"sequential\"\n",
            "_________________________________________________________________\n",
            "Layer (type)                 Output Shape              Param #   \n",
            "=================================================================\n",
            "conv2d (Conv2D)              (None, 26, 26, 32)        320       \n",
            "_________________________________________________________________\n",
            "max_pooling2d (MaxPooling2D) (None, 13, 13, 32)        0         \n",
            "_________________________________________________________________\n",
            "conv2d_1 (Conv2D)            (None, 11, 11, 64)        18496     \n",
            "_________________________________________________________________\n",
            "max_pooling2d_1 (MaxPooling2 (None, 5, 5, 64)          0         \n",
            "_________________________________________________________________\n",
            "conv2d_2 (Conv2D)            (None, 3, 3, 64)          36928     \n",
            "=================================================================\n",
            "Total params: 55,744\n",
            "Trainable params: 55,744\n",
            "Non-trainable params: 0\n",
            "_________________________________________________________________\n"
          ],
          "name": "stdout"
        }
      ]
    },
    {
      "cell_type": "markdown",
      "metadata": {
        "id": "7gcVG3xkjymR"
      },
      "source": [
        "#### Adding a classifier on top of the convnet"
      ]
    },
    {
      "cell_type": "code",
      "metadata": {
        "id": "C2DfhDJYjymR",
        "colab": {
          "base_uri": "https://localhost:8080/"
        },
        "outputId": "ce7cdd80-2544-452a-bdf9-7b4621f29dc3"
      },
      "source": [
        "model.add(layers.Flatten())\n",
        "model.add(layers.Dense(64, activation='relu'))\n",
        "model.add(layers.Dense(10, activation='softmax'))\n",
        "model.summary()"
      ],
      "execution_count": 3,
      "outputs": [
        {
          "output_type": "stream",
          "text": [
            "Model: \"sequential\"\n",
            "_________________________________________________________________\n",
            "Layer (type)                 Output Shape              Param #   \n",
            "=================================================================\n",
            "conv2d (Conv2D)              (None, 26, 26, 32)        320       \n",
            "_________________________________________________________________\n",
            "max_pooling2d (MaxPooling2D) (None, 13, 13, 32)        0         \n",
            "_________________________________________________________________\n",
            "conv2d_1 (Conv2D)            (None, 11, 11, 64)        18496     \n",
            "_________________________________________________________________\n",
            "max_pooling2d_1 (MaxPooling2 (None, 5, 5, 64)          0         \n",
            "_________________________________________________________________\n",
            "conv2d_2 (Conv2D)            (None, 3, 3, 64)          36928     \n",
            "_________________________________________________________________\n",
            "flatten (Flatten)            (None, 576)               0         \n",
            "_________________________________________________________________\n",
            "dense (Dense)                (None, 64)                36928     \n",
            "_________________________________________________________________\n",
            "dense_1 (Dense)              (None, 10)                650       \n",
            "=================================================================\n",
            "Total params: 93,322\n",
            "Trainable params: 93,322\n",
            "Non-trainable params: 0\n",
            "_________________________________________________________________\n"
          ],
          "name": "stdout"
        }
      ]
    },
    {
      "cell_type": "markdown",
      "metadata": {
        "id": "NOKVF4nKjymU"
      },
      "source": [
        "### Training the convnet on MNIST images"
      ]
    },
    {
      "cell_type": "code",
      "metadata": {
        "id": "oIcgUbbUjymV"
      },
      "source": [
        "from keras.datasets import mnist\n",
        "from keras.utils import to_categorical"
      ],
      "execution_count": 4,
      "outputs": []
    },
    {
      "cell_type": "markdown",
      "metadata": {
        "id": "ZnJ2Pfs_jymX"
      },
      "source": [
        "#### Load Data"
      ]
    },
    {
      "cell_type": "code",
      "metadata": {
        "id": "JpHGHE9MjymY",
        "colab": {
          "base_uri": "https://localhost:8080/"
        },
        "outputId": "f45f0cba-8e36-48dc-ff1b-b13631fc31c3"
      },
      "source": [
        "(train_images, train_labels), (test_images, test_labels) = mnist.load_data()\n",
        "\n",
        "train_images = train_images.reshape((60000, 28, 28, 1))\n",
        "train_images = train_images.astype('float32') / 255\n",
        "test_images = test_images.reshape((10000, 28, 28, 1))\n",
        "test_images = test_images.astype('float32') / 255\n",
        "train_labels = to_categorical(train_labels)\n",
        "test_labels = to_categorical(test_labels)\n",
        "train_labels[0]"
      ],
      "execution_count": 5,
      "outputs": [
        {
          "output_type": "stream",
          "text": [
            "Downloading data from https://storage.googleapis.com/tensorflow/tf-keras-datasets/mnist.npz\n",
            "11493376/11490434 [==============================] - 0s 0us/step\n"
          ],
          "name": "stdout"
        },
        {
          "output_type": "execute_result",
          "data": {
            "text/plain": [
              "array([0., 0., 0., 0., 0., 1., 0., 0., 0., 0.], dtype=float32)"
            ]
          },
          "metadata": {
            "tags": []
          },
          "execution_count": 5
        }
      ]
    },
    {
      "cell_type": "markdown",
      "metadata": {
        "id": "4HoTLrfSjymd"
      },
      "source": [
        "#### compile and fit model "
      ]
    },
    {
      "cell_type": "code",
      "metadata": {
        "id": "i23FDtC9jyme",
        "colab": {
          "base_uri": "https://localhost:8080/"
        },
        "outputId": "f2db6692-2004-4c59-8fb4-a58625c9a7d3"
      },
      "source": [
        "model.compile(optimizer='rmsprop', \n",
        "              loss='categorical_crossentropy',\n",
        "              metrics=['accuracy'])\n",
        "history = model.fit(train_images, train_labels, epochs=2, batch_size=64, validation_split=0.2)"
      ],
      "execution_count": 6,
      "outputs": [
        {
          "output_type": "stream",
          "text": [
            "Epoch 1/2\n",
            "750/750 [==============================] - 35s 5ms/step - loss: 0.4447 - accuracy: 0.8552 - val_loss: 0.0894 - val_accuracy: 0.9732\n",
            "Epoch 2/2\n",
            "750/750 [==============================] - 4s 5ms/step - loss: 0.0559 - accuracy: 0.9825 - val_loss: 0.0467 - val_accuracy: 0.9862\n"
          ],
          "name": "stdout"
        }
      ]
    },
    {
      "cell_type": "markdown",
      "metadata": {
        "id": "9zU8iI5ojymg"
      },
      "source": [
        "#### evaluate model"
      ]
    },
    {
      "cell_type": "code",
      "metadata": {
        "id": "Z3VeaL1Njymh",
        "colab": {
          "base_uri": "https://localhost:8080/"
        },
        "outputId": "efa3b9f1-b81e-4174-b33c-9b15f422bd2d"
      },
      "source": [
        "test_loss, test_acc = model.evaluate(test_images, test_labels)\n",
        "test_acc"
      ],
      "execution_count": 7,
      "outputs": [
        {
          "output_type": "stream",
          "text": [
            "313/313 [==============================] - 1s 3ms/step - loss: 0.0358 - accuracy: 0.9876\n"
          ],
          "name": "stdout"
        },
        {
          "output_type": "execute_result",
          "data": {
            "text/plain": [
              "0.9876000285148621"
            ]
          },
          "metadata": {
            "tags": []
          },
          "execution_count": 7
        }
      ]
    },
    {
      "cell_type": "code",
      "metadata": {
        "id": "wXNZOY7Sjymj",
        "colab": {
          "base_uri": "https://localhost:8080/",
          "height": 545
        },
        "outputId": "39577d61-af86-4326-cfe5-35c616487fbd"
      },
      "source": [
        "import matplotlib.pyplot as plt\n",
        "\n",
        "acc = history.history['accuracy']\n",
        "val_acc = history.history['val_accuracy']\n",
        "loss = history.history['loss']\n",
        "val_loss = history.history['val_loss']\n",
        "\n",
        "epochs = range(1, len(acc) + 1)\n",
        "\n",
        "plt.plot(epochs, acc, 'bo', label='Training acc')\n",
        "plt.plot(epochs, val_acc, 'b', label='Validation acc')\n",
        "plt.title('Training and validation accuracy')\n",
        "plt.legend()\n",
        "\n",
        "plt.figure()\n",
        "\n",
        "plt.plot(epochs, loss, 'bo', label='Training loss')\n",
        "plt.plot(epochs, val_loss, 'b', label='Validation loss')\n",
        "plt.title('Training and validation loss')\n",
        "plt.legend()\n",
        "\n",
        "plt.show()"
      ],
      "execution_count": 9,
      "outputs": [
        {
          "output_type": "display_data",
          "data": {
            "image/png": "[encoded data removed]",
            "text/plain": [
              "<Figure size 432x288 with 1 Axes>"
            ]
          },
          "metadata": {
            "tags": [],
            "needs_background": "light"
          }
        },
        {
          "output_type": "display_data",
          "data": {
            "image/png": "[encoded data removed]",
            "text/plain": [
              "<Figure size 432x288 with 1 Axes>"
            ]
          },
          "metadata": {
            "tags": [],
            "needs_background": "light"
          }
        }
      ]
    },
    {
      "cell_type": "markdown",
      "metadata": {
        "id": "dsQMc0Iojyml"
      },
      "source": [
        "## Task 1\n",
        "\n",
        "Change the activation function and other parameters such as optimizer to see the effect on the network and it's performance. If possible create a grid search. "
      ]
    },
    {
      "cell_type": "code",
      "metadata": {
        "id": "owJ-29BrJXNa"
      },
      "source": [
        "# Write code here\n",
        "from sklearn.model_selection import GridSearchCV\n",
        "from sklearn.metrics import make_scorer\n",
        "from sklearn.metrics import accuracy_score\n",
        "from keras.wrappers.scikit_learn import KerasClassifier"
      ],
      "execution_count": 13,
      "outputs": []
    },
    {
      "cell_type": "code",
      "metadata": {
        "id": "LCm68ERFH3cj"
      },
      "source": [
        "def create_model():\n",
        "\t# create model\n",
        "\t\n",
        "  model = models.Sequential()\n",
        "  model.add(layers.Conv2D(32, (3, 3), activation='relu', input_shape=(28, 28, 1)))\n",
        "  model.add(layers.MaxPooling2D((2, 2)))\n",
        "  model.add(layers.Conv2D(64, (3, 3), activation='relu'))\n",
        "  model.add(layers.MaxPooling2D((2, 2)))\n",
        "  model.add(layers.Conv2D(64, (3, 3), activation='relu'))\n",
        "  model.add(layers.Flatten())\n",
        "  model.add(layers.Dense(64, activation='relu'))\n",
        "  model.add(layers.Dense(10, activation='softmax'))\n",
        "\t# Compile model\n",
        "  model.compile(loss='categorical_crossentropy', optimizer='adam', metrics=['accuracy'])\n",
        "  return model\n",
        "\n"
      ],
      "execution_count": 10,
      "outputs": []
    },
    {
      "cell_type": "code",
      "metadata": {
        "colab": {
          "base_uri": "https://localhost:8080/"
        },
        "id": "yPy8VGoWCufM",
        "outputId": "be40b723-339e-4a90-93d3-1fe1dfeda08e"
      },
      "source": [
        "adam_model = create_model()\n",
        "adam_model.fit(train_images,train_labels, epochs=2, batch_size=64, validation_split=0.2)\n",
        "\n",
        "test_loss, test_acc = adam_model.evaluate(test_images, test_labels)\n",
        "test_acc"
      ],
      "execution_count": 18,
      "outputs": [
        {
          "output_type": "stream",
          "text": [
            "Epoch 1/2\n",
            "750/750 [==============================] - 4s 5ms/step - loss: 0.5151 - accuracy: 0.8368 - val_loss: 0.0738 - val_accuracy: 0.9770\n",
            "Epoch 2/2\n",
            "750/750 [==============================] - 3s 5ms/step - loss: 0.0634 - accuracy: 0.9803 - val_loss: 0.0532 - val_accuracy: 0.9840\n",
            "313/313 [==============================] - 1s 3ms/step - loss: 0.0472 - accuracy: 0.9838\n"
          ],
          "name": "stdout"
        },
        {
          "output_type": "execute_result",
          "data": {
            "text/plain": [
              "0.9837999939918518"
            ]
          },
          "metadata": {
            "tags": []
          },
          "execution_count": 18
        }
      ]
    },
    {
      "cell_type": "code",
      "metadata": {
        "colab": {
          "base_uri": "https://localhost:8080/"
        },
        "id": "82YNqSN2KGeR",
        "outputId": "6e017e17-26f4-4f7c-b3da-696614e424a4"
      },
      "source": [
        "# create model\n",
        "model = KerasClassifier(build_fn=create_model, verbose=0)\n",
        "# define the grid search parameters\n",
        "batch_size = [60, 80, 100]\n",
        "epochs = [5,10]\n",
        "param_grid = dict(batch_size=batch_size, epochs=epochs)\n",
        "\n",
        "grid = GridSearchCV(estimator=model, param_grid=param_grid, n_jobs=-1, cv=3)\n",
        "grid_result = grid.fit(train_images,train_labels)\n",
        "\n",
        "# summarize results\n",
        "print(\"Best score : %f obtained using %s\" % (grid_result.best_score_, grid_result.best_params_),\"\\n\")\n",
        "means = grid_result.cv_results_['mean_test_score']\n",
        "stds = grid_result.cv_results_['std_test_score']\n",
        "params = grid_result.cv_results_['params']\n",
        "\n",
        "for mean, stdev, param in zip(means, stds, params):\n",
        "    print(\"%f (%f) with: %r\" % (mean, stdev, param))"
      ],
      "execution_count": 14,
      "outputs": [
        {
          "output_type": "stream",
          "text": [
            "/usr/local/lib/python3.7/dist-packages/joblib/externals/loky/process_executor.py:691: UserWarning: A worker stopped while some jobs were given to the executor. This can be caused by a too short worker timeout or by a memory leak.\n",
            "  \"timeout or by a memory leak.\", UserWarning\n"
          ],
          "name": "stderr"
        },
        {
          "output_type": "stream",
          "text": [
            "Best: 0.988400 using {'batch_size': 60, 'epochs': 10}\n",
            "0.985417 (0.003115) with: {'batch_size': 60, 'epochs': 5}\n",
            "0.988400 (0.000471) with: {'batch_size': 60, 'epochs': 10}\n",
            "0.986450 (0.000860) with: {'batch_size': 80, 'epochs': 5}\n",
            "0.986267 (0.002817) with: {'batch_size': 80, 'epochs': 10}\n",
            "0.986117 (0.001822) with: {'batch_size': 100, 'epochs': 5}\n",
            "0.988267 (0.001043) with: {'batch_size': 100, 'epochs': 10}\n"
          ],
          "name": "stdout"
        }
      ]
    },
    {
      "cell_type": "code",
      "metadata": {
        "colab": {
          "base_uri": "https://localhost:8080/"
        },
        "id": "vfVpxD1wI9vi",
        "outputId": "995831f9-d5d9-4d09-9161-a4cbb20df64e"
      },
      "source": [
        "adam_model2 = create_model()\n",
        "adam_model2.fit(train_images,train_labels, epochs=10, batch_size=60, validation_split=0.2)\n",
        "test_loss, test_acc = adam_model2.evaluate(test_images, test_labels)\n",
        "test_acc"
      ],
      "execution_count": 17,
      "outputs": [
        {
          "output_type": "stream",
          "text": [
            "Epoch 1/10\n",
            "800/800 [==============================] - 4s 4ms/step - loss: 0.4845 - accuracy: 0.8490 - val_loss: 0.0675 - val_accuracy: 0.9799\n",
            "Epoch 2/10\n",
            "800/800 [==============================] - 3s 4ms/step - loss: 0.0666 - accuracy: 0.9791 - val_loss: 0.0524 - val_accuracy: 0.9848\n",
            "Epoch 3/10\n",
            "800/800 [==============================] - 3s 4ms/step - loss: 0.0426 - accuracy: 0.9871 - val_loss: 0.0673 - val_accuracy: 0.9797\n",
            "Epoch 4/10\n",
            "800/800 [==============================] - 3s 4ms/step - loss: 0.0329 - accuracy: 0.9897 - val_loss: 0.0408 - val_accuracy: 0.9881\n",
            "Epoch 5/10\n",
            "800/800 [==============================] - 3s 4ms/step - loss: 0.0249 - accuracy: 0.9921 - val_loss: 0.0364 - val_accuracy: 0.9893\n",
            "Epoch 6/10\n",
            "800/800 [==============================] - 3s 4ms/step - loss: 0.0178 - accuracy: 0.9940 - val_loss: 0.0502 - val_accuracy: 0.9860\n",
            "Epoch 7/10\n",
            "800/800 [==============================] - 3s 4ms/step - loss: 0.0179 - accuracy: 0.9946 - val_loss: 0.0568 - val_accuracy: 0.9854\n",
            "Epoch 8/10\n",
            "800/800 [==============================] - 3s 4ms/step - loss: 0.0149 - accuracy: 0.9952 - val_loss: 0.0395 - val_accuracy: 0.9895\n",
            "Epoch 9/10\n",
            "800/800 [==============================] - 3s 4ms/step - loss: 0.0114 - accuracy: 0.9958 - val_loss: 0.0379 - val_accuracy: 0.9898\n",
            "Epoch 10/10\n",
            "800/800 [==============================] - 3s 4ms/step - loss: 0.0099 - accuracy: 0.9967 - val_loss: 0.0454 - val_accuracy: 0.9885\n",
            "313/313 [==============================] - 1s 3ms/step - loss: 0.0392 - accuracy: 0.9900\n"
          ],
          "name": "stdout"
        },
        {
          "output_type": "execute_result",
          "data": {
            "text/plain": [
              "0.9900000095367432"
            ]
          },
          "metadata": {
            "tags": []
          },
          "execution_count": 17
        }
      ]
    },
    {
      "cell_type": "code",
      "metadata": {
        "colab": {
          "base_uri": "https://localhost:8080/"
        },
        "id": "0lo1ZQVdLdOy",
        "outputId": "def21c00-0587-4ebb-d48e-908ddf883f85"
      },
      "source": [
        "from keras.layers import LeakyReLU\n",
        "activations = ['relu','tanh']\n",
        "\n",
        "for act_function in activations:\n",
        "  print(f\"********** activation function : {act_function} ************** \\n\")\n",
        "  model1 = models.Sequential()\n",
        "  model1.add(layers.Conv2D(32, (3, 3), activation=act_function, input_shape=(28, 28, 1)))\n",
        "  model1.add(layers.MaxPooling2D((2, 2)))\n",
        "  model1.add(layers.Conv2D(64, (3, 3), activation=act_function))\n",
        "  model1.add(layers.MaxPooling2D((2, 2)))\n",
        "  model1.add(layers.Conv2D(64, (3, 3), activation=act_function))\n",
        "  model1.add(layers.Flatten())\n",
        "  model1.add(layers.Dense(64, activation=act_function))\n",
        "  model1.add(layers.Dense(10, activation='softmax'))\n",
        "\n",
        "  # Compile model\n",
        "  optimizers = ['adam','SGD','adaGrad']\n",
        "  for optimizer in optimizers:\n",
        "    print(optimizer, \":\\n\")\n",
        "    model1.compile(loss='categorical_crossentropy', optimizer=optimizer, metrics=['accuracy'])\n",
        "    history = model1.fit(train_images,train_labels, epochs=10, batch_size=60, validation_split=0.2)\n",
        "    print(history,\"\\n\")"
      ],
      "execution_count": 16,
      "outputs": [
        {
          "output_type": "stream",
          "text": [
            "********** activation function : relu ************** \n",
            "\n",
            "adam :\n",
            "\n",
            "Epoch 1/10\n",
            "800/800 [==============================] - 4s 5ms/step - loss: 0.4684 - accuracy: 0.8547 - val_loss: 0.0737 - val_accuracy: 0.9781\n",
            "Epoch 2/10\n",
            "800/800 [==============================] - 3s 4ms/step - loss: 0.0641 - accuracy: 0.9803 - val_loss: 0.0572 - val_accuracy: 0.9837\n",
            "Epoch 3/10\n",
            "800/800 [==============================] - 3s 4ms/step - loss: 0.0434 - accuracy: 0.9861 - val_loss: 0.0422 - val_accuracy: 0.9872\n",
            "Epoch 4/10\n",
            "800/800 [==============================] - 3s 4ms/step - loss: 0.0313 - accuracy: 0.9899 - val_loss: 0.0472 - val_accuracy: 0.9857\n",
            "Epoch 5/10\n",
            "800/800 [==============================] - 3s 4ms/step - loss: 0.0241 - accuracy: 0.9923 - val_loss: 0.0399 - val_accuracy: 0.9892\n",
            "Epoch 6/10\n",
            "800/800 [==============================] - 3s 4ms/step - loss: 0.0168 - accuracy: 0.9946 - val_loss: 0.0507 - val_accuracy: 0.9856\n",
            "Epoch 7/10\n",
            "800/800 [==============================] - 3s 4ms/step - loss: 0.0163 - accuracy: 0.9949 - val_loss: 0.0387 - val_accuracy: 0.9892\n",
            "Epoch 8/10\n",
            "800/800 [==============================] - 3s 4ms/step - loss: 0.0124 - accuracy: 0.9960 - val_loss: 0.0364 - val_accuracy: 0.9905\n",
            "Epoch 9/10\n",
            "800/800 [==============================] - 3s 4ms/step - loss: 0.0094 - accuracy: 0.9968 - val_loss: 0.0404 - val_accuracy: 0.9898\n",
            "Epoch 10/10\n",
            "800/800 [==============================] - 3s 4ms/step - loss: 0.0107 - accuracy: 0.9962 - val_loss: 0.0394 - val_accuracy: 0.9909\n",
            "<tensorflow.python.keras.callbacks.History object at 0x7f0acdd3c590> \n",
            "\n",
            "SGD :\n",
            "\n",
            "Epoch 1/10\n",
            "800/800 [==============================] - 4s 4ms/step - loss: 0.0037 - accuracy: 0.9988 - val_loss: 0.0359 - val_accuracy: 0.9920\n",
            "Epoch 2/10\n",
            "800/800 [==============================] - 3s 4ms/step - loss: 0.0030 - accuracy: 0.9991 - val_loss: 0.0360 - val_accuracy: 0.9920\n",
            "Epoch 3/10\n",
            "800/800 [==============================] - 3s 4ms/step - loss: 0.0024 - accuracy: 0.9994 - val_loss: 0.0358 - val_accuracy: 0.9922\n",
            "Epoch 4/10\n",
            "800/800 [==============================] - 3s 4ms/step - loss: 0.0018 - accuracy: 0.9996 - val_loss: 0.0362 - val_accuracy: 0.9921\n",
            "Epoch 5/10\n",
            "800/800 [==============================] - 3s 4ms/step - loss: 0.0016 - accuracy: 0.9996 - val_loss: 0.0363 - val_accuracy: 0.9923\n",
            "Epoch 6/10\n",
            "800/800 [==============================] - 3s 4ms/step - loss: 0.0018 - accuracy: 0.9995 - val_loss: 0.0367 - val_accuracy: 0.9921\n",
            "Epoch 7/10\n",
            "800/800 [==============================] - 3s 4ms/step - loss: 0.0015 - accuracy: 0.9997 - val_loss: 0.0367 - val_accuracy: 0.9923\n",
            "Epoch 8/10\n",
            "800/800 [==============================] - 3s 4ms/step - loss: 0.0013 - accuracy: 0.9997 - val_loss: 0.0367 - val_accuracy: 0.9922\n",
            "Epoch 9/10\n",
            "800/800 [==============================] - 3s 4ms/step - loss: 0.0010 - accuracy: 0.9997 - val_loss: 0.0372 - val_accuracy: 0.9923\n",
            "Epoch 10/10\n",
            "800/800 [==============================] - 3s 4ms/step - loss: 9.9536e-04 - accuracy: 0.9999 - val_loss: 0.0372 - val_accuracy: 0.9922\n",
            "<tensorflow.python.keras.callbacks.History object at 0x7f0acdbaa990> \n",
            "\n",
            "adaGrad :\n",
            "\n",
            "Epoch 1/10\n",
            "800/800 [==============================] - 4s 4ms/step - loss: 8.7792e-04 - accuracy: 0.9999 - val_loss: 0.0374 - val_accuracy: 0.9922\n",
            "Epoch 2/10\n",
            "800/800 [==============================] - 3s 4ms/step - loss: 9.7789e-04 - accuracy: 0.9999 - val_loss: 0.0374 - val_accuracy: 0.9923\n",
            "Epoch 3/10\n",
            "800/800 [==============================] - 3s 4ms/step - loss: 9.8758e-04 - accuracy: 0.9999 - val_loss: 0.0375 - val_accuracy: 0.9924\n",
            "Epoch 4/10\n",
            "800/800 [==============================] - 3s 4ms/step - loss: 0.0010 - accuracy: 0.9998 - val_loss: 0.0376 - val_accuracy: 0.9923\n",
            "Epoch 5/10\n",
            "800/800 [==============================] - 3s 4ms/step - loss: 9.0728e-04 - accuracy: 0.9998 - val_loss: 0.0376 - val_accuracy: 0.9923\n",
            "Epoch 6/10\n",
            "800/800 [==============================] - 3s 4ms/step - loss: 0.0010 - accuracy: 0.9998 - val_loss: 0.0377 - val_accuracy: 0.9923\n",
            "Epoch 7/10\n",
            "800/800 [==============================] - 3s 4ms/step - loss: 0.0012 - accuracy: 0.9997 - val_loss: 0.0378 - val_accuracy: 0.9924\n",
            "Epoch 8/10\n",
            "800/800 [==============================] - 3s 4ms/step - loss: 8.6523e-04 - accuracy: 0.9999 - val_loss: 0.0378 - val_accuracy: 0.9924\n",
            "Epoch 9/10\n",
            "800/800 [==============================] - 4s 4ms/step - loss: 0.0010 - accuracy: 0.9998 - val_loss: 0.0379 - val_accuracy: 0.9924\n",
            "Epoch 10/10\n",
            "800/800 [==============================] - 3s 4ms/step - loss: 9.4110e-04 - accuracy: 0.9999 - val_loss: 0.0380 - val_accuracy: 0.9924\n",
            "<tensorflow.python.keras.callbacks.History object at 0x7f0acca28650> \n",
            "\n",
            "********** activation function : tanh ************** \n",
            "\n",
            "adam :\n",
            "\n",
            "Epoch 1/10\n",
            "800/800 [==============================] - 4s 5ms/step - loss: 0.4177 - accuracy: 0.8740 - val_loss: 0.0628 - val_accuracy: 0.9822\n",
            "Epoch 2/10\n",
            "800/800 [==============================] - 3s 4ms/step - loss: 0.0584 - accuracy: 0.9820 - val_loss: 0.0557 - val_accuracy: 0.9838\n",
            "Epoch 3/10\n",
            "800/800 [==============================] - 3s 4ms/step - loss: 0.0386 - accuracy: 0.9882 - val_loss: 0.0478 - val_accuracy: 0.9865\n",
            "Epoch 4/10\n",
            "800/800 [==============================] - 3s 4ms/step - loss: 0.0280 - accuracy: 0.9908 - val_loss: 0.0496 - val_accuracy: 0.9862\n",
            "Epoch 5/10\n",
            "800/800 [==============================] - 3s 4ms/step - loss: 0.0192 - accuracy: 0.9943 - val_loss: 0.0462 - val_accuracy: 0.9864\n",
            "Epoch 6/10\n",
            "800/800 [==============================] - 3s 4ms/step - loss: 0.0149 - accuracy: 0.9957 - val_loss: 0.0395 - val_accuracy: 0.9887\n",
            "Epoch 7/10\n",
            "800/800 [==============================] - 3s 4ms/step - loss: 0.0146 - accuracy: 0.9955 - val_loss: 0.0390 - val_accuracy: 0.9885\n",
            "Epoch 8/10\n",
            "800/800 [==============================] - 3s 4ms/step - loss: 0.0120 - accuracy: 0.9967 - val_loss: 0.0394 - val_accuracy: 0.9891\n",
            "Epoch 9/10\n",
            "800/800 [==============================] - 3s 4ms/step - loss: 0.0101 - accuracy: 0.9970 - val_loss: 0.0429 - val_accuracy: 0.9878\n",
            "Epoch 10/10\n",
            "800/800 [==============================] - 3s 4ms/step - loss: 0.0064 - accuracy: 0.9984 - val_loss: 0.0419 - val_accuracy: 0.9885\n",
            "<tensorflow.python.keras.callbacks.History object at 0x7f0aca86d710> \n",
            "\n",
            "SGD :\n",
            "\n",
            "Epoch 1/10\n",
            "800/800 [==============================] - 4s 4ms/step - loss: 0.0050 - accuracy: 0.9986 - val_loss: 0.0373 - val_accuracy: 0.9898\n",
            "Epoch 2/10\n",
            "800/800 [==============================] - 3s 4ms/step - loss: 0.0033 - accuracy: 0.9995 - val_loss: 0.0367 - val_accuracy: 0.9900\n",
            "Epoch 3/10\n",
            "800/800 [==============================] - 3s 4ms/step - loss: 0.0035 - accuracy: 0.9995 - val_loss: 0.0365 - val_accuracy: 0.9902\n",
            "Epoch 4/10\n",
            "800/800 [==============================] - 3s 4ms/step - loss: 0.0026 - accuracy: 0.9997 - val_loss: 0.0362 - val_accuracy: 0.9902\n",
            "Epoch 5/10\n",
            "800/800 [==============================] - 3s 4ms/step - loss: 0.0030 - accuracy: 0.9995 - val_loss: 0.0358 - val_accuracy: 0.9905\n",
            "Epoch 6/10\n",
            "800/800 [==============================] - 3s 4ms/step - loss: 0.0025 - accuracy: 0.9997 - val_loss: 0.0357 - val_accuracy: 0.9904\n",
            "Epoch 7/10\n",
            "800/800 [==============================] - 3s 4ms/step - loss: 0.0021 - accuracy: 0.9998 - val_loss: 0.0356 - val_accuracy: 0.9904\n",
            "Epoch 8/10\n",
            "800/800 [==============================] - 3s 4ms/step - loss: 0.0022 - accuracy: 0.9998 - val_loss: 0.0355 - val_accuracy: 0.9907\n",
            "Epoch 9/10\n",
            "800/800 [==============================] - 3s 4ms/step - loss: 0.0021 - accuracy: 0.9998 - val_loss: 0.0354 - val_accuracy: 0.9907\n",
            "Epoch 10/10\n",
            "800/800 [==============================] - 3s 4ms/step - loss: 0.0021 - accuracy: 0.9999 - val_loss: 0.0355 - val_accuracy: 0.9904\n",
            "<tensorflow.python.keras.callbacks.History object at 0x7f0ad5e74510> \n",
            "\n",
            "adaGrad :\n",
            "\n",
            "Epoch 1/10\n",
            "800/800 [==============================] - 4s 4ms/step - loss: 0.0018 - accuracy: 0.9999 - val_loss: 0.0354 - val_accuracy: 0.9907\n",
            "Epoch 2/10\n",
            "800/800 [==============================] - 3s 4ms/step - loss: 0.0018 - accuracy: 0.9999 - val_loss: 0.0353 - val_accuracy: 0.9908\n",
            "Epoch 3/10\n",
            "800/800 [==============================] - 3s 4ms/step - loss: 0.0018 - accuracy: 0.9999 - val_loss: 0.0353 - val_accuracy: 0.9907\n",
            "Epoch 4/10\n",
            "800/800 [==============================] - 3s 4ms/step - loss: 0.0018 - accuracy: 0.9998 - val_loss: 0.0353 - val_accuracy: 0.9908\n",
            "Epoch 5/10\n",
            "800/800 [==============================] - 3s 4ms/step - loss: 0.0019 - accuracy: 0.9998 - val_loss: 0.0353 - val_accuracy: 0.9908\n",
            "Epoch 6/10\n",
            "800/800 [==============================] - 3s 4ms/step - loss: 0.0018 - accuracy: 0.9998 - val_loss: 0.0353 - val_accuracy: 0.9908\n",
            "Epoch 7/10\n",
            "800/800 [==============================] - 3s 4ms/step - loss: 0.0018 - accuracy: 0.9998 - val_loss: 0.0352 - val_accuracy: 0.9908\n",
            "Epoch 8/10\n",
            "800/800 [==============================] - 3s 4ms/step - loss: 0.0016 - accuracy: 0.9999 - val_loss: 0.0352 - val_accuracy: 0.9908\n",
            "Epoch 9/10\n",
            "800/800 [==============================] - 3s 4ms/step - loss: 0.0017 - accuracy: 0.9999 - val_loss: 0.0352 - val_accuracy: 0.9908\n",
            "Epoch 10/10\n",
            "800/800 [==============================] - 3s 4ms/step - loss: 0.0017 - accuracy: 0.9998 - val_loss: 0.0352 - val_accuracy: 0.9908\n",
            "<tensorflow.python.keras.callbacks.History object at 0x7f0b6410b090> \n",
            "\n"
          ],
          "name": "stdout"
        }
      ]
    },
    {
      "cell_type": "code",
      "metadata": {
        "colab": {
          "base_uri": "https://localhost:8080/"
        },
        "id": "ZAJenfb3KaaR",
        "outputId": "5cab11bd-6845-44fe-f864-cb3b5c74a0f2"
      },
      "source": [
        "model1 = models.Sequential()\n",
        "model1.add(layers.Conv2D(32, (3, 3), activation='relu', input_shape=(28, 28, 1)))\n",
        "model1.add(layers.MaxPooling2D((2, 2)))\n",
        "model1.add(layers.Conv2D(64, (3, 3), activation='relu'))\n",
        "model1.add(layers.MaxPooling2D((2, 2)))\n",
        "model1.add(layers.Conv2D(64, (3, 3), activation='relu'))\n",
        "model1.add(layers.Flatten())\n",
        "model1.add(layers.Dense(64, activation=act_function))\n",
        "model1.add(layers.Dense(10, activation='softmax'))\n",
        "\n",
        "model1.compile(loss='categorical_crossentropy', optimizer='SGD', metrics=['accuracy'])\n",
        "model1.fit(train_images,train_labels, epochs=10, batch_size=60, validation_split=0.2)"
      ],
      "execution_count": 22,
      "outputs": [
        {
          "output_type": "stream",
          "text": [
            "Epoch 1/10\n",
            "800/800 [==============================] - 4s 4ms/step - loss: 1.5017 - accuracy: 0.5780 - val_loss: 0.3016 - val_accuracy: 0.9145\n",
            "Epoch 2/10\n",
            "800/800 [==============================] - 3s 4ms/step - loss: 0.2905 - accuracy: 0.9179 - val_loss: 0.2022 - val_accuracy: 0.9435\n",
            "Epoch 3/10\n",
            "800/800 [==============================] - 3s 4ms/step - loss: 0.1958 - accuracy: 0.9438 - val_loss: 0.1509 - val_accuracy: 0.9588\n",
            "Epoch 4/10\n",
            "800/800 [==============================] - 3s 4ms/step - loss: 0.1506 - accuracy: 0.9565 - val_loss: 0.1227 - val_accuracy: 0.9671\n",
            "Epoch 5/10\n",
            "800/800 [==============================] - 3s 4ms/step - loss: 0.1225 - accuracy: 0.9651 - val_loss: 0.1101 - val_accuracy: 0.9696\n",
            "Epoch 6/10\n",
            "800/800 [==============================] - 3s 4ms/step - loss: 0.1038 - accuracy: 0.9716 - val_loss: 0.0965 - val_accuracy: 0.9727\n",
            "Epoch 7/10\n",
            "800/800 [==============================] - 3s 4ms/step - loss: 0.0923 - accuracy: 0.9726 - val_loss: 0.0888 - val_accuracy: 0.9741\n",
            "Epoch 8/10\n",
            "800/800 [==============================] - 3s 4ms/step - loss: 0.0848 - accuracy: 0.9745 - val_loss: 0.0780 - val_accuracy: 0.9768\n",
            "Epoch 9/10\n",
            "800/800 [==============================] - 3s 4ms/step - loss: 0.0717 - accuracy: 0.9791 - val_loss: 0.0794 - val_accuracy: 0.9752\n",
            "Epoch 10/10\n",
            "800/800 [==============================] - 3s 4ms/step - loss: 0.0715 - accuracy: 0.9791 - val_loss: 0.0715 - val_accuracy: 0.9778\n"
          ],
          "name": "stdout"
        },
        {
          "output_type": "execute_result",
          "data": {
            "text/plain": [
              "<tensorflow.python.keras.callbacks.History at 0x7f0acff785d0>"
            ]
          },
          "metadata": {
            "tags": []
          },
          "execution_count": 22
        }
      ]
    },
    {
      "cell_type": "code",
      "metadata": {
        "id": "tLIoA9wvL2kb",
        "colab": {
          "base_uri": "https://localhost:8080/"
        },
        "outputId": "b29c5642-f2d0-46d8-b4d7-8064ced5ba38"
      },
      "source": [
        "test_loss, test_acc = model1.evaluate(test_images, test_labels)\n",
        "test_acc"
      ],
      "execution_count": 23,
      "outputs": [
        {
          "output_type": "stream",
          "text": [
            "313/313 [==============================] - 1s 3ms/step - loss: 0.0634 - accuracy: 0.9828\n"
          ],
          "name": "stdout"
        },
        {
          "output_type": "execute_result",
          "data": {
            "text/plain": [
              "0.9828000068664551"
            ]
          },
          "metadata": {
            "tags": []
          },
          "execution_count": 23
        }
      ]
    }
  ]
}