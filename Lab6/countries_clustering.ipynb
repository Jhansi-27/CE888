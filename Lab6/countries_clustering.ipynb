{
  "nbformat": 4,
  "nbformat_minor": 0,
  "metadata": {
    "colab": {
      "name": "countries_clustering.ipynb",
      "provenance": []
    },
    "kernelspec": {
      "name": "python3",
      "display_name": "Python 3"
    }
  },
  "cells": [
    {
      "cell_type": "code",
      "metadata": {
        "id": "YupzNHydwEMh"
      },
      "source": [
        "import pandas as pd\n",
        "import numpy as np\n",
        "import matplotlib.pyplot as plt\n",
        "from sklearn.cluster import KMeans\n",
        "from sklearn import cluster, datasets, metrics\n",
        "#Importing PCA\n",
        "from sklearn.decomposition import PCA"
      ],
      "execution_count": 15,
      "outputs": []
    },
    {
      "cell_type": "code",
      "metadata": {
        "colab": {
          "base_uri": "https://localhost:8080/",
          "height": 195
        },
        "id": "i4k1uTdiwUFn",
        "outputId": "ac9c452f-35aa-43f4-eb6a-1ecfde70dc9f"
      },
      "source": [
        "# loading the countries data\n",
        "data = pd.read_csv(\"https://raw.githubusercontent.com/sagihaider/CE888_2021/main/Lab_6/Data/Country-data.csv\")\n",
        "data.head()"
      ],
      "execution_count": 132,
      "outputs": [
        {
          "output_type": "execute_result",
          "data": {
            "text/html": [
              "<div>\n",
              "<style scoped>\n",
              "    .dataframe tbody tr th:only-of-type {\n",
              "        vertical-align: middle;\n",
              "    }\n",
              "\n",
              "    .dataframe tbody tr th {\n",
              "        vertical-align: top;\n",
              "    }\n",
              "\n",
              "    .dataframe thead th {\n",
              "        text-align: right;\n",
              "    }\n",
              "</style>\n",
              "<table border=\"1\" class=\"dataframe\">\n",
              "  <thead>\n",
              "    <tr style=\"text-align: right;\">\n",
              "      <th></th>\n",
              "      <th>country</th>\n",
              "      <th>child_mort</th>\n",
              "      <th>exports</th>\n",
              "      <th>health</th>\n",
              "      <th>imports</th>\n",
              "      <th>income</th>\n",
              "      <th>inflation</th>\n",
              "      <th>life_expec</th>\n",
              "      <th>total_fer</th>\n",
              "      <th>gdpp</th>\n",
              "    </tr>\n",
              "  </thead>\n",
              "  <tbody>\n",
              "    <tr>\n",
              "      <th>0</th>\n",
              "      <td>Afghanistan</td>\n",
              "      <td>90.2</td>\n",
              "      <td>10.0</td>\n",
              "      <td>7.58</td>\n",
              "      <td>44.9</td>\n",
              "      <td>1610</td>\n",
              "      <td>9.44</td>\n",
              "      <td>56.2</td>\n",
              "      <td>5.82</td>\n",
              "      <td>553</td>\n",
              "    </tr>\n",
              "    <tr>\n",
              "      <th>1</th>\n",
              "      <td>Albania</td>\n",
              "      <td>16.6</td>\n",
              "      <td>28.0</td>\n",
              "      <td>6.55</td>\n",
              "      <td>48.6</td>\n",
              "      <td>9930</td>\n",
              "      <td>4.49</td>\n",
              "      <td>76.3</td>\n",
              "      <td>1.65</td>\n",
              "      <td>4090</td>\n",
              "    </tr>\n",
              "    <tr>\n",
              "      <th>2</th>\n",
              "      <td>Algeria</td>\n",
              "      <td>27.3</td>\n",
              "      <td>38.4</td>\n",
              "      <td>4.17</td>\n",
              "      <td>31.4</td>\n",
              "      <td>12900</td>\n",
              "      <td>16.10</td>\n",
              "      <td>76.5</td>\n",
              "      <td>2.89</td>\n",
              "      <td>4460</td>\n",
              "    </tr>\n",
              "    <tr>\n",
              "      <th>3</th>\n",
              "      <td>Angola</td>\n",
              "      <td>119.0</td>\n",
              "      <td>62.3</td>\n",
              "      <td>2.85</td>\n",
              "      <td>42.9</td>\n",
              "      <td>5900</td>\n",
              "      <td>22.40</td>\n",
              "      <td>60.1</td>\n",
              "      <td>6.16</td>\n",
              "      <td>3530</td>\n",
              "    </tr>\n",
              "    <tr>\n",
              "      <th>4</th>\n",
              "      <td>Antigua and Barbuda</td>\n",
              "      <td>10.3</td>\n",
              "      <td>45.5</td>\n",
              "      <td>6.03</td>\n",
              "      <td>58.9</td>\n",
              "      <td>19100</td>\n",
              "      <td>1.44</td>\n",
              "      <td>76.8</td>\n",
              "      <td>2.13</td>\n",
              "      <td>12200</td>\n",
              "    </tr>\n",
              "  </tbody>\n",
              "</table>\n",
              "</div>"
            ],
            "text/plain": [
              "               country  child_mort  exports  ...  life_expec  total_fer   gdpp\n",
              "0          Afghanistan        90.2     10.0  ...        56.2       5.82    553\n",
              "1              Albania        16.6     28.0  ...        76.3       1.65   4090\n",
              "2              Algeria        27.3     38.4  ...        76.5       2.89   4460\n",
              "3               Angola       119.0     62.3  ...        60.1       6.16   3530\n",
              "4  Antigua and Barbuda        10.3     45.5  ...        76.8       2.13  12200\n",
              "\n",
              "[5 rows x 10 columns]"
            ]
          },
          "metadata": {
            "tags": []
          },
          "execution_count": 132
        }
      ]
    },
    {
      "cell_type": "code",
      "metadata": {
        "colab": {
          "base_uri": "https://localhost:8080/"
        },
        "id": "1ZxrAY4azJFw",
        "outputId": "254ee89d-af7b-4487-bfe1-02c5ac616956"
      },
      "source": [
        "data.shape # has 167 rows and 10 columns"
      ],
      "execution_count": 133,
      "outputs": [
        {
          "output_type": "execute_result",
          "data": {
            "text/plain": [
              "(167, 10)"
            ]
          },
          "metadata": {
            "tags": []
          },
          "execution_count": 133
        }
      ]
    },
    {
      "cell_type": "code",
      "metadata": {
        "colab": {
          "base_uri": "https://localhost:8080/"
        },
        "id": "hGn5Ec_B0TpE",
        "outputId": "4308c9b3-380a-49b3-82f7-cad2c31774a2"
      },
      "source": [
        "data.info() # there are no missing values"
      ],
      "execution_count": 154,
      "outputs": [
        {
          "output_type": "stream",
          "text": [
            "<class 'pandas.core.frame.DataFrame'>\n",
            "RangeIndex: 167 entries, 0 to 166\n",
            "Data columns (total 11 columns):\n",
            " #   Column      Non-Null Count  Dtype  \n",
            "---  ------      --------------  -----  \n",
            " 0   country     167 non-null    object \n",
            " 1   child_mort  167 non-null    float64\n",
            " 2   exports     167 non-null    float64\n",
            " 3   health      167 non-null    float64\n",
            " 4   imports     167 non-null    float64\n",
            " 5   income      167 non-null    int64  \n",
            " 6   inflation   167 non-null    float64\n",
            " 7   life_expec  167 non-null    float64\n",
            " 8   total_fer   167 non-null    float64\n",
            " 9   gdpp        167 non-null    int64  \n",
            " 10  Category    167 non-null    object \n",
            "dtypes: float64(7), int64(2), object(2)\n",
            "memory usage: 14.5+ KB\n"
          ],
          "name": "stdout"
        }
      ]
    },
    {
      "cell_type": "code",
      "metadata": {
        "colab": {
          "base_uri": "https://localhost:8080/"
        },
        "id": "JapYChp6zAwr",
        "outputId": "1c7d1b4b-a198-4a68-e579-3ff9255a469c"
      },
      "source": [
        "data.country.nunique() # There are 167 countries"
      ],
      "execution_count": null,
      "outputs": [
        {
          "output_type": "execute_result",
          "data": {
            "text/plain": [
              "167"
            ]
          },
          "metadata": {
            "tags": []
          },
          "execution_count": 15
        }
      ]
    },
    {
      "cell_type": "code",
      "metadata": {
        "colab": {
          "base_uri": "https://localhost:8080/",
          "height": 343
        },
        "id": "VpzYwDnJjs2f",
        "outputId": "77248a5c-ab7d-4330-8edd-8de893cf1438"
      },
      "source": [
        "# description of columns for countries data\n",
        "data_dictionary = pd.read_csv(\"https://raw.githubusercontent.com/sagihaider/CE888_2021/main/Lab_6/Data/data-dictionary.csv\")\n",
        "data_dictionary"
      ],
      "execution_count": 3,
      "outputs": [
        {
          "output_type": "execute_result",
          "data": {
            "text/html": [
              "<div>\n",
              "<style scoped>\n",
              "    .dataframe tbody tr th:only-of-type {\n",
              "        vertical-align: middle;\n",
              "    }\n",
              "\n",
              "    .dataframe tbody tr th {\n",
              "        vertical-align: top;\n",
              "    }\n",
              "\n",
              "    .dataframe thead th {\n",
              "        text-align: right;\n",
              "    }\n",
              "</style>\n",
              "<table border=\"1\" class=\"dataframe\">\n",
              "  <thead>\n",
              "    <tr style=\"text-align: right;\">\n",
              "      <th></th>\n",
              "      <th>Column Name</th>\n",
              "      <th>Description</th>\n",
              "    </tr>\n",
              "  </thead>\n",
              "  <tbody>\n",
              "    <tr>\n",
              "      <th>0</th>\n",
              "      <td>country</td>\n",
              "      <td>Name of the country</td>\n",
              "    </tr>\n",
              "    <tr>\n",
              "      <th>1</th>\n",
              "      <td>child_mort</td>\n",
              "      <td>Death of children under 5 years of age per 100...</td>\n",
              "    </tr>\n",
              "    <tr>\n",
              "      <th>2</th>\n",
              "      <td>exports</td>\n",
              "      <td>Exports of goods and services per capita. Give...</td>\n",
              "    </tr>\n",
              "    <tr>\n",
              "      <th>3</th>\n",
              "      <td>health</td>\n",
              "      <td>Total health spending per capita. Given as %ag...</td>\n",
              "    </tr>\n",
              "    <tr>\n",
              "      <th>4</th>\n",
              "      <td>imports</td>\n",
              "      <td>Imports of goods and services per capita. Give...</td>\n",
              "    </tr>\n",
              "    <tr>\n",
              "      <th>5</th>\n",
              "      <td>Income</td>\n",
              "      <td>Net income per person</td>\n",
              "    </tr>\n",
              "    <tr>\n",
              "      <th>6</th>\n",
              "      <td>Inflation</td>\n",
              "      <td>The measurement of the annual growth rate of t...</td>\n",
              "    </tr>\n",
              "    <tr>\n",
              "      <th>7</th>\n",
              "      <td>life_expec</td>\n",
              "      <td>The average number of years a new born child w...</td>\n",
              "    </tr>\n",
              "    <tr>\n",
              "      <th>8</th>\n",
              "      <td>total_fer</td>\n",
              "      <td>The number of children that would be born to e...</td>\n",
              "    </tr>\n",
              "    <tr>\n",
              "      <th>9</th>\n",
              "      <td>gdpp</td>\n",
              "      <td>The GDP per capita. Calculated as the Total GD...</td>\n",
              "    </tr>\n",
              "  </tbody>\n",
              "</table>\n",
              "</div>"
            ],
            "text/plain": [
              "  Column Name                                        Description\n",
              "0     country                                Name of the country\n",
              "1  child_mort  Death of children under 5 years of age per 100...\n",
              "2     exports  Exports of goods and services per capita. Give...\n",
              "3      health  Total health spending per capita. Given as %ag...\n",
              "4     imports  Imports of goods and services per capita. Give...\n",
              "5      Income                              Net income per person\n",
              "6   Inflation  The measurement of the annual growth rate of t...\n",
              "7  life_expec  The average number of years a new born child w...\n",
              "8   total_fer  The number of children that would be born to e...\n",
              "9        gdpp  The GDP per capita. Calculated as the Total GD..."
            ]
          },
          "metadata": {
            "tags": []
          },
          "execution_count": 3
        }
      ]
    },
    {
      "cell_type": "code",
      "metadata": {
        "id": "rv42KIjlDtq0",
        "colab": {
          "base_uri": "https://localhost:8080/",
          "height": 350
        },
        "outputId": "43095a42-e300-48e4-cc34-9b42ba6c74c4"
      },
      "source": [
        "# plotting life expectancy vs gdpp\n",
        "plt.figure(figsize=(8,5))\n",
        "plt.grid(True)\n",
        "plt.scatter(data.life_expec,data.gdpp)\n",
        "plt.title('life expectancy vs gdpp')\n",
        "plt.xlabel('life expectancy')\n",
        "plt.ylabel('gdpp')\n",
        "plt.show()"
      ],
      "execution_count": 7,
      "outputs": [
        {
          "output_type": "display_data",
          "data": {
            "image/png": "[encoded data removed]",
            "text/plain": [
              "<Figure size 576x360 with 1 Axes>"
            ]
          },
          "metadata": {
            "tags": [],
            "needs_background": "light"
          }
        }
      ]
    },
    {
      "cell_type": "markdown",
      "metadata": {
        "id": "vtJeZb9z0fCo"
      },
      "source": [
        "**k-means clustering with number of clusters =3**"
      ]
    },
    {
      "cell_type": "code",
      "metadata": {
        "colab": {
          "base_uri": "https://localhost:8080/",
          "height": 136
        },
        "id": "zUQGWh-TynXA",
        "outputId": "a3e3c77b-b052-423a-a29b-3a9574766eb7"
      },
      "source": [
        "# removing countries column as it's not significant for prediction\n",
        "\n",
        "data_for_clustering = data.iloc[:,1:]\n",
        "data_for_clustering.head(3)\n"
      ],
      "execution_count": 134,
      "outputs": [
        {
          "output_type": "execute_result",
          "data": {
            "text/html": [
              "<div>\n",
              "<style scoped>\n",
              "    .dataframe tbody tr th:only-of-type {\n",
              "        vertical-align: middle;\n",
              "    }\n",
              "\n",
              "    .dataframe tbody tr th {\n",
              "        vertical-align: top;\n",
              "    }\n",
              "\n",
              "    .dataframe thead th {\n",
              "        text-align: right;\n",
              "    }\n",
              "</style>\n",
              "<table border=\"1\" class=\"dataframe\">\n",
              "  <thead>\n",
              "    <tr style=\"text-align: right;\">\n",
              "      <th></th>\n",
              "      <th>child_mort</th>\n",
              "      <th>exports</th>\n",
              "      <th>health</th>\n",
              "      <th>imports</th>\n",
              "      <th>income</th>\n",
              "      <th>inflation</th>\n",
              "      <th>life_expec</th>\n",
              "      <th>total_fer</th>\n",
              "      <th>gdpp</th>\n",
              "    </tr>\n",
              "  </thead>\n",
              "  <tbody>\n",
              "    <tr>\n",
              "      <th>0</th>\n",
              "      <td>90.2</td>\n",
              "      <td>10.0</td>\n",
              "      <td>7.58</td>\n",
              "      <td>44.9</td>\n",
              "      <td>1610</td>\n",
              "      <td>9.44</td>\n",
              "      <td>56.2</td>\n",
              "      <td>5.82</td>\n",
              "      <td>553</td>\n",
              "    </tr>\n",
              "    <tr>\n",
              "      <th>1</th>\n",
              "      <td>16.6</td>\n",
              "      <td>28.0</td>\n",
              "      <td>6.55</td>\n",
              "      <td>48.6</td>\n",
              "      <td>9930</td>\n",
              "      <td>4.49</td>\n",
              "      <td>76.3</td>\n",
              "      <td>1.65</td>\n",
              "      <td>4090</td>\n",
              "    </tr>\n",
              "    <tr>\n",
              "      <th>2</th>\n",
              "      <td>27.3</td>\n",
              "      <td>38.4</td>\n",
              "      <td>4.17</td>\n",
              "      <td>31.4</td>\n",
              "      <td>12900</td>\n",
              "      <td>16.10</td>\n",
              "      <td>76.5</td>\n",
              "      <td>2.89</td>\n",
              "      <td>4460</td>\n",
              "    </tr>\n",
              "  </tbody>\n",
              "</table>\n",
              "</div>"
            ],
            "text/plain": [
              "   child_mort  exports  health  imports  ...  inflation  life_expec  total_fer  gdpp\n",
              "0        90.2     10.0    7.58     44.9  ...       9.44        56.2       5.82   553\n",
              "1        16.6     28.0    6.55     48.6  ...       4.49        76.3       1.65  4090\n",
              "2        27.3     38.4    4.17     31.4  ...      16.10        76.5       2.89  4460\n",
              "\n",
              "[3 rows x 9 columns]"
            ]
          },
          "metadata": {
            "tags": []
          },
          "execution_count": 134
        }
      ]
    },
    {
      "cell_type": "code",
      "metadata": {
        "colab": {
          "base_uri": "https://localhost:8080/"
        },
        "id": "GRKWNbnClLsn",
        "outputId": "ea33486c-2745-401b-afeb-c47b41b0ce6d"
      },
      "source": [
        "# K-means clustering with cluster number  = 3\n",
        "km = KMeans(n_clusters=3)\n",
        "km.fit(data_for_clustering) \n",
        "predictions = km.labels_\n",
        "predictions"
      ],
      "execution_count": 135,
      "outputs": [
        {
          "output_type": "execute_result",
          "data": {
            "text/plain": [
              "array([0, 0, 0, 0, 0, 0, 0, 1, 1, 0, 1, 1, 0, 0, 0, 1, 0, 0, 0, 0, 0, 0,\n",
              "       0, 2, 0, 0, 0, 0, 0, 1, 0, 0, 0, 0, 0, 0, 0, 0, 0, 0, 0, 0, 1, 1,\n",
              "       1, 0, 0, 0, 0, 1, 0, 0, 0, 1, 1, 0, 0, 0, 1, 0, 1, 0, 0, 0, 0, 0,\n",
              "       0, 0, 1, 0, 0, 0, 0, 1, 1, 1, 0, 1, 0, 0, 0, 0, 2, 0, 0, 0, 0, 0,\n",
              "       0, 0, 0, 2, 0, 0, 0, 0, 0, 0, 1, 0, 0, 0, 0, 0, 0, 0, 0, 0, 0, 0,\n",
              "       1, 1, 0, 0, 2, 1, 0, 0, 0, 0, 0, 0, 1, 2, 0, 0, 0, 0, 1, 0, 0, 0,\n",
              "       0, 2, 0, 1, 0, 0, 1, 1, 0, 0, 0, 0, 1, 2, 0, 0, 0, 0, 0, 0, 0, 0,\n",
              "       0, 0, 0, 1, 1, 1, 0, 0, 0, 0, 0, 0, 0], dtype=int32)"
            ]
          },
          "metadata": {
            "tags": []
          },
          "execution_count": 135
        }
      ]
    },
    {
      "cell_type": "code",
      "metadata": {
        "colab": {
          "base_uri": "https://localhost:8080/"
        },
        "id": "aqHWFrLP2pQX",
        "outputId": "29d0c3fe-aac5-4c55-ee08-22c73d39bbeb"
      },
      "source": [
        "pd.Series(predictions).value_counts() # checking the number of countires in each cluster"
      ],
      "execution_count": 100,
      "outputs": [
        {
          "output_type": "execute_result",
          "data": {
            "text/plain": [
              "1    128\n",
              "0     32\n",
              "2      7\n",
              "dtype: int64"
            ]
          },
          "metadata": {
            "tags": []
          },
          "execution_count": 100
        }
      ]
    },
    {
      "cell_type": "code",
      "metadata": {
        "colab": {
          "base_uri": "https://localhost:8080/"
        },
        "id": "O6Bv5fmvz3pv",
        "outputId": "53163e4d-271e-4c1f-a0c6-34087b5250b0"
      },
      "source": [
        "print(\"Silhouette Coefficient: %0.3f\"\n",
        "      % metrics.silhouette_score(data.iloc[:,1:], km.labels_)) "
      ],
      "execution_count": 101,
      "outputs": [
        {
          "output_type": "stream",
          "text": [
            "Silhouette Coefficient: 0.700\n"
          ],
          "name": "stdout"
        }
      ]
    },
    {
      "cell_type": "code",
      "metadata": {
        "colab": {
          "base_uri": "https://localhost:8080/",
          "height": 320
        },
        "id": "QqBgw-B82E9s",
        "outputId": "d08f74e4-d67b-4601-fcd4-832e9635bd9f"
      },
      "source": [
        "# plotting the life expectancy vs gdpp using predicted labels as markers\n",
        "plt.figure(figsize=(8,5))\n",
        "plt.grid(True)\n",
        "plt.scatter(data.life_expec,data.gdpp,c=km.labels_)\n",
        "plt.show()"
      ],
      "execution_count": 102,
      "outputs": [
        {
          "output_type": "display_data",
          "data": {
            "image/png": "[encoded data removed]",
            "text/plain": [
              "<Figure size 576x360 with 1 Axes>"
            ]
          },
          "metadata": {
            "tags": [],
            "needs_background": "light"
          }
        }
      ]
    },
    {
      "cell_type": "code",
      "metadata": {
        "id": "9F7Jb7RNq9_y"
      },
      "source": [
        "# There are 3 clusters but the cluster boundaries are not clear and some data points in green and purple clusters are mixed, similarly some yellow data points are in purple cluster"
      ],
      "execution_count": null,
      "outputs": []
    },
    {
      "cell_type": "code",
      "metadata": {
        "colab": {
          "base_uri": "https://localhost:8080/",
          "height": 402
        },
        "id": "SiUPljfP8Mqh",
        "outputId": "affd1306-f837-4cc5-e157-265cf76ac975"
      },
      "source": [
        "data['predicted_class']  = predictions # adding new columns with predicted labels to original data frame\n",
        "data"
      ],
      "execution_count": 136,
      "outputs": [
        {
          "output_type": "execute_result",
          "data": {
            "text/html": [
              "<div>\n",
              "<style scoped>\n",
              "    .dataframe tbody tr th:only-of-type {\n",
              "        vertical-align: middle;\n",
              "    }\n",
              "\n",
              "    .dataframe tbody tr th {\n",
              "        vertical-align: top;\n",
              "    }\n",
              "\n",
              "    .dataframe thead th {\n",
              "        text-align: right;\n",
              "    }\n",
              "</style>\n",
              "<table border=\"1\" class=\"dataframe\">\n",
              "  <thead>\n",
              "    <tr style=\"text-align: right;\">\n",
              "      <th></th>\n",
              "      <th>country</th>\n",
              "      <th>child_mort</th>\n",
              "      <th>exports</th>\n",
              "      <th>health</th>\n",
              "      <th>imports</th>\n",
              "      <th>income</th>\n",
              "      <th>inflation</th>\n",
              "      <th>life_expec</th>\n",
              "      <th>total_fer</th>\n",
              "      <th>gdpp</th>\n",
              "      <th>predicted_class</th>\n",
              "    </tr>\n",
              "  </thead>\n",
              "  <tbody>\n",
              "    <tr>\n",
              "      <th>0</th>\n",
              "      <td>Afghanistan</td>\n",
              "      <td>90.2</td>\n",
              "      <td>10.0</td>\n",
              "      <td>7.58</td>\n",
              "      <td>44.9</td>\n",
              "      <td>1610</td>\n",
              "      <td>9.44</td>\n",
              "      <td>56.2</td>\n",
              "      <td>5.82</td>\n",
              "      <td>553</td>\n",
              "      <td>0</td>\n",
              "    </tr>\n",
              "    <tr>\n",
              "      <th>1</th>\n",
              "      <td>Albania</td>\n",
              "      <td>16.6</td>\n",
              "      <td>28.0</td>\n",
              "      <td>6.55</td>\n",
              "      <td>48.6</td>\n",
              "      <td>9930</td>\n",
              "      <td>4.49</td>\n",
              "      <td>76.3</td>\n",
              "      <td>1.65</td>\n",
              "      <td>4090</td>\n",
              "      <td>0</td>\n",
              "    </tr>\n",
              "    <tr>\n",
              "      <th>2</th>\n",
              "      <td>Algeria</td>\n",
              "      <td>27.3</td>\n",
              "      <td>38.4</td>\n",
              "      <td>4.17</td>\n",
              "      <td>31.4</td>\n",
              "      <td>12900</td>\n",
              "      <td>16.10</td>\n",
              "      <td>76.5</td>\n",
              "      <td>2.89</td>\n",
              "      <td>4460</td>\n",
              "      <td>0</td>\n",
              "    </tr>\n",
              "    <tr>\n",
              "      <th>3</th>\n",
              "      <td>Angola</td>\n",
              "      <td>119.0</td>\n",
              "      <td>62.3</td>\n",
              "      <td>2.85</td>\n",
              "      <td>42.9</td>\n",
              "      <td>5900</td>\n",
              "      <td>22.40</td>\n",
              "      <td>60.1</td>\n",
              "      <td>6.16</td>\n",
              "      <td>3530</td>\n",
              "      <td>0</td>\n",
              "    </tr>\n",
              "    <tr>\n",
              "      <th>4</th>\n",
              "      <td>Antigua and Barbuda</td>\n",
              "      <td>10.3</td>\n",
              "      <td>45.5</td>\n",
              "      <td>6.03</td>\n",
              "      <td>58.9</td>\n",
              "      <td>19100</td>\n",
              "      <td>1.44</td>\n",
              "      <td>76.8</td>\n",
              "      <td>2.13</td>\n",
              "      <td>12200</td>\n",
              "      <td>0</td>\n",
              "    </tr>\n",
              "    <tr>\n",
              "      <th>...</th>\n",
              "      <td>...</td>\n",
              "      <td>...</td>\n",
              "      <td>...</td>\n",
              "      <td>...</td>\n",
              "      <td>...</td>\n",
              "      <td>...</td>\n",
              "      <td>...</td>\n",
              "      <td>...</td>\n",
              "      <td>...</td>\n",
              "      <td>...</td>\n",
              "      <td>...</td>\n",
              "    </tr>\n",
              "    <tr>\n",
              "      <th>162</th>\n",
              "      <td>Vanuatu</td>\n",
              "      <td>29.2</td>\n",
              "      <td>46.6</td>\n",
              "      <td>5.25</td>\n",
              "      <td>52.7</td>\n",
              "      <td>2950</td>\n",
              "      <td>2.62</td>\n",
              "      <td>63.0</td>\n",
              "      <td>3.50</td>\n",
              "      <td>2970</td>\n",
              "      <td>0</td>\n",
              "    </tr>\n",
              "    <tr>\n",
              "      <th>163</th>\n",
              "      <td>Venezuela</td>\n",
              "      <td>17.1</td>\n",
              "      <td>28.5</td>\n",
              "      <td>4.91</td>\n",
              "      <td>17.6</td>\n",
              "      <td>16500</td>\n",
              "      <td>45.90</td>\n",
              "      <td>75.4</td>\n",
              "      <td>2.47</td>\n",
              "      <td>13500</td>\n",
              "      <td>0</td>\n",
              "    </tr>\n",
              "    <tr>\n",
              "      <th>164</th>\n",
              "      <td>Vietnam</td>\n",
              "      <td>23.3</td>\n",
              "      <td>72.0</td>\n",
              "      <td>6.84</td>\n",
              "      <td>80.2</td>\n",
              "      <td>4490</td>\n",
              "      <td>12.10</td>\n",
              "      <td>73.1</td>\n",
              "      <td>1.95</td>\n",
              "      <td>1310</td>\n",
              "      <td>0</td>\n",
              "    </tr>\n",
              "    <tr>\n",
              "      <th>165</th>\n",
              "      <td>Yemen</td>\n",
              "      <td>56.3</td>\n",
              "      <td>30.0</td>\n",
              "      <td>5.18</td>\n",
              "      <td>34.4</td>\n",
              "      <td>4480</td>\n",
              "      <td>23.60</td>\n",
              "      <td>67.5</td>\n",
              "      <td>4.67</td>\n",
              "      <td>1310</td>\n",
              "      <td>0</td>\n",
              "    </tr>\n",
              "    <tr>\n",
              "      <th>166</th>\n",
              "      <td>Zambia</td>\n",
              "      <td>83.1</td>\n",
              "      <td>37.0</td>\n",
              "      <td>5.89</td>\n",
              "      <td>30.9</td>\n",
              "      <td>3280</td>\n",
              "      <td>14.00</td>\n",
              "      <td>52.0</td>\n",
              "      <td>5.40</td>\n",
              "      <td>1460</td>\n",
              "      <td>0</td>\n",
              "    </tr>\n",
              "  </tbody>\n",
              "</table>\n",
              "<p>167 rows × 11 columns</p>\n",
              "</div>"
            ],
            "text/plain": [
              "                 country  child_mort  ...   gdpp  predicted_class\n",
              "0            Afghanistan        90.2  ...    553                0\n",
              "1                Albania        16.6  ...   4090                0\n",
              "2                Algeria        27.3  ...   4460                0\n",
              "3                 Angola       119.0  ...   3530                0\n",
              "4    Antigua and Barbuda        10.3  ...  12200                0\n",
              "..                   ...         ...  ...    ...              ...\n",
              "162              Vanuatu        29.2  ...   2970                0\n",
              "163            Venezuela        17.1  ...  13500                0\n",
              "164              Vietnam        23.3  ...   1310                0\n",
              "165                Yemen        56.3  ...   1310                0\n",
              "166               Zambia        83.1  ...   1460                0\n",
              "\n",
              "[167 rows x 11 columns]"
            ]
          },
          "metadata": {
            "tags": []
          },
          "execution_count": 136
        }
      ]
    },
    {
      "cell_type": "code",
      "metadata": {
        "colab": {
          "base_uri": "https://localhost:8080/"
        },
        "id": "HkRO_n4y9XmE",
        "outputId": "8c04c5d2-1678-4996-839f-ca0b8003e95c"
      },
      "source": [
        "class_0 = data[data['predicted_class'] == 0]\n",
        "class_0.describe().loc['mean']"
      ],
      "execution_count": 137,
      "outputs": [
        {
          "output_type": "execute_result",
          "data": {
            "text/plain": [
              "child_mort           47.389844\n",
              "exports              35.865617\n",
              "health                6.332031\n",
              "imports              45.921609\n",
              "income             8569.242188\n",
              "inflation             8.957648\n",
              "life_expec           67.873437\n",
              "total_fer             3.263359\n",
              "gdpp               4438.390625\n",
              "predicted_class       0.000000\n",
              "Name: mean, dtype: float64"
            ]
          },
          "metadata": {
            "tags": []
          },
          "execution_count": 137
        }
      ]
    },
    {
      "cell_type": "code",
      "metadata": {
        "colab": {
          "base_uri": "https://localhost:8080/"
        },
        "id": "YaBwaCCDsfNF",
        "outputId": "5e9c5437-6a43-4e21-81e2-2b70632dd356"
      },
      "source": [
        "class_0.describe().loc['mean'][['income','gdpp']]"
      ],
      "execution_count": 138,
      "outputs": [
        {
          "output_type": "execute_result",
          "data": {
            "text/plain": [
              "income    8569.242188\n",
              "gdpp      4438.390625\n",
              "Name: mean, dtype: float64"
            ]
          },
          "metadata": {
            "tags": []
          },
          "execution_count": 138
        }
      ]
    },
    {
      "cell_type": "code",
      "metadata": {
        "colab": {
          "base_uri": "https://localhost:8080/"
        },
        "id": "gRU1ZuZir1oM",
        "outputId": "b72cd397-33d5-42c0-ad2f-413c621b65f9"
      },
      "source": [
        "class_1= data[data['predicted_class'] == 1]\n",
        "class_1.describe().loc['mean'][['income','gdpp']]"
      ],
      "execution_count": 140,
      "outputs": [
        {
          "output_type": "execute_result",
          "data": {
            "text/plain": [
              "income    37621.875\n",
              "gdpp      35587.500\n",
              "Name: mean, dtype: float64"
            ]
          },
          "metadata": {
            "tags": []
          },
          "execution_count": 140
        }
      ]
    },
    {
      "cell_type": "code",
      "metadata": {
        "colab": {
          "base_uri": "https://localhost:8080/"
        },
        "id": "6d7h2aU6r-7Y",
        "outputId": "fb9b7e31-f155-4f61-e0d0-5e2288dd8ea8"
      },
      "source": [
        "class_2= data[data['predicted_class'] == 2]\n",
        "class_2.describe().loc['mean'][['income','gdpp']]"
      ],
      "execution_count": 141,
      "outputs": [
        {
          "output_type": "execute_result",
          "data": {
            "text/plain": [
              "income    80342.857143\n",
              "gdpp      65442.857143\n",
              "Name: mean, dtype: float64"
            ]
          },
          "metadata": {
            "tags": []
          },
          "execution_count": 141
        }
      ]
    },
    {
      "cell_type": "code",
      "metadata": {
        "id": "FpjIqDk5sL2k"
      },
      "source": [
        "# The class 2 has highest gdpp and income among three classes hence this class is Developed conutries.\n",
        "# The class 1 has high gdp and income compared to class 1 so this is developing countries class.\n",
        "# Class 0 has low income and gdpp so this is under-developing counties class."
      ],
      "execution_count": null,
      "outputs": []
    },
    {
      "cell_type": "code",
      "metadata": {
        "colab": {
          "base_uri": "https://localhost:8080/"
        },
        "id": "LQ4rQL-C9qXp",
        "outputId": "0149083c-4e82-41c4-ed1d-6de3a58c5d15"
      },
      "source": [
        "print(\"Number of under-developing countries: \",len(class_0))\n",
        "\n",
        "Under_Developing_Countries = list(class_0['country'])\n",
        "Under_Developing_Countries"
      ],
      "execution_count": 139,
      "outputs": [
        {
          "output_type": "stream",
          "text": [
            "Number of under-developing countries:  128\n"
          ],
          "name": "stdout"
        },
        {
          "output_type": "execute_result",
          "data": {
            "text/plain": [
              "['Afghanistan',\n",
              " 'Albania',\n",
              " 'Algeria',\n",
              " 'Angola',\n",
              " 'Antigua and Barbuda',\n",
              " 'Argentina',\n",
              " 'Armenia',\n",
              " 'Azerbaijan',\n",
              " 'Bangladesh',\n",
              " 'Barbados',\n",
              " 'Belarus',\n",
              " 'Belize',\n",
              " 'Benin',\n",
              " 'Bhutan',\n",
              " 'Bolivia',\n",
              " 'Bosnia and Herzegovina',\n",
              " 'Botswana',\n",
              " 'Brazil',\n",
              " 'Bulgaria',\n",
              " 'Burkina Faso',\n",
              " 'Burundi',\n",
              " 'Cambodia',\n",
              " 'Cameroon',\n",
              " 'Cape Verde',\n",
              " 'Central African Republic',\n",
              " 'Chad',\n",
              " 'Chile',\n",
              " 'China',\n",
              " 'Colombia',\n",
              " 'Comoros',\n",
              " 'Congo, Dem. Rep.',\n",
              " 'Congo, Rep.',\n",
              " 'Costa Rica',\n",
              " \"Cote d'Ivoire\",\n",
              " 'Croatia',\n",
              " 'Dominican Republic',\n",
              " 'Ecuador',\n",
              " 'Egypt',\n",
              " 'El Salvador',\n",
              " 'Eritrea',\n",
              " 'Estonia',\n",
              " 'Fiji',\n",
              " 'Gabon',\n",
              " 'Gambia',\n",
              " 'Georgia',\n",
              " 'Ghana',\n",
              " 'Grenada',\n",
              " 'Guatemala',\n",
              " 'Guinea',\n",
              " 'Guinea-Bissau',\n",
              " 'Guyana',\n",
              " 'Haiti',\n",
              " 'Hungary',\n",
              " 'India',\n",
              " 'Indonesia',\n",
              " 'Iran',\n",
              " 'Iraq',\n",
              " 'Jamaica',\n",
              " 'Jordan',\n",
              " 'Kazakhstan',\n",
              " 'Kenya',\n",
              " 'Kiribati',\n",
              " 'Kyrgyz Republic',\n",
              " 'Lao',\n",
              " 'Latvia',\n",
              " 'Lebanon',\n",
              " 'Lesotho',\n",
              " 'Liberia',\n",
              " 'Libya',\n",
              " 'Lithuania',\n",
              " 'Macedonia, FYR',\n",
              " 'Madagascar',\n",
              " 'Malawi',\n",
              " 'Malaysia',\n",
              " 'Maldives',\n",
              " 'Mali',\n",
              " 'Mauritania',\n",
              " 'Mauritius',\n",
              " 'Micronesia, Fed. Sts.',\n",
              " 'Moldova',\n",
              " 'Mongolia',\n",
              " 'Montenegro',\n",
              " 'Morocco',\n",
              " 'Mozambique',\n",
              " 'Myanmar',\n",
              " 'Namibia',\n",
              " 'Nepal',\n",
              " 'Niger',\n",
              " 'Nigeria',\n",
              " 'Pakistan',\n",
              " 'Panama',\n",
              " 'Paraguay',\n",
              " 'Peru',\n",
              " 'Philippines',\n",
              " 'Poland',\n",
              " 'Romania',\n",
              " 'Russia',\n",
              " 'Rwanda',\n",
              " 'Samoa',\n",
              " 'Senegal',\n",
              " 'Serbia',\n",
              " 'Seychelles',\n",
              " 'Sierra Leone',\n",
              " 'Slovak Republic',\n",
              " 'Solomon Islands',\n",
              " 'South Africa',\n",
              " 'Sri Lanka',\n",
              " 'St. Vincent and the Grenadines',\n",
              " 'Sudan',\n",
              " 'Suriname',\n",
              " 'Tajikistan',\n",
              " 'Tanzania',\n",
              " 'Thailand',\n",
              " 'Timor-Leste',\n",
              " 'Togo',\n",
              " 'Tonga',\n",
              " 'Tunisia',\n",
              " 'Turkey',\n",
              " 'Turkmenistan',\n",
              " 'Uganda',\n",
              " 'Ukraine',\n",
              " 'Uruguay',\n",
              " 'Uzbekistan',\n",
              " 'Vanuatu',\n",
              " 'Venezuela',\n",
              " 'Vietnam',\n",
              " 'Yemen',\n",
              " 'Zambia']"
            ]
          },
          "metadata": {
            "tags": []
          },
          "execution_count": 139
        }
      ]
    },
    {
      "cell_type": "code",
      "metadata": {
        "colab": {
          "base_uri": "https://localhost:8080/"
        },
        "id": "SOmzcWIhuOmv",
        "outputId": "e4385fbf-5526-4388-a5ba-722e97edb1ff"
      },
      "source": [
        "print(\"Number of developing countries: \",len(class_1))"
      ],
      "execution_count": 142,
      "outputs": [
        {
          "output_type": "stream",
          "text": [
            "Number of developing countries:  32\n"
          ],
          "name": "stdout"
        }
      ]
    },
    {
      "cell_type": "code",
      "metadata": {
        "colab": {
          "base_uri": "https://localhost:8080/"
        },
        "id": "5a6Isesg8ShN",
        "outputId": "18af1643-c487-4eb7-bb4f-a078b94e9b87"
      },
      "source": [
        "Developing_Countries = list(class_1['country'])\n",
        "Developing_Countries"
      ],
      "execution_count": 143,
      "outputs": [
        {
          "output_type": "execute_result",
          "data": {
            "text/plain": [
              "['Australia',\n",
              " 'Austria',\n",
              " 'Bahamas',\n",
              " 'Bahrain',\n",
              " 'Belgium',\n",
              " 'Canada',\n",
              " 'Cyprus',\n",
              " 'Czech Republic',\n",
              " 'Denmark',\n",
              " 'Equatorial Guinea',\n",
              " 'Finland',\n",
              " 'France',\n",
              " 'Germany',\n",
              " 'Greece',\n",
              " 'Iceland',\n",
              " 'Ireland',\n",
              " 'Israel',\n",
              " 'Italy',\n",
              " 'Japan',\n",
              " 'Malta',\n",
              " 'Netherlands',\n",
              " 'New Zealand',\n",
              " 'Oman',\n",
              " 'Portugal',\n",
              " 'Saudi Arabia',\n",
              " 'Slovenia',\n",
              " 'South Korea',\n",
              " 'Spain',\n",
              " 'Sweden',\n",
              " 'United Arab Emirates',\n",
              " 'United Kingdom',\n",
              " 'United States']"
            ]
          },
          "metadata": {
            "tags": []
          },
          "execution_count": 143
        }
      ]
    },
    {
      "cell_type": "code",
      "metadata": {
        "colab": {
          "base_uri": "https://localhost:8080/"
        },
        "id": "7h-P8p_y9ljY",
        "outputId": "3aca354d-a847-4b02-ed7e-485fef54e654"
      },
      "source": [
        "print(\"Number of developed countries: \",len(class_2))\n",
        "Developed_Countries = list(class_2['country'])\n",
        "Developed_Countries"
      ],
      "execution_count": 144,
      "outputs": [
        {
          "output_type": "stream",
          "text": [
            "Number of developed countries:  7\n"
          ],
          "name": "stdout"
        },
        {
          "output_type": "execute_result",
          "data": {
            "text/plain": [
              "['Brunei',\n",
              " 'Kuwait',\n",
              " 'Luxembourg',\n",
              " 'Norway',\n",
              " 'Qatar',\n",
              " 'Singapore',\n",
              " 'Switzerland']"
            ]
          },
          "metadata": {
            "tags": []
          },
          "execution_count": 144
        }
      ]
    },
    {
      "cell_type": "markdown",
      "metadata": {
        "id": "yfgnr7GQ07gI"
      },
      "source": [
        "**PCA**"
      ]
    },
    {
      "cell_type": "code",
      "metadata": {
        "id": "sx4wFfv791te",
        "colab": {
          "base_uri": "https://localhost:8080/",
          "height": 282
        },
        "outputId": "2c5a8644-42dc-44ff-8d83-c9ebe38235dd"
      },
      "source": [
        "# Using PCA to see if it generates clear clusters\n",
        "\n",
        "#Intializing PCA object with 3 components \n",
        "pca = PCA(n_components=3)\n",
        "X_pca = pca.fit_transform(data_for_clustering)\n",
        "\n",
        "\n",
        "#plotting first 2 components\n",
        "plt.scatter(X_pca[:,0],X_pca[:,1])"
      ],
      "execution_count": 112,
      "outputs": [
        {
          "output_type": "execute_result",
          "data": {
            "text/plain": [
              "<matplotlib.collections.PathCollection at 0x7f14482fba50>"
            ]
          },
          "metadata": {
            "tags": []
          },
          "execution_count": 112
        },
        {
          "output_type": "display_data",
          "data": {
            "image/png": "[encoded data removed]",
            "text/plain": [
              "<Figure size 432x288 with 1 Axes>"
            ]
          },
          "metadata": {
            "tags": [],
            "needs_background": "light"
          }
        }
      ]
    },
    {
      "cell_type": "code",
      "metadata": {
        "colab": {
          "base_uri": "https://localhost:8080/"
        },
        "id": "ikh3z4p4mV84",
        "outputId": "708fcc19-9dbd-47c5-a489-2f1590e3b4ee"
      },
      "source": [
        "#Clustering using the prinicipal components \n",
        "km_pca=cluster.KMeans(n_clusters=3)\n",
        "km_pca.fit(X_pca)\n",
        "pca_predictions = km_pca.labels_\n",
        "pd.Series(pca_predictions).value_counts()"
      ],
      "execution_count": 113,
      "outputs": [
        {
          "output_type": "execute_result",
          "data": {
            "text/plain": [
              "1    128\n",
              "2     32\n",
              "0      7\n",
              "dtype: int64"
            ]
          },
          "metadata": {
            "tags": []
          },
          "execution_count": 113
        }
      ]
    },
    {
      "cell_type": "code",
      "metadata": {
        "colab": {
          "base_uri": "https://localhost:8080/",
          "height": 296
        },
        "id": "8-wfB9vjmtsT",
        "outputId": "bf63a163-12b3-47f9-85bb-2c39bf303e49"
      },
      "source": [
        "#Visualising the clusters generated with labels generated\n",
        "plt.scatter(X_pca[:,0],X_pca[:,1],c=km_pca.labels_)\n",
        "plt.xlabel('PC1')\n",
        "plt.ylabel('PC2')"
      ],
      "execution_count": 114,
      "outputs": [
        {
          "output_type": "execute_result",
          "data": {
            "text/plain": [
              "Text(0, 0.5, 'PC2')"
            ]
          },
          "metadata": {
            "tags": []
          },
          "execution_count": 114
        },
        {
          "output_type": "display_data",
          "data": {
            "image/png": "[encoded data removed]",
            "text/plain": [
              "<Figure size 432x288 with 1 Axes>"
            ]
          },
          "metadata": {
            "tags": [],
            "needs_background": "light"
          }
        }
      ]
    },
    {
      "cell_type": "code",
      "metadata": {
        "colab": {
          "base_uri": "https://localhost:8080/",
          "height": 136
        },
        "id": "sf7l0HGjm4gP",
        "outputId": "e5e83521-724f-49ae-d65b-99f4fd1c9537"
      },
      "source": [
        "countries_df = data.copy()\n",
        "countries_df['predicted_class']  = pca_predictions\n",
        "countries_df.head(3)"
      ],
      "execution_count": 115,
      "outputs": [
        {
          "output_type": "execute_result",
          "data": {
            "text/html": [
              "<div>\n",
              "<style scoped>\n",
              "    .dataframe tbody tr th:only-of-type {\n",
              "        vertical-align: middle;\n",
              "    }\n",
              "\n",
              "    .dataframe tbody tr th {\n",
              "        vertical-align: top;\n",
              "    }\n",
              "\n",
              "    .dataframe thead th {\n",
              "        text-align: right;\n",
              "    }\n",
              "</style>\n",
              "<table border=\"1\" class=\"dataframe\">\n",
              "  <thead>\n",
              "    <tr style=\"text-align: right;\">\n",
              "      <th></th>\n",
              "      <th>country</th>\n",
              "      <th>child_mort</th>\n",
              "      <th>exports</th>\n",
              "      <th>health</th>\n",
              "      <th>imports</th>\n",
              "      <th>income</th>\n",
              "      <th>inflation</th>\n",
              "      <th>life_expec</th>\n",
              "      <th>total_fer</th>\n",
              "      <th>gdpp</th>\n",
              "      <th>predicted_class</th>\n",
              "    </tr>\n",
              "  </thead>\n",
              "  <tbody>\n",
              "    <tr>\n",
              "      <th>0</th>\n",
              "      <td>Afghanistan</td>\n",
              "      <td>90.2</td>\n",
              "      <td>10.0</td>\n",
              "      <td>7.58</td>\n",
              "      <td>44.9</td>\n",
              "      <td>1610</td>\n",
              "      <td>9.44</td>\n",
              "      <td>56.2</td>\n",
              "      <td>5.82</td>\n",
              "      <td>553</td>\n",
              "      <td>1</td>\n",
              "    </tr>\n",
              "    <tr>\n",
              "      <th>1</th>\n",
              "      <td>Albania</td>\n",
              "      <td>16.6</td>\n",
              "      <td>28.0</td>\n",
              "      <td>6.55</td>\n",
              "      <td>48.6</td>\n",
              "      <td>9930</td>\n",
              "      <td>4.49</td>\n",
              "      <td>76.3</td>\n",
              "      <td>1.65</td>\n",
              "      <td>4090</td>\n",
              "      <td>1</td>\n",
              "    </tr>\n",
              "    <tr>\n",
              "      <th>2</th>\n",
              "      <td>Algeria</td>\n",
              "      <td>27.3</td>\n",
              "      <td>38.4</td>\n",
              "      <td>4.17</td>\n",
              "      <td>31.4</td>\n",
              "      <td>12900</td>\n",
              "      <td>16.10</td>\n",
              "      <td>76.5</td>\n",
              "      <td>2.89</td>\n",
              "      <td>4460</td>\n",
              "      <td>1</td>\n",
              "    </tr>\n",
              "  </tbody>\n",
              "</table>\n",
              "</div>"
            ],
            "text/plain": [
              "       country  child_mort  exports  ...  total_fer  gdpp  predicted_class\n",
              "0  Afghanistan        90.2     10.0  ...       5.82   553                1\n",
              "1      Albania        16.6     28.0  ...       1.65  4090                1\n",
              "2      Algeria        27.3     38.4  ...       2.89  4460                1\n",
              "\n",
              "[3 rows x 11 columns]"
            ]
          },
          "metadata": {
            "tags": []
          },
          "execution_count": 115
        }
      ]
    },
    {
      "cell_type": "code",
      "metadata": {
        "colab": {
          "base_uri": "https://localhost:8080/"
        },
        "id": "-mz-Z08pu37R",
        "outputId": "64b917a4-b833-4778-9802-ed1a3ae726e3"
      },
      "source": [
        "countries_df.predicted_class.value_counts()"
      ],
      "execution_count": 116,
      "outputs": [
        {
          "output_type": "execute_result",
          "data": {
            "text/plain": [
              "1    128\n",
              "2     32\n",
              "0      7\n",
              "Name: predicted_class, dtype: int64"
            ]
          },
          "metadata": {
            "tags": []
          },
          "execution_count": 116
        }
      ]
    },
    {
      "cell_type": "code",
      "metadata": {
        "colab": {
          "base_uri": "https://localhost:8080/"
        },
        "id": "XQZBhzxeu-hv",
        "outputId": "91a77919-a976-4c88-f583-3f7345e1b864"
      },
      "source": [
        "class_0 = data[data['predicted_class'] == 0]\n",
        "class_0.describe().loc['mean'][['income','gdpp']]"
      ],
      "execution_count": 117,
      "outputs": [
        {
          "output_type": "execute_result",
          "data": {
            "text/plain": [
              "income    37621.875\n",
              "gdpp      35587.500\n",
              "Name: mean, dtype: float64"
            ]
          },
          "metadata": {
            "tags": []
          },
          "execution_count": 117
        }
      ]
    },
    {
      "cell_type": "code",
      "metadata": {
        "colab": {
          "base_uri": "https://localhost:8080/"
        },
        "id": "mxaiIvY3wBQs",
        "outputId": "6df63e43-e289-49d5-c943-d949088ba101"
      },
      "source": [
        "class_1= data[data['predicted_class'] == 1]\n",
        "class_1.describe().loc['mean'][['income','gdpp']]"
      ],
      "execution_count": 118,
      "outputs": [
        {
          "output_type": "execute_result",
          "data": {
            "text/plain": [
              "income    8569.242188\n",
              "gdpp      4438.390625\n",
              "Name: mean, dtype: float64"
            ]
          },
          "metadata": {
            "tags": []
          },
          "execution_count": 118
        }
      ]
    },
    {
      "cell_type": "code",
      "metadata": {
        "colab": {
          "base_uri": "https://localhost:8080/"
        },
        "id": "-vtO59HtwJaK",
        "outputId": "6d648ebf-ddbe-4169-d92b-98d872df8251"
      },
      "source": [
        "class_2= data[data['predicted_class'] == 2]\n",
        "class_2.describe().loc['mean'][['income','gdpp']]"
      ],
      "execution_count": 119,
      "outputs": [
        {
          "output_type": "execute_result",
          "data": {
            "text/plain": [
              "income    80342.857143\n",
              "gdpp      65442.857143\n",
              "Name: mean, dtype: float64"
            ]
          },
          "metadata": {
            "tags": []
          },
          "execution_count": 119
        }
      ]
    },
    {
      "cell_type": "code",
      "metadata": {
        "id": "iJf4eFV4wNBC"
      },
      "source": [
        "# The results of performing with or without pca remained same"
      ],
      "execution_count": 120,
      "outputs": []
    },
    {
      "cell_type": "code",
      "metadata": {
        "id": "T1pdlFPhwSpk"
      },
      "source": [
        "# The final data frame with countires categorise into 3 clusters based on gdpp and income is given below:\n",
        "\n",
        "data.predicted_class = data.predicted_class.map({1:'Developing Country',0:'Under-Developing-Country',2:'Developed Country'})"
      ],
      "execution_count": 145,
      "outputs": []
    },
    {
      "cell_type": "code",
      "metadata": {
        "colab": {
          "base_uri": "https://localhost:8080/",
          "height": 402
        },
        "id": "MlBj69aiwyhx",
        "outputId": "c167fe24-6eb5-42e3-d902-9ebb165595a0"
      },
      "source": [
        "data['Category'] = data['predicted_class'] \n",
        "data.drop(columns='predicted_class',inplace=True)\n",
        "data"
      ],
      "execution_count": 146,
      "outputs": [
        {
          "output_type": "execute_result",
          "data": {
            "text/html": [
              "<div>\n",
              "<style scoped>\n",
              "    .dataframe tbody tr th:only-of-type {\n",
              "        vertical-align: middle;\n",
              "    }\n",
              "\n",
              "    .dataframe tbody tr th {\n",
              "        vertical-align: top;\n",
              "    }\n",
              "\n",
              "    .dataframe thead th {\n",
              "        text-align: right;\n",
              "    }\n",
              "</style>\n",
              "<table border=\"1\" class=\"dataframe\">\n",
              "  <thead>\n",
              "    <tr style=\"text-align: right;\">\n",
              "      <th></th>\n",
              "      <th>country</th>\n",
              "      <th>child_mort</th>\n",
              "      <th>exports</th>\n",
              "      <th>health</th>\n",
              "      <th>imports</th>\n",
              "      <th>income</th>\n",
              "      <th>inflation</th>\n",
              "      <th>life_expec</th>\n",
              "      <th>total_fer</th>\n",
              "      <th>gdpp</th>\n",
              "      <th>Category</th>\n",
              "    </tr>\n",
              "  </thead>\n",
              "  <tbody>\n",
              "    <tr>\n",
              "      <th>0</th>\n",
              "      <td>Afghanistan</td>\n",
              "      <td>90.2</td>\n",
              "      <td>10.0</td>\n",
              "      <td>7.58</td>\n",
              "      <td>44.9</td>\n",
              "      <td>1610</td>\n",
              "      <td>9.44</td>\n",
              "      <td>56.2</td>\n",
              "      <td>5.82</td>\n",
              "      <td>553</td>\n",
              "      <td>Under-Developing-Country</td>\n",
              "    </tr>\n",
              "    <tr>\n",
              "      <th>1</th>\n",
              "      <td>Albania</td>\n",
              "      <td>16.6</td>\n",
              "      <td>28.0</td>\n",
              "      <td>6.55</td>\n",
              "      <td>48.6</td>\n",
              "      <td>9930</td>\n",
              "      <td>4.49</td>\n",
              "      <td>76.3</td>\n",
              "      <td>1.65</td>\n",
              "      <td>4090</td>\n",
              "      <td>Under-Developing-Country</td>\n",
              "    </tr>\n",
              "    <tr>\n",
              "      <th>2</th>\n",
              "      <td>Algeria</td>\n",
              "      <td>27.3</td>\n",
              "      <td>38.4</td>\n",
              "      <td>4.17</td>\n",
              "      <td>31.4</td>\n",
              "      <td>12900</td>\n",
              "      <td>16.10</td>\n",
              "      <td>76.5</td>\n",
              "      <td>2.89</td>\n",
              "      <td>4460</td>\n",
              "      <td>Under-Developing-Country</td>\n",
              "    </tr>\n",
              "    <tr>\n",
              "      <th>3</th>\n",
              "      <td>Angola</td>\n",
              "      <td>119.0</td>\n",
              "      <td>62.3</td>\n",
              "      <td>2.85</td>\n",
              "      <td>42.9</td>\n",
              "      <td>5900</td>\n",
              "      <td>22.40</td>\n",
              "      <td>60.1</td>\n",
              "      <td>6.16</td>\n",
              "      <td>3530</td>\n",
              "      <td>Under-Developing-Country</td>\n",
              "    </tr>\n",
              "    <tr>\n",
              "      <th>4</th>\n",
              "      <td>Antigua and Barbuda</td>\n",
              "      <td>10.3</td>\n",
              "      <td>45.5</td>\n",
              "      <td>6.03</td>\n",
              "      <td>58.9</td>\n",
              "      <td>19100</td>\n",
              "      <td>1.44</td>\n",
              "      <td>76.8</td>\n",
              "      <td>2.13</td>\n",
              "      <td>12200</td>\n",
              "      <td>Under-Developing-Country</td>\n",
              "    </tr>\n",
              "    <tr>\n",
              "      <th>...</th>\n",
              "      <td>...</td>\n",
              "      <td>...</td>\n",
              "      <td>...</td>\n",
              "      <td>...</td>\n",
              "      <td>...</td>\n",
              "      <td>...</td>\n",
              "      <td>...</td>\n",
              "      <td>...</td>\n",
              "      <td>...</td>\n",
              "      <td>...</td>\n",
              "      <td>...</td>\n",
              "    </tr>\n",
              "    <tr>\n",
              "      <th>162</th>\n",
              "      <td>Vanuatu</td>\n",
              "      <td>29.2</td>\n",
              "      <td>46.6</td>\n",
              "      <td>5.25</td>\n",
              "      <td>52.7</td>\n",
              "      <td>2950</td>\n",
              "      <td>2.62</td>\n",
              "      <td>63.0</td>\n",
              "      <td>3.50</td>\n",
              "      <td>2970</td>\n",
              "      <td>Under-Developing-Country</td>\n",
              "    </tr>\n",
              "    <tr>\n",
              "      <th>163</th>\n",
              "      <td>Venezuela</td>\n",
              "      <td>17.1</td>\n",
              "      <td>28.5</td>\n",
              "      <td>4.91</td>\n",
              "      <td>17.6</td>\n",
              "      <td>16500</td>\n",
              "      <td>45.90</td>\n",
              "      <td>75.4</td>\n",
              "      <td>2.47</td>\n",
              "      <td>13500</td>\n",
              "      <td>Under-Developing-Country</td>\n",
              "    </tr>\n",
              "    <tr>\n",
              "      <th>164</th>\n",
              "      <td>Vietnam</td>\n",
              "      <td>23.3</td>\n",
              "      <td>72.0</td>\n",
              "      <td>6.84</td>\n",
              "      <td>80.2</td>\n",
              "      <td>4490</td>\n",
              "      <td>12.10</td>\n",
              "      <td>73.1</td>\n",
              "      <td>1.95</td>\n",
              "      <td>1310</td>\n",
              "      <td>Under-Developing-Country</td>\n",
              "    </tr>\n",
              "    <tr>\n",
              "      <th>165</th>\n",
              "      <td>Yemen</td>\n",
              "      <td>56.3</td>\n",
              "      <td>30.0</td>\n",
              "      <td>5.18</td>\n",
              "      <td>34.4</td>\n",
              "      <td>4480</td>\n",
              "      <td>23.60</td>\n",
              "      <td>67.5</td>\n",
              "      <td>4.67</td>\n",
              "      <td>1310</td>\n",
              "      <td>Under-Developing-Country</td>\n",
              "    </tr>\n",
              "    <tr>\n",
              "      <th>166</th>\n",
              "      <td>Zambia</td>\n",
              "      <td>83.1</td>\n",
              "      <td>37.0</td>\n",
              "      <td>5.89</td>\n",
              "      <td>30.9</td>\n",
              "      <td>3280</td>\n",
              "      <td>14.00</td>\n",
              "      <td>52.0</td>\n",
              "      <td>5.40</td>\n",
              "      <td>1460</td>\n",
              "      <td>Under-Developing-Country</td>\n",
              "    </tr>\n",
              "  </tbody>\n",
              "</table>\n",
              "<p>167 rows × 11 columns</p>\n",
              "</div>"
            ],
            "text/plain": [
              "                 country  child_mort  ...   gdpp                  Category\n",
              "0            Afghanistan        90.2  ...    553  Under-Developing-Country\n",
              "1                Albania        16.6  ...   4090  Under-Developing-Country\n",
              "2                Algeria        27.3  ...   4460  Under-Developing-Country\n",
              "3                 Angola       119.0  ...   3530  Under-Developing-Country\n",
              "4    Antigua and Barbuda        10.3  ...  12200  Under-Developing-Country\n",
              "..                   ...         ...  ...    ...                       ...\n",
              "162              Vanuatu        29.2  ...   2970  Under-Developing-Country\n",
              "163            Venezuela        17.1  ...  13500  Under-Developing-Country\n",
              "164              Vietnam        23.3  ...   1310  Under-Developing-Country\n",
              "165                Yemen        56.3  ...   1310  Under-Developing-Country\n",
              "166               Zambia        83.1  ...   1460  Under-Developing-Country\n",
              "\n",
              "[167 rows x 11 columns]"
            ]
          },
          "metadata": {
            "tags": []
          },
          "execution_count": 146
        }
      ]
    },
    {
      "cell_type": "code",
      "metadata": {
        "colab": {
          "base_uri": "https://localhost:8080/",
          "height": 166
        },
        "id": "fkd-rWM5xzLS",
        "outputId": "91937b4e-2560-4ab2-eb32-70ba30f3d9fa"
      },
      "source": [
        "data.groupby(['Category'])[['income','gdpp']].mean()"
      ],
      "execution_count": 153,
      "outputs": [
        {
          "output_type": "execute_result",
          "data": {
            "text/html": [
              "<div>\n",
              "<style scoped>\n",
              "    .dataframe tbody tr th:only-of-type {\n",
              "        vertical-align: middle;\n",
              "    }\n",
              "\n",
              "    .dataframe tbody tr th {\n",
              "        vertical-align: top;\n",
              "    }\n",
              "\n",
              "    .dataframe thead th {\n",
              "        text-align: right;\n",
              "    }\n",
              "</style>\n",
              "<table border=\"1\" class=\"dataframe\">\n",
              "  <thead>\n",
              "    <tr style=\"text-align: right;\">\n",
              "      <th></th>\n",
              "      <th>income</th>\n",
              "      <th>gdpp</th>\n",
              "    </tr>\n",
              "    <tr>\n",
              "      <th>Category</th>\n",
              "      <th></th>\n",
              "      <th></th>\n",
              "    </tr>\n",
              "  </thead>\n",
              "  <tbody>\n",
              "    <tr>\n",
              "      <th>Developed Country</th>\n",
              "      <td>80342.857143</td>\n",
              "      <td>65442.857143</td>\n",
              "    </tr>\n",
              "    <tr>\n",
              "      <th>Developing Country</th>\n",
              "      <td>37621.875000</td>\n",
              "      <td>35587.500000</td>\n",
              "    </tr>\n",
              "    <tr>\n",
              "      <th>Under-Developing-Country</th>\n",
              "      <td>8569.242188</td>\n",
              "      <td>4438.390625</td>\n",
              "    </tr>\n",
              "  </tbody>\n",
              "</table>\n",
              "</div>"
            ],
            "text/plain": [
              "                                income          gdpp\n",
              "Category                                            \n",
              "Developed Country         80342.857143  65442.857143\n",
              "Developing Country        37621.875000  35587.500000\n",
              "Under-Developing-Country   8569.242188   4438.390625"
            ]
          },
          "metadata": {
            "tags": []
          },
          "execution_count": 153
        }
      ]
    },
    {
      "cell_type": "code",
      "metadata": {
        "colab": {
          "base_uri": "https://localhost:8080/",
          "height": 402
        },
        "id": "fTJbamEEyhai",
        "outputId": "dad30c79-5665-4363-e3e6-c34527290d36"
      },
      "source": [
        "data.sort_values(by='Category')"
      ],
      "execution_count": 150,
      "outputs": [
        {
          "output_type": "execute_result",
          "data": {
            "text/html": [
              "<div>\n",
              "<style scoped>\n",
              "    .dataframe tbody tr th:only-of-type {\n",
              "        vertical-align: middle;\n",
              "    }\n",
              "\n",
              "    .dataframe tbody tr th {\n",
              "        vertical-align: top;\n",
              "    }\n",
              "\n",
              "    .dataframe thead th {\n",
              "        text-align: right;\n",
              "    }\n",
              "</style>\n",
              "<table border=\"1\" class=\"dataframe\">\n",
              "  <thead>\n",
              "    <tr style=\"text-align: right;\">\n",
              "      <th></th>\n",
              "      <th>country</th>\n",
              "      <th>child_mort</th>\n",
              "      <th>exports</th>\n",
              "      <th>health</th>\n",
              "      <th>imports</th>\n",
              "      <th>income</th>\n",
              "      <th>inflation</th>\n",
              "      <th>life_expec</th>\n",
              "      <th>total_fer</th>\n",
              "      <th>gdpp</th>\n",
              "      <th>Category</th>\n",
              "    </tr>\n",
              "  </thead>\n",
              "  <tbody>\n",
              "    <tr>\n",
              "      <th>145</th>\n",
              "      <td>Switzerland</td>\n",
              "      <td>4.5</td>\n",
              "      <td>64.0</td>\n",
              "      <td>11.50</td>\n",
              "      <td>53.3</td>\n",
              "      <td>55500</td>\n",
              "      <td>0.317</td>\n",
              "      <td>82.2</td>\n",
              "      <td>1.52</td>\n",
              "      <td>74600</td>\n",
              "      <td>Developed Country</td>\n",
              "    </tr>\n",
              "    <tr>\n",
              "      <th>91</th>\n",
              "      <td>Luxembourg</td>\n",
              "      <td>2.8</td>\n",
              "      <td>175.0</td>\n",
              "      <td>7.77</td>\n",
              "      <td>142.0</td>\n",
              "      <td>91700</td>\n",
              "      <td>3.620</td>\n",
              "      <td>81.3</td>\n",
              "      <td>1.63</td>\n",
              "      <td>105000</td>\n",
              "      <td>Developed Country</td>\n",
              "    </tr>\n",
              "    <tr>\n",
              "      <th>123</th>\n",
              "      <td>Qatar</td>\n",
              "      <td>9.0</td>\n",
              "      <td>62.3</td>\n",
              "      <td>1.81</td>\n",
              "      <td>23.8</td>\n",
              "      <td>125000</td>\n",
              "      <td>6.980</td>\n",
              "      <td>79.5</td>\n",
              "      <td>2.07</td>\n",
              "      <td>70300</td>\n",
              "      <td>Developed Country</td>\n",
              "    </tr>\n",
              "    <tr>\n",
              "      <th>23</th>\n",
              "      <td>Brunei</td>\n",
              "      <td>10.5</td>\n",
              "      <td>67.4</td>\n",
              "      <td>2.84</td>\n",
              "      <td>28.0</td>\n",
              "      <td>80600</td>\n",
              "      <td>16.700</td>\n",
              "      <td>77.1</td>\n",
              "      <td>1.84</td>\n",
              "      <td>35300</td>\n",
              "      <td>Developed Country</td>\n",
              "    </tr>\n",
              "    <tr>\n",
              "      <th>114</th>\n",
              "      <td>Norway</td>\n",
              "      <td>3.2</td>\n",
              "      <td>39.7</td>\n",
              "      <td>9.48</td>\n",
              "      <td>28.5</td>\n",
              "      <td>62300</td>\n",
              "      <td>5.950</td>\n",
              "      <td>81.0</td>\n",
              "      <td>1.95</td>\n",
              "      <td>87800</td>\n",
              "      <td>Developed Country</td>\n",
              "    </tr>\n",
              "    <tr>\n",
              "      <th>...</th>\n",
              "      <td>...</td>\n",
              "      <td>...</td>\n",
              "      <td>...</td>\n",
              "      <td>...</td>\n",
              "      <td>...</td>\n",
              "      <td>...</td>\n",
              "      <td>...</td>\n",
              "      <td>...</td>\n",
              "      <td>...</td>\n",
              "      <td>...</td>\n",
              "      <td>...</td>\n",
              "    </tr>\n",
              "    <tr>\n",
              "      <th>64</th>\n",
              "      <td>Guinea-Bissau</td>\n",
              "      <td>114.0</td>\n",
              "      <td>14.9</td>\n",
              "      <td>8.50</td>\n",
              "      <td>35.2</td>\n",
              "      <td>1390</td>\n",
              "      <td>2.970</td>\n",
              "      <td>55.6</td>\n",
              "      <td>5.05</td>\n",
              "      <td>547</td>\n",
              "      <td>Under-Developing-Country</td>\n",
              "    </tr>\n",
              "    <tr>\n",
              "      <th>65</th>\n",
              "      <td>Guyana</td>\n",
              "      <td>37.6</td>\n",
              "      <td>51.4</td>\n",
              "      <td>5.38</td>\n",
              "      <td>79.1</td>\n",
              "      <td>5840</td>\n",
              "      <td>5.730</td>\n",
              "      <td>65.5</td>\n",
              "      <td>2.65</td>\n",
              "      <td>3040</td>\n",
              "      <td>Under-Developing-Country</td>\n",
              "    </tr>\n",
              "    <tr>\n",
              "      <th>66</th>\n",
              "      <td>Haiti</td>\n",
              "      <td>208.0</td>\n",
              "      <td>15.3</td>\n",
              "      <td>6.91</td>\n",
              "      <td>64.7</td>\n",
              "      <td>1500</td>\n",
              "      <td>5.450</td>\n",
              "      <td>32.1</td>\n",
              "      <td>3.33</td>\n",
              "      <td>662</td>\n",
              "      <td>Under-Developing-Country</td>\n",
              "    </tr>\n",
              "    <tr>\n",
              "      <th>93</th>\n",
              "      <td>Madagascar</td>\n",
              "      <td>62.2</td>\n",
              "      <td>25.0</td>\n",
              "      <td>3.77</td>\n",
              "      <td>43.0</td>\n",
              "      <td>1390</td>\n",
              "      <td>8.790</td>\n",
              "      <td>60.8</td>\n",
              "      <td>4.60</td>\n",
              "      <td>413</td>\n",
              "      <td>Under-Developing-Country</td>\n",
              "    </tr>\n",
              "    <tr>\n",
              "      <th>166</th>\n",
              "      <td>Zambia</td>\n",
              "      <td>83.1</td>\n",
              "      <td>37.0</td>\n",
              "      <td>5.89</td>\n",
              "      <td>30.9</td>\n",
              "      <td>3280</td>\n",
              "      <td>14.000</td>\n",
              "      <td>52.0</td>\n",
              "      <td>5.40</td>\n",
              "      <td>1460</td>\n",
              "      <td>Under-Developing-Country</td>\n",
              "    </tr>\n",
              "  </tbody>\n",
              "</table>\n",
              "<p>167 rows × 11 columns</p>\n",
              "</div>"
            ],
            "text/plain": [
              "           country  child_mort  ...    gdpp                  Category\n",
              "145    Switzerland         4.5  ...   74600         Developed Country\n",
              "91      Luxembourg         2.8  ...  105000         Developed Country\n",
              "123          Qatar         9.0  ...   70300         Developed Country\n",
              "23          Brunei        10.5  ...   35300         Developed Country\n",
              "114         Norway         3.2  ...   87800         Developed Country\n",
              "..             ...         ...  ...     ...                       ...\n",
              "64   Guinea-Bissau       114.0  ...     547  Under-Developing-Country\n",
              "65          Guyana        37.6  ...    3040  Under-Developing-Country\n",
              "66           Haiti       208.0  ...     662  Under-Developing-Country\n",
              "93      Madagascar        62.2  ...     413  Under-Developing-Country\n",
              "166         Zambia        83.1  ...    1460  Under-Developing-Country\n",
              "\n",
              "[167 rows x 11 columns]"
            ]
          },
          "metadata": {
            "tags": []
          },
          "execution_count": 150
        }
      ]
    },
    {
      "cell_type": "code",
      "metadata": {
        "id": "mWJ5yHjaz7us"
      },
      "source": [
        ""
      ],
      "execution_count": null,
      "outputs": []
    }
  ]
}