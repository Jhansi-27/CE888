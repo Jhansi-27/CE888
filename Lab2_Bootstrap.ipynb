{
  "nbformat": 4,
  "nbformat_minor": 0,
  "metadata": {
    "colab": {
      "name": "Copy of bootstrap.ipynb",
      "provenance": [],
      "collapsed_sections": []
    },
    "kernelspec": {
      "display_name": "Python 3",
      "language": "python",
      "name": "python3"
    },
    "language_info": {
      "codemirror_mode": {
        "name": "ipython",
        "version": 3
      },
      "file_extension": ".py",
      "mimetype": "text/x-python",
      "name": "python",
      "nbconvert_exporter": "python",
      "pygments_lexer": "ipython3",
      "version": "3.7.6"
    },
    "pycharm": {
      "stem_cell": {
        "cell_type": "raw",
        "metadata": {
          "collapsed": false
        },
        "source": []
      }
    }
  },
  "cells": [
    {
      "cell_type": "markdown",
      "metadata": {
        "id": "nCi_99yMYIb1"
      },
      "source": [
        "In this notebook you'll create your own bootstrap function following the bootstrap algorithm (check the lecture notes!)"
      ]
    },
    {
      "cell_type": "code",
      "metadata": {
        "id": "LY5zujI2YC37",
        "pycharm": {
          "name": "#%%# Imports\n"
        }
      },
      "source": [
        "import matplotlib.pyplot as plt\n",
        "import pandas as pd\n",
        "import seaborn as sns\n",
        "import numpy as np\n"
      ],
      "execution_count": 3,
      "outputs": []
    },
    {
      "cell_type": "code",
      "metadata": {
        "id": "Eqkwj4SMY38t",
        "colab": {
          "base_uri": "https://localhost:8080/"
        },
        "outputId": "d988f43f-8c79-4fc3-9d94-db7960a5764b"
      },
      "source": [
        "# Load the data\n",
        "df = pd.read_csv('https://raw.githubusercontent.com/albanda/CE888/master/lab2%20-%20bootstrap/customers.csv')\n",
        "data = df.values.T[1]\n",
        "data"
      ],
      "execution_count": 116,
      "outputs": [
        {
          "output_type": "execute_result",
          "data": {
            "text/plain": [
              "array([ 2.,  8., 20., 13.,  5.,  9., 10.,  8., 22., 10.,  2.,  4.,  7.,\n",
              "        9.])"
            ]
          },
          "metadata": {
            "tags": []
          },
          "execution_count": 116
        }
      ]
    },
    {
      "cell_type": "code",
      "metadata": {
        "id": "Gxvc_bScYC4H",
        "pycharm": {
          "name": "#%%\n"
        }
      },
      "source": [
        "# Checking the notes from the lecture, create here your own bootstrap function:\n",
        "# 1. Sample from the input array x to create an array of samples of shape (n_bootstraps, sample_size)\n",
        "# Hint: Check the function random.choice() on Numpy\n",
        "# 2. Calculate and save the mean of the array (this is \"data_mean\" that is returned by the function)\n",
        "# 3. Calculate the mean from each bootstrap (i.e., row) and store it.\n",
        "# (This should be an array of n_bootstraps values)\n",
        "# 4. Calculate the lower and upper bounds for a 95% CI (hint: check the percentile function on Numpy)\n",
        "# 5. Return data_mean, and the lower and upper bounds of your interval\n",
        "def bootstrap_mean(x, sample_size, n_bootstraps):\n",
        "    #print(\"original sample: \", x,\", its size: \",sample_size, \"\\n\")\n",
        "    array_of_samples = np.array([np.random.choice(x,sample_size,replace=True) for _ in range(n_bootstraps)])\n",
        "    #print(\"bootstraps : \\n \",array_of_samples)\n",
        "    data_mean = np.mean(array_of_samples)\n",
        "    #print(\"Mean of the data : \",data_mean,\"\\n\")\n",
        "    mean_of_each_bootstrap = np.array(np.mean(array_of_samples,axis=1))\n",
        "    #print(\"Means of each bootstrap : \", sorted(mean_of_each_bootstrap))\n",
        "    confidence_interval = 0.95\n",
        "    p = ((1-confidence_interval)/2)*100\n",
        "    lower = np.percentile(mean_of_each_bootstrap,p)\n",
        "    #print(lower,\"\\n\")\n",
        "    p = (confidence_interval+((1-confidence_interval)/2))*100\n",
        "    upper = np.percentile(mean_of_each_bootstrap,p)\n",
        "    #print(upper)\n",
        "    return data_mean,lower,upper\n",
        "\n",
        "#bootstrap_mean(data, len(data), 10)"
      ],
      "execution_count": 117,
      "outputs": []
    },
    {
      "cell_type": "code",
      "metadata": {
        "id": "AN7sEOcMYC4P",
        "pycharm": {
          "name": "#%%\n"
        },
        "colab": {
          "base_uri": "https://localhost:8080/",
          "height": 519
        },
        "outputId": "83d64104-8354-44d0-a4de-5ec9bbdd4b25"
      },
      "source": [
        "# Call your bootstrap function and plot the results\n",
        "\n",
        "boots = []\n",
        "for i in range(100, 50000, 1000):\n",
        "    boot = bootstrap_mean(data, data.shape[0], i)\n",
        "    boots.append([i, boot[0], \"mean\"])\n",
        "    boots.append([i, boot[1], \"lower\"])\n",
        "    boots.append([i, boot[2], \"upper\"])\n",
        "\n",
        "df_boot = pd.DataFrame(boots, columns=['Bootstrap Iterations', 'Mean', \"Value\"])\n",
        "print(df_boot.head(6))\n",
        "sns_plot = sns.lmplot(x=df_boot.columns[0], y=df_boot.columns[1], data=df_boot, fit_reg=False, hue=\"Value\")\n",
        "\n",
        "sns_plot.axes[0, 0].set_ylim(0,)\n",
        "sns_plot.axes[0, 0].set_xlim(0, 50000)\n",
        "sns_plot.set_titles(\"95% confidence interval for means\")\n"
      ],
      "execution_count": 118,
      "outputs": [
        {
          "output_type": "stream",
          "text": [
            "   Bootstrap Iterations       Mean  Value\n",
            "0                   100   9.047143   mean\n",
            "1                   100   6.500000  lower\n",
            "2                   100  11.394643  upper\n",
            "3                  1100   9.181364   mean\n",
            "4                  1100   6.500000  lower\n",
            "5                  1100  12.108929  upper\n"
          ],
          "name": "stdout"
        },
        {
          "output_type": "execute_result",
          "data": {
            "text/plain": [
              "<seaborn.axisgrid.FacetGrid at 0x7f1ee72100f0>"
            ]
          },
          "metadata": {
            "tags": []
          },
          "execution_count": 118
        },
        {
          "output_type": "display_data",
          "data": {
            "image/png": "[encoded data removed]",
            "text/plain": [
              "<Figure size 425.125x360 with 1 Axes>"
            ]
          },
          "metadata": {
            "tags": [],
            "needs_background": "light"
          }
        }
      ]
    },
    {
      "cell_type": "markdown",
      "metadata": {
        "id": "MjtP4e2_YC4V"
      },
      "source": [
        "\n",
        "Now, modify the bootstrap function you created above so that you can pass your desired confidence interval as a parameter.\n",
        "\n"
      ]
    },
    {
      "cell_type": "code",
      "metadata": {
        "id": "3K9j0FuGYhHs"
      },
      "source": [
        "def bootstrap_mean_ci(sample, sample_size, n_bootstraps, ci):\n",
        "    array_of_samples = np.array([np.random.choice(sample,sample_size,replace=True) for _ in range(n_bootstraps)])\n",
        "    data_mean = np.mean(array_of_samples)\n",
        "    mean_of_each_bootstrap = np.array(np.mean(array_of_samples,axis=1))\n",
        "    confidence_interval = ci/100\n",
        "    p = ((1-confidence_interval)/2)*100\n",
        "    lower = np.percentile(mean_of_each_bootstrap,p)\n",
        "    p = (confidence_interval+((1-confidence_interval)/2))*100\n",
        "    upper = np.percentile(mean_of_each_bootstrap,p)\n",
        "    return data_mean,lower,upper\n"
      ],
      "execution_count": 119,
      "outputs": []
    },
    {
      "cell_type": "code",
      "metadata": {
        "id": "uDnjq08GYl-C",
        "colab": {
          "base_uri": "https://localhost:8080/",
          "height": 400
        },
        "outputId": "711dd6cf-9446-452e-d3e1-e7eb17da2c86"
      },
      "source": [
        "boots = []\n",
        "for i in range(100, 50000, 1000):\n",
        "    boot = bootstrap_mean_ci(data, data.shape[0], i, 80)\n",
        "    boots.append([i, boot[0], \"mean\"])\n",
        "    boots.append([i, boot[1], \"lower\"])\n",
        "    boots.append([i, boot[2], \"upper\"])\n",
        "\n",
        "df_boot = pd.DataFrame(boots, columns=['Boostrap Iterations', 'Mean', \"Value\"])\n",
        "sns_plot = sns.lmplot(x=df_boot.columns[0], y=df_boot.columns[1], data=df_boot, fit_reg=False, hue=\"Value\")\n",
        "\n",
        "sns_plot.axes[0, 0].set_ylim(0,)\n",
        "sns_plot.axes[0, 0].set_xlim(0, 50000)\n",
        "\n",
        "#sns_plot.savefig(\"bootstrap_confidence_80.pdf\", bbox_inches='tight')\n"
      ],
      "execution_count": 121,
      "outputs": [
        {
          "output_type": "execute_result",
          "data": {
            "text/plain": [
              "(0.0, 50000.0)"
            ]
          },
          "metadata": {
            "tags": []
          },
          "execution_count": 121
        },
        {
          "output_type": "display_data",
          "data": {
            "image/png": "[encoded data removed]",
            "text/plain": [
              "<Figure size 425.125x360 with 1 Axes>"
            ]
          },
          "metadata": {
            "tags": [],
            "needs_background": "light"
          }
        }
      ]
    },
    {
      "cell_type": "code",
      "metadata": {
        "id": "hrs4eYMZ72lt"
      },
      "source": [
        "## Slightly modifying the above bootstrap function sothat \r\n",
        "## we can calculate the confidence interval for any gven teststatistic like mean, median, standard deviation and variance.\r\n",
        "def bootstrap_mean_general(sample, sample_size, n_bootstraps, ci, test_statistic):\r\n",
        "    array_of_samples = np.array([np.random.choice(sample,sample_size,replace=True) for _ in range(n_bootstraps)])\r\n",
        "    confidence_interval = ci/100\r\n",
        "    p1 = ((1-confidence_interval)/2)*100\r\n",
        "    p2 = (confidence_interval+((1-confidence_interval)/2))*100\r\n",
        "    if test_statistic == 'mean':\r\n",
        "      data_mean = np.mean(array_of_samples)\r\n",
        "      mean_of_each_bootstrap = np.array(np.mean(array_of_samples,axis=1))\r\n",
        "      lower = np.percentile(mean_of_each_bootstrap,p1)\r\n",
        "      upper = np.percentile(mean_of_each_bootstrap,p2)\r\n",
        "    elif test_statistic == 'median':\r\n",
        "      data_median = np.median(array_of_samples)\r\n",
        "      median_of_each_bootstrap = np.array(np.median(array_of_samples,axis=1))\r\n",
        "      lower = np.percentile(median_of_each_bootstrap,p1)\r\n",
        "      upper = np.percentile(median_of_each_bootstrap,p2)\r\n",
        "    elif test_statistic == 'standard deviation':\r\n",
        "      data_std_dev = np.std(array_of_samples)\r\n",
        "      std_dev_of_each_bootstrap = np.array(np.std(array_of_samples,axis=1))\r\n",
        "      lower = np.percentile(std_dev_of_each_bootstrap,p1)\r\n",
        "      upper = np.percentile(std_dev_of_each_bootstrap,p2)\r\n",
        "    elif test_statistic == 'variance':\r\n",
        "      data_var = np.var(array_of_samples)\r\n",
        "      var_of_each_bootstrap = np.array(np.var(array_of_samples,axis=1))\r\n",
        "      lower = np.percentile(var_of_each_bootstrap,p1)\r\n",
        "      upper = np.percentile(var_of_each_bootstrap,p2)\r\n",
        "    else:\r\n",
        "      print(\"Enter either mean, median, standard deviation or variance to find the confidence intervals\")\r\n",
        "    return lower,upper\r\n"
      ],
      "execution_count": 122,
      "outputs": []
    },
    {
      "cell_type": "markdown",
      "metadata": {
        "id": "qjNgXW6wdd7r"
      },
      "source": [
        "# Vehicles dataset\n",
        "\n",
        "Now let's work on a different dataset, which is stored in the vehicles.csv file.\n"
      ]
    },
    {
      "cell_type": "code",
      "metadata": {
        "id": "avWv4ipFdpka",
        "colab": {
          "base_uri": "https://localhost:8080/"
        },
        "outputId": "96c4e87f-f2b0-4712-c298-3f2bb69a5b37"
      },
      "source": [
        "# Load and visualise the vehicles dataset\n",
        "# To load the dataset: https://neptune.ai/blog/google-colab-dealing-with-files (check section \"Load individual files directly from GitHub\")\n",
        "vehicles_df = pd.read_csv(\"https://raw.githubusercontent.com/albanda/CE888/master/lab2%20-%20bootstrap/vehicles.csv\")\n",
        "vehicles_df.info()\n",
        "#print(vehicles_df.head(3))"
      ],
      "execution_count": 137,
      "outputs": [
        {
          "output_type": "stream",
          "text": [
            "<class 'pandas.core.frame.DataFrame'>\n",
            "RangeIndex: 249 entries, 0 to 248\n",
            "Data columns (total 2 columns):\n",
            " #   Column         Non-Null Count  Dtype  \n",
            "---  ------         --------------  -----  \n",
            " 0   Current fleet  249 non-null    int64  \n",
            " 1   New Fleet      79 non-null     float64\n",
            "dtypes: float64(1), int64(1)\n",
            "memory usage: 4.0 KB\n"
          ],
          "name": "stdout"
        }
      ]
    },
    {
      "cell_type": "code",
      "metadata": {
        "colab": {
          "base_uri": "https://localhost:8080/",
          "height": 281
        },
        "id": "4ZqyuABzMNWe",
        "outputId": "d5c8f7ea-cfe9-43cd-a576-d8ee7cf2fac6"
      },
      "source": [
        "# Note that the current and new fleets are in different columns and have different lengths, so bear this in mind when you're plotting.\r\n",
        "# You can create separate scatterplots for the two fleets, as you would with the histograms, \r\n",
        "# or plot them both in one plot (but not one against the other).\r\n",
        "plt.hist(vehicles_df['Current fleet'],label='Curren fleet',bins=10)\r\n",
        "plt.hist(vehicles_df['New Fleet'],label='New fleet',bins=10)\r\n",
        "plt.legend()\r\n",
        "plt.title('plot showing the distribution of current fleet and new fleeet columns data in vehicles dataset')\r\n",
        "plt.show()\r\n",
        "#plt.savefig('storetype.png')\r\n",
        "# Note: you can add more cells as needed to organise your code and your plots"
      ],
      "execution_count": 134,
      "outputs": [
        {
          "output_type": "display_data",
          "data": {
            "image/png": "[encoded data removed]",
            "text/plain": [
              "<Figure size 432x288 with 1 Axes>"
            ]
          },
          "metadata": {
            "tags": [],
            "needs_background": "light"
          }
        }
      ]
    },
    {
      "cell_type": "markdown",
      "metadata": {
        "id": "B5d0tXDpIEj8"
      },
      "source": [
        "## Compare the two fleets\r\n",
        "\r\n",
        "The business analysts come up a comparison algorithm that requires the upper and lower bounds for the mean in order to say which fleet is better.\r\n",
        "1. Calculate the mean of both samples.\r\n",
        "2. Using the bootstrap function that you created:\r\n",
        "    - Construct the 95% CI of the mean of the current fleet.\r\n",
        "    - Construct the 95% CI of the mean of the new fleet.\r\n",
        "    - Are they comparable? (i.e., is one better than the other?) -- you can do this with a permutation test (check the lecture notes!)"
      ]
    },
    {
      "cell_type": "code",
      "metadata": {
        "id": "po4mp6zRHC0m",
        "colab": {
          "base_uri": "https://localhost:8080/"
        },
        "outputId": "79f118bc-0672-4f07-9cc5-2298aeddf801"
      },
      "source": [
        "new_fleet_notnull_indices = pd.Series.notnull(vehicles_df['New Fleet'])\n",
        "New_fleet = np.array(vehicles_df['New Fleet'][new_fleet_notnull_indices])\n",
        "Current_fleet = np.array(vehicles_df['Current fleet'])\n",
        "print(\"length of current fleet : \", len(Current_fleet))\n",
        "print(\"length of New fleet : \", len(New_fleet))\n",
        "t_observed = np.mean(New_fleet) - np.mean(Current_fleet) \n",
        "\n",
        "print(\"Mean of Currene Fleet : \", np.mean(Current_fleet))\n",
        "print(\"Mean of New Fleet : \",np.mean(New_fleet))\n",
        "print(\"Observed diffrence in means: \", t_observed,\"\\n\")\n",
        "\n",
        "Current_fleet_interval =  bootstrap_mean_general(Current_fleet, len(Current_fleet), 10000, 95,'mean')\n",
        "New_fleet_interval     =  bootstrap_mean_general(New_fleet, len(New_fleet), 10000, 95,'mean')\n",
        "\n",
        "print(\"95% CI of the mean of the current fleet:\", Current_fleet_interval)\n",
        "print(\"95% CI of the mean of the new fleet :\", New_fleet_interval )"
      ],
      "execution_count": 151,
      "outputs": [
        {
          "output_type": "stream",
          "text": [
            "length of current fleet :  249\n",
            "length of New fleet :  79\n",
            "Mean of Currene Fleet :  20.14457831325301\n",
            "Mean of New Fleet :  30.481012658227847\n",
            "Observed diffrence in means:  10.336434344974837 \n",
            "\n",
            "95% CI of the mean of the current fleet: (19.35331325301205, 20.955823293172692)\n",
            "95% CI of the mean of the new fleet : (29.126582278481013, 31.83575949367088)\n"
          ],
          "name": "stdout"
        }
      ]
    },
    {
      "cell_type": "code",
      "metadata": {
        "id": "MkxvDZG4HC0n"
      },
      "source": [
        "# Create your own function for a permutation test here (you will need it for the lab quiz!):\n",
        "def permut_test(sample1, sample2, n_permutations):\n",
        "    \"\"\"\n",
        "    sample1: 1D array\n",
        "    sample2: 1D array (note that the size of the two arrays can be different)\n",
        "    n_permutations: number of permutations to calculate the p-value\n",
        "    \"\"\"\n",
        "    sample1_size = len(sample1)\n",
        "    combined_samples = np.concatenate([sample1, sample2])\n",
        "    #print(\"combined : \",combined_samples)\n",
        "    count = 0\n",
        "    for i in range(n_permutations):\n",
        "      np.random.shuffle(combined_samples)\n",
        "      #print(\"permutated: \",permutated)\n",
        "      sample1_new = np.array(combined_samples[:sample1_size])\n",
        "      #print(\"sample1_new: \",sample1_new)\n",
        "      sample2_new = np.array(combined_samples[sample1_size:])\n",
        "      #print(\"sample2_new : \",sample2_new)\n",
        "      delta = np.mean(sample2_new)- np.mean(sample1_new)\n",
        "      #print(delta)\n",
        "      if delta > observed:\n",
        "        count+=1\n",
        "    pvalue = count / n_permutations\n",
        "   \n",
        "    return pvalue"
      ],
      "execution_count": 172,
      "outputs": []
    },
    {
      "cell_type": "code",
      "metadata": {
        "colab": {
          "base_uri": "https://localhost:8080/"
        },
        "id": "rt91UxWe3oNV",
        "outputId": "4edea702-201c-440b-c5cb-a7483c659d41"
      },
      "source": [
        "old = np.array([0,1,1,1,0,1,1,0,0,1,0])\r\n",
        "new = np.array([0,1,1,0,1,1,0,1,1,1,0,0,1,1,1,1,1,1,1])\r\n",
        "p1 = permut_test(old,new,20000)\r\n",
        "print(p1)\r\n",
        "p = permut_test(Current_fleet,New_fleet,20000)\r\n",
        "print(p)"
      ],
      "execution_count": 173,
      "outputs": [
        {
          "output_type": "stream",
          "text": [
            "1.0\n",
            "0.88145\n"
          ],
          "name": "stdout"
        }
      ]
    },
    {
      "cell_type": "code",
      "metadata": {
        "colab": {
          "base_uri": "https://localhost:8080/"
        },
        "id": "eJQjwaM63HiX",
        "outputId": "c11b3fe8-d075-4b97-c75e-cd027c8faf54"
      },
      "source": [
        "# The variables below represent the percentages of democratic votes in Pennsylvania and Ohio (one value for each state).\r\n",
        "dem_share_PA = [60.08, 40.64, 36.07, 41.21, 31.04, 43.78, 44.08, 46.85, 44.71, 46.15, 63.10, 52.20, 43.18, 40.24, 39.92, 47.87, 37.77, 40.11, 49.85, 48.61, 38.62, 54.25, 34.84, 47.75, 43.82, 55.97, 58.23, 42.97, 42.38, 36.11, 37.53, 42.65, 50.96, 47.43, 56.24, 45.60, 46.39, 35.22, 48.56, 32.97, 57.88, 36.05, 37.72, 50.36, 32.12, 41.55, 54.66, 57.81, 54.58, 32.88, 54.37, 40.45, 47.61, 60.49, 43.11, 27.32, 44.03, 33.56, 37.26, 54.64, 43.12, 25.34, 49.79, 83.56, 40.09, 60.81, 49.81]\r\n",
        "dem_share_OH = [56.94, 50.46, 65.99, 45.88, 42.23, 45.26, 57.01, 53.61, 59.10, 61.48, 43.43, 44.69, 54.59, 48.36, 45.89, 48.62, 43.92, 38.23, 28.79, 63.57, 38.07, 40.18, 43.05, 41.56, 42.49, 36.06, 52.76, 46.07, 39.43, 39.26, 47.47, 27.92, 38.01, 45.45, 29.07, 28.94, 51.28, 50.10, 39.84, 36.43, 35.71, 31.47, 47.01, 40.10, 48.76, 31.56, 39.86, 45.31, 35.47, 51.38, 46.33, 48.73, 41.77, 41.32, 48.46, 53.14, 34.01, 54.74, 40.67, 38.96, 46.29, 38.25, 6.80, 31.75, 46.33, 44.90, 33.57, 38.10, 39.67, 40.47, 49.44, 37.62, 36.71, 46.73, 42.20, 53.16, 52.40, 58.36, 68.02, 38.53, 34.58, 69.64, 60.50, 53.53, 36.54, 49.58, 41.97, 38.11]\r\n",
        "print(\"Number of values in PA: \",len(dem_share_PA))\r\n",
        "print(\"Numner of values in OH: \",len(dem_share_OH))\r\n",
        "\r\n",
        "#The 90% confidence intervals for the means of the votes using 25000 bootstraps are:\r\n",
        "OH = bootstrap_mean_general(dem_share_OH, len(dem_share_OH), 25000, 90, 'mean')\r\n",
        "print(\"The 90% confidence intervals for the means of the votes for OH using 25000 bootstraps are \", OH)\r\n",
        "PA = bootstrap_mean_general(dem_share_PA, len(dem_share_PA), 25000, 90, 'mean')\r\n",
        "print(\"The 90% confidence intervals for the means of the votes for PA using 25000 bootstraps are \", PA)"
      ],
      "execution_count": 110,
      "outputs": [
        {
          "output_type": "stream",
          "text": [
            "Number of values in PA:  67\n",
            "Numner of values in OH:  88\n",
            "The 90% confidence intervals for the means of the votes for OH using 25000 bootstraps are  (42.57348863636364, 46.05365340909091)\n",
            "The 90% confidence intervals for the means of the votes for PA using 25000 bootstraps are  (43.605216417910455, 47.46052985074626)\n"
          ],
          "name": "stdout"
        }
      ]
    },
    {
      "cell_type": "code",
      "metadata": {
        "colab": {
          "base_uri": "https://localhost:8080/"
        },
        "id": "WF4mu3V34-Tq",
        "outputId": "ace3ce43-5da6-4e86-c116-2e871a244d9b"
      },
      "source": [
        "p = permut_test(dem_share_PA,dem_share_OH,20000)\r\n",
        "print(\"The p-value from a permutation test with 20000 permutations is : \", p)"
      ],
      "execution_count": 174,
      "outputs": [
        {
          "output_type": "stream",
          "text": [
            "The p-value from a permutation test with 20000 permutations is :  0.75925\n"
          ],
          "name": "stdout"
        }
      ]
    },
    {
      "cell_type": "code",
      "metadata": {
        "id": "yWcQcLsalcaa"
      },
      "source": [
        ""
      ],
      "execution_count": null,
      "outputs": []
    }
  ]
}