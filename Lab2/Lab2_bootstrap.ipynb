{
  "nbformat": 4,
  "nbformat_minor": 0,
  "metadata": {
    "colab": {
      "name": "Lab2_bootstrap.ipynb",
      "provenance": [],
      "collapsed_sections": []
    },
    "kernelspec": {
      "display_name": "Python 3",
      "language": "python",
      "name": "python3"
    },
    "language_info": {
      "codemirror_mode": {
        "name": "ipython",
        "version": 3
      },
      "file_extension": ".py",
      "mimetype": "text/x-python",
      "name": "python",
      "nbconvert_exporter": "python",
      "pygments_lexer": "ipython3",
      "version": "3.7.6"
    },
    "pycharm": {
      "stem_cell": {
        "cell_type": "raw",
        "metadata": {
          "collapsed": false
        },
        "source": []
      }
    }
  },
  "cells": [
    {
      "cell_type": "markdown",
      "metadata": {
        "id": "nCi_99yMYIb1"
      },
      "source": [
        "In this notebook you'll create your own bootstrap function following the bootstrap algorithm (check the lecture notes!)"
      ]
    },
    {
      "cell_type": "code",
      "metadata": {
        "id": "LY5zujI2YC37",
        "pycharm": {
          "name": "#%%# Imports\n"
        }
      },
      "source": [
        "import matplotlib\n",
        "import pandas as pd\n",
        "import seaborn as sns\n",
        "import numpy as np"
      ],
      "execution_count": 1,
      "outputs": []
    },
    {
      "cell_type": "code",
      "metadata": {
        "id": "Eqkwj4SMY38t",
        "colab": {
          "base_uri": "https://localhost:8080/",
          "height": 462
        },
        "outputId": "b80e2c4d-c0fa-4e84-a5d2-c0401006acad"
      },
      "source": [
        "# Load the data\n",
        "df = pd.read_csv('https://raw.githubusercontent.com/albanda/CE888/master/lab2%20-%20bootstrap/customers.csv')\n",
        "data = df.values.T[1]\n",
        "df"
      ],
      "execution_count": 99,
      "outputs": [
        {
          "output_type": "execute_result",
          "data": {
            "text/html": [
              "<div>\n",
              "<style scoped>\n",
              "    .dataframe tbody tr th:only-of-type {\n",
              "        vertical-align: middle;\n",
              "    }\n",
              "\n",
              "    .dataframe tbody tr th {\n",
              "        vertical-align: top;\n",
              "    }\n",
              "\n",
              "    .dataframe thead th {\n",
              "        text-align: right;\n",
              "    }\n",
              "</style>\n",
              "<table border=\"1\" class=\"dataframe\">\n",
              "  <thead>\n",
              "    <tr style=\"text-align: right;\">\n",
              "      <th></th>\n",
              "      <th>Day</th>\n",
              "      <th>Millons of pounds in sales</th>\n",
              "    </tr>\n",
              "  </thead>\n",
              "  <tbody>\n",
              "    <tr>\n",
              "      <th>0</th>\n",
              "      <td>1</td>\n",
              "      <td>2.0</td>\n",
              "    </tr>\n",
              "    <tr>\n",
              "      <th>1</th>\n",
              "      <td>2</td>\n",
              "      <td>8.0</td>\n",
              "    </tr>\n",
              "    <tr>\n",
              "      <th>2</th>\n",
              "      <td>3</td>\n",
              "      <td>20.0</td>\n",
              "    </tr>\n",
              "    <tr>\n",
              "      <th>3</th>\n",
              "      <td>4</td>\n",
              "      <td>13.0</td>\n",
              "    </tr>\n",
              "    <tr>\n",
              "      <th>4</th>\n",
              "      <td>5</td>\n",
              "      <td>5.0</td>\n",
              "    </tr>\n",
              "    <tr>\n",
              "      <th>5</th>\n",
              "      <td>6</td>\n",
              "      <td>9.0</td>\n",
              "    </tr>\n",
              "    <tr>\n",
              "      <th>6</th>\n",
              "      <td>7</td>\n",
              "      <td>10.0</td>\n",
              "    </tr>\n",
              "    <tr>\n",
              "      <th>7</th>\n",
              "      <td>8</td>\n",
              "      <td>8.0</td>\n",
              "    </tr>\n",
              "    <tr>\n",
              "      <th>8</th>\n",
              "      <td>9</td>\n",
              "      <td>22.0</td>\n",
              "    </tr>\n",
              "    <tr>\n",
              "      <th>9</th>\n",
              "      <td>10</td>\n",
              "      <td>10.0</td>\n",
              "    </tr>\n",
              "    <tr>\n",
              "      <th>10</th>\n",
              "      <td>11</td>\n",
              "      <td>2.0</td>\n",
              "    </tr>\n",
              "    <tr>\n",
              "      <th>11</th>\n",
              "      <td>12</td>\n",
              "      <td>4.0</td>\n",
              "    </tr>\n",
              "    <tr>\n",
              "      <th>12</th>\n",
              "      <td>13</td>\n",
              "      <td>7.0</td>\n",
              "    </tr>\n",
              "    <tr>\n",
              "      <th>13</th>\n",
              "      <td>14</td>\n",
              "      <td>9.0</td>\n",
              "    </tr>\n",
              "  </tbody>\n",
              "</table>\n",
              "</div>"
            ],
            "text/plain": [
              "    Day   Millons of pounds in sales\n",
              "0     1                          2.0\n",
              "1     2                          8.0\n",
              "2     3                         20.0\n",
              "3     4                         13.0\n",
              "4     5                          5.0\n",
              "5     6                          9.0\n",
              "6     7                         10.0\n",
              "7     8                          8.0\n",
              "8     9                         22.0\n",
              "9    10                         10.0\n",
              "10   11                          2.0\n",
              "11   12                          4.0\n",
              "12   13                          7.0\n",
              "13   14                          9.0"
            ]
          },
          "metadata": {
            "tags": []
          },
          "execution_count": 99
        }
      ]
    },
    {
      "cell_type": "code",
      "metadata": {
        "colab": {
          "base_uri": "https://localhost:8080/"
        },
        "id": "QJmRKN_Ssy7-",
        "outputId": "f593322f-98cd-4d5b-e27f-3e7696d219cb"
      },
      "source": [
        "print(data)\n",
        "print(\"Total number of days during which sales are recorded: \",len(data))\n",
        "print(f\"Average sales in 14 days : {np.mean(data)}\")"
      ],
      "execution_count": 90,
      "outputs": [
        {
          "output_type": "stream",
          "text": [
            "[ 2.  8. 20. 13.  5.  9. 10.  8. 22. 10.  2.  4.  7.  9.]\n",
            "Total number of days during which sales are recorded:  14\n",
            "Average sales in 14 days : 9.214285714285714\n"
          ],
          "name": "stdout"
        }
      ]
    },
    {
      "cell_type": "code",
      "metadata": {
        "id": "Gxvc_bScYC4H",
        "pycharm": {
          "name": "#%%\n"
        }
      },
      "source": [
        "# Checking the notes from the lecture, create here your own bootstrap function:\n",
        "# 1. Sample from the input array x to create an array of samples of shape (n_bootstraps, sample_size)\n",
        "# Hint: Check the function random.choice() on Numpy\n",
        "# 2. Calculate and save the mean of the array (this is \"data_mean\" that is returned by the function)\n",
        "# 3. Calculate the mean from each bootstrap (i.e., row) and store it.\n",
        "# (This should be an array of n_bootstraps values)\n",
        "# 4. Calculate the lower and upper bounds for a 95% CI (hint: check the percentile function on Numpy)\n",
        "# 5. Return data_mean, and the lower and upper bounds of your interval\n",
        "\n",
        "def bootstrap_mean(x, sample_size, n_bootstraps):\n",
        "\t# 1. Sample from the input array x to create an array of samples of shape (n_bootstraps, sample_size)\n",
        "  bootstraps = [np.random.choice(x,sample_size,replace=True) for _ in range(n_bootstraps)]\n",
        "  # 2. Calculate and save the mean of the array (this is \"data_mean\" that is returned by the function)\n",
        "  data_mean = np.mean(bootstraps)\n",
        "  # 3. Calculate the mean from each bootstrap (i.e., row) and store it.\n",
        "  mean_of_each_bootstrap = [np.mean(boot) for boot in bootstraps]\n",
        "  # 4. Calculate the lower and upper bounds for a 95% CI\n",
        "  sigma = 0.95 # confidence interval\n",
        "  p = ((1-sigma)/2)*100\n",
        "  lower = np.percentile(mean_of_each_bootstrap,p)\n",
        "  p = (sigma+((1-sigma)/2))*100\n",
        "  upper = np.percentile(mean_of_each_bootstrap,p)\n",
        "  # 5. Return data_mean, and the lower and upper bounds of your interval\n",
        "  return data_mean,lower,upper\n",
        "\n",
        "\n",
        "#bootstrap_mean(data,len(data),100)\n"
      ],
      "execution_count": 96,
      "outputs": []
    },
    {
      "cell_type": "code",
      "metadata": {
        "id": "AN7sEOcMYC4P",
        "pycharm": {
          "name": "#%%\n"
        },
        "colab": {
          "base_uri": "https://localhost:8080/",
          "height": 400
        },
        "outputId": "9872ad29-fabf-41fd-f81c-687edd2e68e2"
      },
      "source": [
        "# Call your bootstrap function and plot the results\n",
        "\n",
        "boots = []\n",
        "for i in range(100, 50000, 1000):\n",
        "    boot = bootstrap_mean(data, data.shape[0], i)\n",
        "    boots.append([i, boot[0], \"mean\"])\n",
        "    boots.append([i, boot[1], \"lower\"])\n",
        "    boots.append([i, boot[2], \"upper\"])\n",
        "\n",
        "df_boot = pd.DataFrame(boots, columns=['Bootstrap Iterations', 'Mean', \"Value\"])\n",
        "sns_plot = sns.lmplot(x=df_boot.columns[0], y=df_boot.columns[1], data=df_boot, fit_reg=False, hue=\"Value\")\n",
        "\n",
        "sns_plot.axes[0, 0].set_ylim(0,)\n",
        "sns_plot.axes[0, 0].set_xlim(0, 50000)\n"
      ],
      "execution_count": 54,
      "outputs": [
        {
          "output_type": "execute_result",
          "data": {
            "text/plain": [
              "(0.0, 50000.0)"
            ]
          },
          "metadata": {
            "tags": []
          },
          "execution_count": 54
        },
        {
          "output_type": "display_data",
          "data": {
            "image/png": "[encoded data removed]",
            "text/plain": [
              "<Figure size 425.125x360 with 1 Axes>"
            ]
          },
          "metadata": {
            "tags": [],
            "needs_background": "light"
          }
        }
      ]
    },
    {
      "cell_type": "code",
      "metadata": {
        "colab": {
          "base_uri": "https://localhost:8080/",
          "height": 225
        },
        "id": "x4vuRz6A5CE2",
        "outputId": "dfee76a9-cc42-4065-eca6-82f9f210fd2f"
      },
      "source": [
        "df_boot.head(6)"
      ],
      "execution_count": 55,
      "outputs": [
        {
          "output_type": "execute_result",
          "data": {
            "text/html": [
              "<div>\n",
              "<style scoped>\n",
              "    .dataframe tbody tr th:only-of-type {\n",
              "        vertical-align: middle;\n",
              "    }\n",
              "\n",
              "    .dataframe tbody tr th {\n",
              "        vertical-align: top;\n",
              "    }\n",
              "\n",
              "    .dataframe thead th {\n",
              "        text-align: right;\n",
              "    }\n",
              "</style>\n",
              "<table border=\"1\" class=\"dataframe\">\n",
              "  <thead>\n",
              "    <tr style=\"text-align: right;\">\n",
              "      <th></th>\n",
              "      <th>Bootstrap Iterations</th>\n",
              "      <th>Mean</th>\n",
              "      <th>Value</th>\n",
              "    </tr>\n",
              "  </thead>\n",
              "  <tbody>\n",
              "    <tr>\n",
              "      <th>0</th>\n",
              "      <td>100</td>\n",
              "      <td>9.255000</td>\n",
              "      <td>mean</td>\n",
              "    </tr>\n",
              "    <tr>\n",
              "      <th>1</th>\n",
              "      <td>100</td>\n",
              "      <td>6.241071</td>\n",
              "      <td>lower</td>\n",
              "    </tr>\n",
              "    <tr>\n",
              "      <th>2</th>\n",
              "      <td>100</td>\n",
              "      <td>12.428571</td>\n",
              "      <td>upper</td>\n",
              "    </tr>\n",
              "    <tr>\n",
              "      <th>3</th>\n",
              "      <td>1100</td>\n",
              "      <td>9.307403</td>\n",
              "      <td>mean</td>\n",
              "    </tr>\n",
              "    <tr>\n",
              "      <th>4</th>\n",
              "      <td>1100</td>\n",
              "      <td>6.357143</td>\n",
              "      <td>lower</td>\n",
              "    </tr>\n",
              "    <tr>\n",
              "      <th>5</th>\n",
              "      <td>1100</td>\n",
              "      <td>12.537500</td>\n",
              "      <td>upper</td>\n",
              "    </tr>\n",
              "  </tbody>\n",
              "</table>\n",
              "</div>"
            ],
            "text/plain": [
              "   Bootstrap Iterations       Mean  Value\n",
              "0                   100   9.255000   mean\n",
              "1                   100   6.241071  lower\n",
              "2                   100  12.428571  upper\n",
              "3                  1100   9.307403   mean\n",
              "4                  1100   6.357143  lower\n",
              "5                  1100  12.537500  upper"
            ]
          },
          "metadata": {
            "tags": []
          },
          "execution_count": 55
        }
      ]
    },
    {
      "cell_type": "markdown",
      "metadata": {
        "id": "MjtP4e2_YC4V"
      },
      "source": [
        "\n",
        "Now, modify the bootstrap function you created above so that you can pass your desired confidence interval as a parameter.\n",
        "\n"
      ]
    },
    {
      "cell_type": "code",
      "metadata": {
        "id": "3K9j0FuGYhHs"
      },
      "source": [
        "def bootstrap_mean_ci(sample, sample_size, n_bootstraps, ci):\n",
        "\n",
        "  bootstraps = [np.random.choice(sample,sample_size,replace=True) for _ in range(n_bootstraps)]\n",
        "  \n",
        "  data_mean = np.mean(bootstraps)\n",
        "  \n",
        "  mean_of_each_bootstrap = [np.mean(boot) for boot in bootstraps]\n",
        " \n",
        "  sigma = ci/100 # confidence interval\n",
        "  p = ((1-sigma)/2)*100\n",
        "  lower = np.percentile(mean_of_each_bootstrap,p)\n",
        "\n",
        "  p = (sigma+((1-sigma)/2))*100\n",
        "  upper = np.percentile(mean_of_each_bootstrap,p)\n",
        "\n",
        "  return data_mean, lower, upper"
      ],
      "execution_count": 123,
      "outputs": []
    },
    {
      "cell_type": "code",
      "metadata": {
        "id": "uDnjq08GYl-C",
        "colab": {
          "base_uri": "https://localhost:8080/",
          "height": 400
        },
        "outputId": "92f3fa4f-8a77-4423-8223-19194090c98e"
      },
      "source": [
        "boots = []\n",
        "for i in range(100, 50000, 1000):\n",
        "    boot = bootstrap_mean_ci(data, data.shape[0], i, 80)\n",
        "    boots.append([i, boot[0], \"mean\"])\n",
        "    boots.append([i, boot[1], \"lower\"])\n",
        "    boots.append([i, boot[2], \"upper\"])\n",
        "\n",
        "df_boot = pd.DataFrame(boots, columns=['Boostrap Iterations', 'Mean', \"Value\"])\n",
        "sns_plot = sns.lmplot(x=df_boot.columns[0], y=df_boot.columns[1], data=df_boot, fit_reg=False, hue=\"Value\")\n",
        "\n",
        "sns_plot.axes[0, 0].set_ylim(0,)\n",
        "sns_plot.axes[0, 0].set_xlim(0, 50000)\n",
        "\n",
        "#sns_plot.savefig(\"bootstrap_confidence_80.pdf\", bbox_inches='tight')\n"
      ],
      "execution_count": 60,
      "outputs": [
        {
          "output_type": "execute_result",
          "data": {
            "text/plain": [
              "(0.0, 50000.0)"
            ]
          },
          "metadata": {
            "tags": []
          },
          "execution_count": 60
        },
        {
          "output_type": "display_data",
          "data": {
            "image/png": "[encoded data removed]",
            "text/plain": [
              "<Figure size 425.125x360 with 1 Axes>"
            ]
          },
          "metadata": {
            "tags": [],
            "needs_background": "light"
          }
        }
      ]
    },
    {
      "cell_type": "code",
      "metadata": {
        "colab": {
          "base_uri": "https://localhost:8080/",
          "height": 225
        },
        "id": "XdidaRQ97s-5",
        "outputId": "feac1b82-7b9d-430e-c67a-013b08a6509b"
      },
      "source": [
        "df_boot.head(6)"
      ],
      "execution_count": 61,
      "outputs": [
        {
          "output_type": "execute_result",
          "data": {
            "text/html": [
              "<div>\n",
              "<style scoped>\n",
              "    .dataframe tbody tr th:only-of-type {\n",
              "        vertical-align: middle;\n",
              "    }\n",
              "\n",
              "    .dataframe tbody tr th {\n",
              "        vertical-align: top;\n",
              "    }\n",
              "\n",
              "    .dataframe thead th {\n",
              "        text-align: right;\n",
              "    }\n",
              "</style>\n",
              "<table border=\"1\" class=\"dataframe\">\n",
              "  <thead>\n",
              "    <tr style=\"text-align: right;\">\n",
              "      <th></th>\n",
              "      <th>Boostrap Iterations</th>\n",
              "      <th>Mean</th>\n",
              "      <th>Value</th>\n",
              "    </tr>\n",
              "  </thead>\n",
              "  <tbody>\n",
              "    <tr>\n",
              "      <th>0</th>\n",
              "      <td>100</td>\n",
              "      <td>9.085714</td>\n",
              "      <td>mean</td>\n",
              "    </tr>\n",
              "    <tr>\n",
              "      <th>1</th>\n",
              "      <td>100</td>\n",
              "      <td>7.357143</td>\n",
              "      <td>lower</td>\n",
              "    </tr>\n",
              "    <tr>\n",
              "      <th>2</th>\n",
              "      <td>100</td>\n",
              "      <td>11.078571</td>\n",
              "      <td>upper</td>\n",
              "    </tr>\n",
              "    <tr>\n",
              "      <th>3</th>\n",
              "      <td>1100</td>\n",
              "      <td>9.272013</td>\n",
              "      <td>mean</td>\n",
              "    </tr>\n",
              "    <tr>\n",
              "      <th>4</th>\n",
              "      <td>1100</td>\n",
              "      <td>7.357143</td>\n",
              "      <td>lower</td>\n",
              "    </tr>\n",
              "    <tr>\n",
              "      <th>5</th>\n",
              "      <td>1100</td>\n",
              "      <td>11.285714</td>\n",
              "      <td>upper</td>\n",
              "    </tr>\n",
              "  </tbody>\n",
              "</table>\n",
              "</div>"
            ],
            "text/plain": [
              "   Boostrap Iterations       Mean  Value\n",
              "0                  100   9.085714   mean\n",
              "1                  100   7.357143  lower\n",
              "2                  100  11.078571  upper\n",
              "3                 1100   9.272013   mean\n",
              "4                 1100   7.357143  lower\n",
              "5                 1100  11.285714  upper"
            ]
          },
          "metadata": {
            "tags": []
          },
          "execution_count": 61
        }
      ]
    },
    {
      "cell_type": "markdown",
      "metadata": {
        "id": "qjNgXW6wdd7r"
      },
      "source": [
        "# Vehicles dataset\n",
        "\n",
        "Now let's work on a different dataset, which is stored in the vehicles.csv file.\n"
      ]
    },
    {
      "cell_type": "code",
      "metadata": {
        "id": "avWv4ipFdpka",
        "colab": {
          "base_uri": "https://localhost:8080/"
        },
        "outputId": "0799cab6-40f4-4f0b-d8cd-cdde59484086"
      },
      "source": [
        "# Load and visualise the vehicles dataset\n",
        "# To load the dataset: https://neptune.ai/blog/google-colab-dealing-with-files (check section \"Load individual files directly from GitHub\")\n",
        "# <---INSERT YOUR CODE HERE--->\n",
        "\n",
        "import pandas as pd\n",
        "vehicles_df = pd.read_csv(\"https://raw.githubusercontent.com/albanda/CE888/master/lab2%20-%20bootstrap/vehicles.csv\")\n",
        "print(vehicles_df.info())\n",
        "print(\"--------------------------------------------\\n\")\n",
        "print(vehicles_df.head(3))\n",
        "# Note: you can add more cells as needed to organise your code and your plots\n"
      ],
      "execution_count": 5,
      "outputs": [
        {
          "output_type": "stream",
          "text": [
            "<class 'pandas.core.frame.DataFrame'>\n",
            "RangeIndex: 249 entries, 0 to 248\n",
            "Data columns (total 2 columns):\n",
            " #   Column         Non-Null Count  Dtype  \n",
            "---  ------         --------------  -----  \n",
            " 0   Current fleet  249 non-null    int64  \n",
            " 1   New Fleet      79 non-null     float64\n",
            "dtypes: float64(1), int64(1)\n",
            "memory usage: 4.0 KB\n",
            "None\n",
            "--------------------------------------------\n",
            "\n",
            "   Current fleet  New Fleet\n",
            "0             18       24.0\n",
            "1             15       27.0\n",
            "2             18       27.0\n"
          ],
          "name": "stdout"
        }
      ]
    },
    {
      "cell_type": "code",
      "metadata": {
        "colab": {
          "base_uri": "https://localhost:8080/",
          "height": 391
        },
        "id": "xL7SZpV_rwOr",
        "outputId": "e5678eb8-607b-4f04-b441-9ae7c10d1dcf"
      },
      "source": [
        "from matplotlib import pyplot as plt\n",
        "# Note that the current and new fleets are in different columns and have different lengths, so bear this in mind when you're plotting.\n",
        "# You can create separate scatterplots for the two fleets, as you would with the histograms, \n",
        "# or plot them both in one plot (but not one against the other).\n",
        "plt.figure(figsize=(10,6))\n",
        "plt.plot(vehicles_df['Current fleet'],label='Current Fleet')\n",
        "plt.plot(vehicles_df['New Fleet'],label='New Fleet',color='green')\n",
        "plt.legend()"
      ],
      "execution_count": 21,
      "outputs": [
        {
          "output_type": "execute_result",
          "data": {
            "text/plain": [
              "<matplotlib.legend.Legend at 0x7f793b126750>"
            ]
          },
          "metadata": {
            "tags": []
          },
          "execution_count": 21
        },
        {
          "output_type": "display_data",
          "data": {
            "image/png": "[encoded data removed]",
            "text/plain": [
              "<Figure size 720x432 with 1 Axes>"
            ]
          },
          "metadata": {
            "tags": [],
            "needs_background": "light"
          }
        }
      ]
    },
    {
      "cell_type": "code",
      "metadata": {
        "colab": {
          "base_uri": "https://localhost:8080/",
          "height": 407
        },
        "id": "_p1oTSRdp1ip",
        "outputId": "e72b729c-b085-4e2f-ae96-1f65bd27aa12"
      },
      "source": [
        "plt.figure(figsize=(10,6))\n",
        "plt.subplot(1,2,1)\n",
        "plt.hist(vehicles_df['Current fleet'],bins=25)\n",
        "plt.title('Current Fleet')\n",
        "\n",
        "plt.subplot(1,2,2)\n",
        "plt.hist(vehicles_df['New Fleet'],bins=25)\n",
        "plt.title('New Fleet')"
      ],
      "execution_count": 24,
      "outputs": [
        {
          "output_type": "execute_result",
          "data": {
            "text/plain": [
              "Text(0.5, 1.0, 'New Fleet')"
            ]
          },
          "metadata": {
            "tags": []
          },
          "execution_count": 24
        },
        {
          "output_type": "display_data",
          "data": {
            "image/png": "[encoded data removed]",
            "text/plain": [
              "<Figure size 720x432 with 2 Axes>"
            ]
          },
          "metadata": {
            "tags": [],
            "needs_background": "light"
          }
        }
      ]
    },
    {
      "cell_type": "markdown",
      "metadata": {
        "id": "B5d0tXDpIEj8"
      },
      "source": [
        "## Compare the two fleets\n",
        "\n",
        "The business analysts come up a comparison algorithm that requires the upper and lower bounds for the mean in order to say which fleet is better.\n",
        "1. Calculate the mean of both samples.\n",
        "2. Using the bootstrap function that you created:\n",
        "    - Construct the 95% CI of the mean of the current fleet.\n",
        "    - Construct the 95% CI of the mean of the new fleet.\n",
        "    - Are they comparable? (i.e., is one better than the other?) -- you can do this with a permutation test (check the lecture notes!)"
      ]
    },
    {
      "cell_type": "code",
      "metadata": {
        "id": "po4mp6zRHC0m",
        "colab": {
          "base_uri": "https://localhost:8080/"
        },
        "outputId": "e58bf5e0-069f-44cf-f7a0-c75b67fcc5c8"
      },
      "source": [
        "# <---INSERT YOUR CODE HERE--->\n",
        "\n",
        "Currentfleet_mean = vehicles_df['Current fleet'].mean()\n",
        "Newfleet_mean = vehicles_df['New Fleet'].mean()\n",
        "print(f\"CurrentFleet mean : {Currentfleet_mean} \\n NewFleet mean : {Newfleet_mean} \\n\")\n",
        "\n",
        "# Construct the 95% CI of the mean of the current fleet.\n",
        "current_fleet = vehicles_df['Current fleet'].values\n",
        "mean,lower,upper = bootstrap_mean_ci(current_fleet, len(vehicles_df['Current fleet']), 10000,95)\n",
        "print(f\"The 95% CI of the mean of the current fleet is :  {np.round(lower,3)} - {np.round(upper,3)}\")\n",
        "\n",
        "# Construct the 95% CI of the mean of the new fleet.\n",
        "new_fleet = vehicles_df['New Fleet'].dropna().values\n",
        "mean,lower,upper = bootstrap_mean_ci(new_fleet, len(vehicles_df['New Fleet']), 10000,95)\n",
        "print(f\"The 95% CI of the mean of the  new fleet is    :  {np.round(lower,3)} - {np.round(upper,3)}\")"
      ],
      "execution_count": 124,
      "outputs": [
        {
          "output_type": "stream",
          "text": [
            "CurrentFleet mean : 20.14457831325301 \n",
            " NewFleet mean : 30.481012658227847 \n",
            "\n",
            "The 95% CI of the mean of the current fleet is :  19.365 - 20.952\n",
            "The 95% CI of the mean of the  new fleet is    :  29.731 - 31.237\n"
          ],
          "name": "stdout"
        }
      ]
    },
    {
      "cell_type": "markdown",
      "metadata": {
        "id": "z5ROEpDoToik"
      },
      "source": [
        "<b>Permutation Test : <br></b>\n",
        "Step1:Define test static<br>\n",
        "t observed = Newfleet mean - Currentfleet mean (observed value of test statistic)\n",
        "\n",
        "Step2: Forming Hypothesis <br>\n",
        "NUll Hypotheis: There is no diffrence between current fleet and new fleet MPG(their means are equal) <br>\n",
        "Alternate Hypothesis : New fleet MPG is higher than current fleet MPG(new fleet mean higher than current fleet) <br>\n",
        "\n",
        "Decide the significance level <br>\n",
        "\n",
        "Step3: <br>\n",
        "combine the Newfleet and current fleet observations, permutate them. Split again into new and current fleets based on their length. <br>\n",
        "Calculate the new mean for both new fleet and current fleet samples. <br>\n",
        "t permutated =  new Newfleet mean - new current fleet mean <br>\n",
        "Repeat  step3 'n' number of times  <br>\n",
        "\n",
        "Step4: <br>\n",
        "Count the number of times t permutated higher than t observed <br>\n",
        "Divide the count by n. This gives the p-value <br>\n",
        "\n",
        "Step5: <br>\n",
        "If the p-value is less than significance level, we can reject Null Hypothesis (Low p-value signifies that value we observed was not just obtained by pure chance)"
      ]
    },
    {
      "cell_type": "code",
      "metadata": {
        "id": "MkxvDZG4HC0n"
      },
      "source": [
        "# Create your own function for a permutation test here (you will need it for the lab quiz!):\n",
        "def permut_test(sample1, sample2, n_permutations):\n",
        "    \"\"\"\n",
        "    sample1: 1D array\n",
        "    sample2: 1D array (note that the size of the two arrays can be different)\n",
        "    n_permutations: number of permutations to calculate the p-value\n",
        "    \"\"\"\n",
        "    t_observed = np.mean(sample2) - np.mean(sample1) # sample2 is New fleet, sample1 is old fleet\n",
        "\n",
        "    concat = np.concatenate((sample1,sample2))\n",
        "\n",
        "    t_perm = []\n",
        "    count = 0\n",
        "    for i in range(n_permutations):\n",
        "      perm = np.random.permutation(concat)\n",
        "\n",
        "      new_CurrentFleet = perm[:len(sample1)]\n",
        "      new_NewFleet = perm[len(sample1):]\n",
        "\n",
        "      t_permutated = np.mean(new_NewFleet) - np.mean(new_CurrentFleet)\n",
        "      t_perm.append(t_permutated)\n",
        "    \n",
        "      if t_permutated>t_observed:\n",
        "        count+=1\n",
        "    pvalue = count/n_permutations\n",
        "   \n",
        "    return pvalue,t_perm"
      ],
      "execution_count": 114,
      "outputs": []
    },
    {
      "cell_type": "code",
      "metadata": {
        "colab": {
          "base_uri": "https://localhost:8080/",
          "height": 69
        },
        "id": "LeX232J86aCL",
        "outputId": "0724be23-e069-4adc-c812-8b8830e71b9d"
      },
      "source": [
        "# We are choosing a 5% significance level to see if the new fleet is better than current fleet,\n",
        "# p value less than 0.05 signifies that new fleet is better than current fleet, so we can reject our null hypothesis.\n",
        "p_value,t_perm = permut_test(current_fleet, new_fleet, 20000)\n",
        "print(f\"The obtained p-value after permutation test is {p_value}, which is lessthan 0.05\\n\")\n",
        "\n",
        "\"\"\"we found statistically significant differences at a 5% significance level in the average MPG of current and old fleets,with old fleet having higher MPG (p = 0.0).\"\"\""
      ],
      "execution_count": 128,
      "outputs": [
        {
          "output_type": "stream",
          "text": [
            "The obtained p-value after permutation test is 0.0, which is lessthan 0.05\n",
            "\n"
          ],
          "name": "stdout"
        },
        {
          "output_type": "execute_result",
          "data": {
            "application/vnd.google.colaboratory.intrinsic+json": {
              "type": "string"
            },
            "text/plain": [
              "'we found statistically significant differences at a 5% significance level in the average MPG of current  and old fleets,with old fleet having higher MPG (p = 0.0).'"
            ]
          },
          "metadata": {
            "tags": []
          },
          "execution_count": 128
        }
      ]
    },
    {
      "cell_type": "code",
      "metadata": {
        "colab": {
          "base_uri": "https://localhost:8080/",
          "height": 298
        },
        "id": "__eBqQ_07rwL",
        "outputId": "8e4a7268-43db-4518-a8fb-8d05bf54c710"
      },
      "source": [
        "import seaborn as sns\n",
        "sns.histplot(t_perm).set(title='Distribution of test-statistic (t_permutated')"
      ],
      "execution_count": 116,
      "outputs": [
        {
          "output_type": "execute_result",
          "data": {
            "text/plain": [
              "[Text(0.5, 1.0, 'Distribution of test-statistic (t_permutated')]"
            ]
          },
          "metadata": {
            "tags": []
          },
          "execution_count": 116
        },
        {
          "output_type": "display_data",
          "data": {
            "image/png": "[encoded data removed]",
            "text/plain": [
              "<Figure size 432x288 with 1 Axes>"
            ]
          },
          "metadata": {
            "tags": [],
            "needs_background": "light"
          }
        }
      ]
    },
    {
      "cell_type": "code",
      "metadata": {
        "colab": {
          "base_uri": "https://localhost:8080/",
          "height": 296
        },
        "id": "QpRPhos88Vlc",
        "outputId": "411c0052-4967-4ec0-e2d6-95c84f30f792"
      },
      "source": [
        "p =[]\n",
        "for i in range(2500,25000,2500):\n",
        "  p_value,t_perm = permut_test(current_fleet, new_fleet, i)\n",
        "  p.append(p_value)\n",
        "\n",
        "plt.scatter(x=range(2500,25000,2500),y=p)\n",
        "plt.xlabel('Number of permutations')\n",
        "plt.ylabel('p-value')"
      ],
      "execution_count": 117,
      "outputs": [
        {
          "output_type": "execute_result",
          "data": {
            "text/plain": [
              "Text(0, 0.5, 'p-value')"
            ]
          },
          "metadata": {
            "tags": []
          },
          "execution_count": 117
        },
        {
          "output_type": "display_data",
          "data": {
            "image/png": "[encoded data removed]",
            "text/plain": [
              "<Figure size 432x288 with 1 Axes>"
            ]
          },
          "metadata": {
            "tags": [],
            "needs_background": "light"
          }
        }
      ]
    },
    {
      "cell_type": "code",
      "metadata": {
        "colab": {
          "base_uri": "https://localhost:8080/"
        },
        "id": "KrRIJPRa0u5l",
        "outputId": "66e0168c-5017-4838-fc1d-fe70bed64c23"
      },
      "source": [
        "old = np.array([0, 0, 0, 0, 0, 0, 1, 0, 0, 1, 0])\n",
        "new = np.array([1, 0, 0, 1, 1, 1, 0, 0, 0, 1, 0])\n",
        "p,t_perm = permut_test(old, new, 20000)\n",
        "p"
      ],
      "execution_count": 119,
      "outputs": [
        {
          "output_type": "execute_result",
          "data": {
            "text/plain": [
              "0.0321"
            ]
          },
          "metadata": {
            "tags": []
          },
          "execution_count": 119
        }
      ]
    },
    {
      "cell_type": "code",
      "metadata": {
        "colab": {
          "base_uri": "https://localhost:8080/"
        },
        "id": "2Z7fB7fcXmBv",
        "outputId": "1734d548-4886-4f37-9fbe-a005ef568bed"
      },
      "source": [
        "old = np.array([0, 1, 1, 1, 0, 1, 1, 0, 0, 1, 0])\n",
        "new = np.array([0, 1, 1, 0, 1, 1, 0, 1, 1, 1, 0,0, 1, 1, 1, 1, 1, 1, 1])\n",
        "\n",
        "p,t_perm = permut_test(old, new, 20000)\n",
        "p\n"
      ],
      "execution_count": 132,
      "outputs": [
        {
          "output_type": "execute_result",
          "data": {
            "text/plain": [
              "0.07405"
            ]
          },
          "metadata": {
            "tags": []
          },
          "execution_count": 132
        }
      ]
    },
    {
      "cell_type": "code",
      "metadata": {
        "id": "rW4HJgVYK-XK"
      },
      "source": [
        "## Slightly modifying the above bootstrap function sothat \n",
        "## we can calculate the confidence interval for any gven teststatistic like mean, median, standard deviation and variance.\n",
        "def bootstrap_mean_general(sample, sample_size, n_bootstraps, ci, test_statistic):\n",
        "    array_of_samples = np.array([np.random.choice(sample,sample_size,replace=True) for _ in range(n_bootstraps)])\n",
        "    confidence_interval = ci/100\n",
        "    p1 = ((1-confidence_interval)/2)*100\n",
        "    p2 = (confidence_interval+((1-confidence_interval)/2))*100\n",
        "\n",
        "    if test_statistic == 'mean':\n",
        "      data_mean = np.mean(array_of_samples)\n",
        "      mean_of_each_bootstrap = np.array(np.mean(array_of_samples,axis=1))\n",
        "      lower = np.percentile(mean_of_each_bootstrap,p1)\n",
        "      upper = np.percentile(mean_of_each_bootstrap,p2)\n",
        "\n",
        "    elif test_statistic == 'median':\n",
        "      data_median = np.median(array_of_samples)\n",
        "      median_of_each_bootstrap = np.array(np.median(array_of_samples,axis=1))\n",
        "      lower = np.percentile(median_of_each_bootstrap,p1)\n",
        "      upper = np.percentile(median_of_each_bootstrap,p2)\n",
        "\n",
        "    elif test_statistic == 'standard deviation':\n",
        "      data_std_dev = np.std(array_of_samples)\n",
        "      std_dev_of_each_bootstrap = np.array(np.std(array_of_samples,axis=1))\n",
        "      lower = np.percentile(std_dev_of_each_bootstrap,p1)\n",
        "      upper = np.percentile(std_dev_of_each_bootstrap,p2)\n",
        "      \n",
        "    elif test_statistic == 'variance':\n",
        "      data_var = np.var(array_of_samples)\n",
        "      var_of_each_bootstrap = np.array(np.var(array_of_samples,axis=1))\n",
        "      lower = np.percentile(var_of_each_bootstrap,p1)\n",
        "      upper = np.percentile(var_of_each_bootstrap,p2)\n",
        "    else:\n",
        "      print(\"Enter either mean, median, standard deviation or variance to find the confidence intervals\")\n",
        "    return lower,upper"
      ],
      "execution_count": 104,
      "outputs": []
    },
    {
      "cell_type": "code",
      "metadata": {
        "colab": {
          "base_uri": "https://localhost:8080/"
        },
        "id": "MFZP5B2i2YVI",
        "outputId": "a6371694-33f9-4bf4-ea3a-bb039dddc109"
      },
      "source": [
        "## lab quiz: The 90% confidence interval for the mean of the customers dataset using 10000 iterations is\n",
        "bootstrap_mean_general(data, len(data), 10000, 90, \"mean\")"
      ],
      "execution_count": 106,
      "outputs": [
        {
          "output_type": "execute_result",
          "data": {
            "text/plain": [
              "(6.785714285714286, 11.714285714285714)"
            ]
          },
          "metadata": {
            "tags": []
          },
          "execution_count": 106
        }
      ]
    },
    {
      "cell_type": "code",
      "metadata": {
        "colab": {
          "base_uri": "https://localhost:8080/"
        },
        "id": "dZb23-M6Ihwg",
        "outputId": "54497141-d30e-46e6-8e86-e1854eb15326"
      },
      "source": [
        "#The 85% confidence interval for the mean of the old fleet in the vehicles dataset using 10000 iterations is\n",
        "bootstrap_mean_general(current_fleet, len(current_fleet), 10000, 85, \"mean\")"
      ],
      "execution_count": 107,
      "outputs": [
        {
          "output_type": "execute_result",
          "data": {
            "text/plain": [
              "(19.55823293172691, 20.73895582329317)"
            ]
          },
          "metadata": {
            "tags": []
          },
          "execution_count": 107
        }
      ]
    },
    {
      "cell_type": "code",
      "metadata": {
        "colab": {
          "base_uri": "https://localhost:8080/"
        },
        "id": "vv4var5tJAaQ",
        "outputId": "9e8590fe-51d3-4e5d-a79f-e3d2390a231d"
      },
      "source": [
        "#The 85% confidence interval for the standard deviation of the customers dataset using 10000 iterations is \n",
        "bootstrap_mean_general(data, len(data), 10000, 85, \"standard deviation\")"
      ],
      "execution_count": 108,
      "outputs": [
        {
          "output_type": "execute_result",
          "data": {
            "text/plain": [
              "(3.233277227930364, 6.946221994724902)"
            ]
          },
          "metadata": {
            "tags": []
          },
          "execution_count": 108
        }
      ]
    },
    {
      "cell_type": "code",
      "metadata": {
        "colab": {
          "base_uri": "https://localhost:8080/"
        },
        "id": "GnjHvv1eJNUv",
        "outputId": "3d72e1d7-c188-4325-bdb1-8c8ba4968b8d"
      },
      "source": [
        "#The 95% confidence interval for the standard deviation of the customers dataset using 10000 iterations is\n",
        "bootstrap_mean_general(data, len(data), 10000, 95, \"standard deviation\")"
      ],
      "execution_count": 109,
      "outputs": [
        {
          "output_type": "execute_result",
          "data": {
            "text/plain": [
              "(2.711464699443187, 7.340480438038405)"
            ]
          },
          "metadata": {
            "tags": []
          },
          "execution_count": 109
        }
      ]
    },
    {
      "cell_type": "code",
      "metadata": {
        "colab": {
          "base_uri": "https://localhost:8080/"
        },
        "id": "0zv_3gvwM5zH",
        "outputId": "0a5d9b25-29e7-45ab-95a4-5797b427f52e"
      },
      "source": [
        "#The p-value from a permutation test with 30000 permutations is, 0.01 (our significance level)\n",
        "p_value,t_perm = permut_test(current_fleet, new_fleet, 30000)\n",
        "p_value"
      ],
      "execution_count": 120,
      "outputs": [
        {
          "output_type": "execute_result",
          "data": {
            "text/plain": [
              "0.0"
            ]
          },
          "metadata": {
            "tags": []
          },
          "execution_count": 120
        }
      ]
    },
    {
      "cell_type": "code",
      "metadata": {
        "colab": {
          "base_uri": "https://localhost:8080/"
        },
        "id": "-7N-6yMSNOVi",
        "outputId": "9416aa4f-63ae-4360-a3cc-850335ff87ae"
      },
      "source": [
        "# 0.0<0.01 so we reject null hypothesis"
      ],
      "execution_count": 111,
      "outputs": [
        {
          "output_type": "execute_result",
          "data": {
            "text/plain": [
              "True"
            ]
          },
          "metadata": {
            "tags": []
          },
          "execution_count": 111
        }
      ]
    },
    {
      "cell_type": "code",
      "metadata": {
        "id": "ZLgNGJCsVIOa"
      },
      "source": [
        "# Type I error: rejecting H0 even though it is true (false positive)\n",
        "# Type II error: failing to reject H0 even though it is false (false negatives)"
      ],
      "execution_count": null,
      "outputs": []
    },
    {
      "cell_type": "code",
      "metadata": {
        "id": "Q6t46Ka3Xhd6"
      },
      "source": [
        "\"\"\"The data for this question is in voting_data.py.\n",
        "The file contains data for the 2008 US presidential election results from the “swing states” of PA and OH, specifically,\n",
        " the percentage of voters who voted for the Democrats within each county in a given state\"\"\"\n",
        "\n",
        "# The variables below represent the percentages of democratic votes in Pennsylvania and Ohio (one value for each state).\n",
        "dem_share_PA = [60.08, 40.64, 36.07, 41.21, 31.04, 43.78, 44.08, 46.85, 44.71, 46.15, 63.10, 52.20, 43.18, 40.24, 39.92, 47.87, 37.77, 40.11, 49.85, 48.61, 38.62, 54.25, 34.84, 47.75, 43.82, 55.97, 58.23, 42.97, 42.38, 36.11, 37.53, 42.65, 50.96, 47.43, 56.24, 45.60, 46.39, 35.22, 48.56, 32.97, 57.88, 36.05, 37.72, 50.36, 32.12, 41.55, 54.66, 57.81, 54.58, 32.88, 54.37, 40.45, 47.61, 60.49, 43.11, 27.32, 44.03, 33.56, 37.26, 54.64, 43.12, 25.34, 49.79, 83.56, 40.09, 60.81, 49.81]\n",
        "dem_share_OH = [56.94, 50.46, 65.99, 45.88, 42.23, 45.26, 57.01, 53.61, 59.10, 61.48, 43.43, 44.69, 54.59, 48.36, 45.89, 48.62, 43.92, 38.23, 28.79, 63.57, 38.07, 40.18, 43.05, 41.56, 42.49, 36.06, 52.76, 46.07, 39.43, 39.26, 47.47, 27.92, 38.01, 45.45, 29.07, 28.94, 51.28, 50.10, 39.84, 36.43, 35.71, 31.47, 47.01, 40.10, 48.76, 31.56, 39.86, 45.31, 35.47, 51.38, 46.33, 48.73, 41.77, 41.32, 48.46, 53.14, 34.01, 54.74, 40.67, 38.96, 46.29, 38.25, 6.80, 31.75, 46.33, 44.90, 33.57, 38.10, 39.67, 40.47, 49.44, 37.62, 36.71, 46.73, 42.20, 53.16, 52.40, 58.36, 68.02, 38.53, 34.58, 69.64, 60.50, 53.53, 36.54, 49.58, 41.97, 38.11]\n"
      ],
      "execution_count": 133,
      "outputs": []
    },
    {
      "cell_type": "code",
      "metadata": {
        "colab": {
          "base_uri": "https://localhost:8080/"
        },
        "id": "yKCdCUzWXp7g",
        "outputId": "af51bd70-2aea-492a-92fd-7ff6c646de0d"
      },
      "source": [
        "print(\"Number of values in PA : \",len(dem_share_PA))\n",
        "print(\"Number of values in OH : \",len(dem_share_OH))"
      ],
      "execution_count": 134,
      "outputs": [
        {
          "output_type": "stream",
          "text": [
            "Number of values in PA :  67\n",
            "Number of values in OH :  88\n"
          ],
          "name": "stdout"
        }
      ]
    },
    {
      "cell_type": "code",
      "metadata": {
        "colab": {
          "base_uri": "https://localhost:8080/"
        },
        "id": "rFvZSdPgYRbl",
        "outputId": "9ac1a7d2-7ff1-4111-c1d3-55ce8d63b785"
      },
      "source": [
        "#The 95% confidence intervals for the means of the votes using 20000 bootstraps are (give two decimal values, e.g., 1.23):\n",
        "print(bootstrap_mean_general(np.array(dem_share_OH), len(dem_share_OH), 20000, 95, \"mean\")) #OH\n",
        "print(bootstrap_mean_general(np.array(dem_share_PA), len(dem_share_PA), 20000, 95, \"mean\")) #PA"
      ],
      "execution_count": 138,
      "outputs": [
        {
          "output_type": "stream",
          "text": [
            "(42.25271590909091, 46.35550568181818)\n",
            "(43.19566417910448, 47.866425373134334)\n"
          ],
          "name": "stdout"
        }
      ]
    },
    {
      "cell_type": "code",
      "metadata": {
        "colab": {
          "base_uri": "https://localhost:8080/"
        },
        "id": "v92vhkwvZY4F",
        "outputId": "cf81f386-8fde-4307-93af-cbb02d249303"
      },
      "source": [
        "# The p-value from a permutation test with 10000 permutations, 0.05 (our significance level)\n",
        "\n",
        "p_value,t_perm = permut_test(np.array(dem_share_OH), np.array(dem_share_PA),10000)\n",
        "p_value"
      ],
      "execution_count": 139,
      "outputs": [
        {
          "output_type": "execute_result",
          "data": {
            "text/plain": [
              "0.2325"
            ]
          },
          "metadata": {
            "tags": []
          },
          "execution_count": 139
        }
      ]
    },
    {
      "cell_type": "code",
      "metadata": {
        "id": "tgnSYINfabX0"
      },
      "source": [
        ""
      ],
      "execution_count": null,
      "outputs": []
    }
  ]
}