{
  "nbformat": 4,
  "nbformat_minor": 0,
  "metadata": {
    "colab": {
      "name": "bank_classification.ipynb",
      "provenance": []
    },
    "kernelspec": {
      "name": "python3",
      "display_name": "Python 3"
    },
    "language_info": {
      "name": "python"
    }
  },
  "cells": [
    {
      "cell_type": "code",
      "metadata": {
        "id": "0HF2S3HiOFIM"
      },
      "source": [
        "import numpy as np\n",
        "import pandas as pd\n",
        "import seaborn as sns\n",
        "import sklearn\n",
        "from sklearn.preprocessing import LabelEncoder\n",
        "from sklearn.model_selection import train_test_split\n",
        "from sklearn.model_selection import cross_val_score, GridSearchCV,StratifiedKFold\n",
        "from sklearn.ensemble import RandomForestClassifier\n",
        "from sklearn.dummy import DummyClassifier\n",
        "from sklearn import metrics\n",
        "from sklearn.metrics import make_scorer,confusion_matrix,accuracy_score"
      ],
      "execution_count": 1,
      "outputs": []
    },
    {
      "cell_type": "code",
      "metadata": {
        "colab": {
          "base_uri": "https://localhost:8080/"
        },
        "id": "-70_0CXVOak1",
        "outputId": "7a2adfab-78e6-4c65-ad5f-b9b8abfe6b97"
      },
      "source": [
        "!wget \"https://raw.githubusercontent.com/albanda/CE888/master/lab3/bank-additional-full.csv\""
      ],
      "execution_count": 2,
      "outputs": [
        {
          "output_type": "stream",
          "text": [
            "--2021-04-22 12:33:38--  https://raw.githubusercontent.com/albanda/CE888/master/lab3/bank-additional-full.csv\n",
            "Resolving raw.githubusercontent.com (raw.githubusercontent.com)... 185.199.108.133, 185.199.109.133, 185.199.110.133, ...\n",
            "Connecting to raw.githubusercontent.com (raw.githubusercontent.com)|185.199.108.133|:443... connected.\n",
            "HTTP request sent, awaiting response... 200 OK\n",
            "Length: 5834924 (5.6M) [text/plain]\n",
            "Saving to: ‘bank-additional-full.csv’\n",
            "\n",
            "bank-additional-ful 100%[===================>]   5.56M  26.2MB/s    in 0.2s    \n",
            "\n",
            "2021-04-22 12:33:39 (26.2 MB/s) - ‘bank-additional-full.csv’ saved [5834924/5834924]\n",
            "\n"
          ],
          "name": "stdout"
        }
      ]
    },
    {
      "cell_type": "markdown",
      "metadata": {
        "id": "XkiPkmcbsAwp"
      },
      "source": [
        "**Data Set Information:**\n",
        "\n",
        "The data is related with direct marketing campaigns of a Portuguese banking institution. The marketing campaigns were based on phone calls. Often, more than one contact to the same client was required, in order to access if the product (bank term deposit) would be ('yes') or not ('no') subscribed.\n",
        "\n",
        "Output variable (desired target):\n",
        "y - has the client subscribed a term deposit? (binary: 'yes','no')"
      ]
    },
    {
      "cell_type": "code",
      "metadata": {
        "colab": {
          "base_uri": "https://localhost:8080/",
          "height": 215
        },
        "id": "NUDoamU3OhXv",
        "outputId": "b40451e1-6d05-44d2-d470-19c913dc0341"
      },
      "source": [
        "data = pd.read_csv(\"/content/bank-additional-full.csv\",sep=\";\")\n",
        "data.head()"
      ],
      "execution_count": 3,
      "outputs": [
        {
          "output_type": "execute_result",
          "data": {
            "text/html": [
              "<div>\n",
              "<style scoped>\n",
              "    .dataframe tbody tr th:only-of-type {\n",
              "        vertical-align: middle;\n",
              "    }\n",
              "\n",
              "    .dataframe tbody tr th {\n",
              "        vertical-align: top;\n",
              "    }\n",
              "\n",
              "    .dataframe thead th {\n",
              "        text-align: right;\n",
              "    }\n",
              "</style>\n",
              "<table border=\"1\" class=\"dataframe\">\n",
              "  <thead>\n",
              "    <tr style=\"text-align: right;\">\n",
              "      <th></th>\n",
              "      <th>age</th>\n",
              "      <th>job</th>\n",
              "      <th>marital</th>\n",
              "      <th>education</th>\n",
              "      <th>default</th>\n",
              "      <th>housing</th>\n",
              "      <th>loan</th>\n",
              "      <th>contact</th>\n",
              "      <th>month</th>\n",
              "      <th>day_of_week</th>\n",
              "      <th>duration</th>\n",
              "      <th>campaign</th>\n",
              "      <th>pdays</th>\n",
              "      <th>previous</th>\n",
              "      <th>poutcome</th>\n",
              "      <th>emp.var.rate</th>\n",
              "      <th>cons.price.idx</th>\n",
              "      <th>cons.conf.idx</th>\n",
              "      <th>euribor3m</th>\n",
              "      <th>nr.employed</th>\n",
              "      <th>y</th>\n",
              "    </tr>\n",
              "  </thead>\n",
              "  <tbody>\n",
              "    <tr>\n",
              "      <th>0</th>\n",
              "      <td>56</td>\n",
              "      <td>housemaid</td>\n",
              "      <td>married</td>\n",
              "      <td>basic.4y</td>\n",
              "      <td>no</td>\n",
              "      <td>no</td>\n",
              "      <td>no</td>\n",
              "      <td>telephone</td>\n",
              "      <td>may</td>\n",
              "      <td>mon</td>\n",
              "      <td>261</td>\n",
              "      <td>1</td>\n",
              "      <td>999</td>\n",
              "      <td>0</td>\n",
              "      <td>nonexistent</td>\n",
              "      <td>1.1</td>\n",
              "      <td>93.994</td>\n",
              "      <td>-36.4</td>\n",
              "      <td>4.857</td>\n",
              "      <td>5191.0</td>\n",
              "      <td>no</td>\n",
              "    </tr>\n",
              "    <tr>\n",
              "      <th>1</th>\n",
              "      <td>57</td>\n",
              "      <td>services</td>\n",
              "      <td>married</td>\n",
              "      <td>high.school</td>\n",
              "      <td>unknown</td>\n",
              "      <td>no</td>\n",
              "      <td>no</td>\n",
              "      <td>telephone</td>\n",
              "      <td>may</td>\n",
              "      <td>mon</td>\n",
              "      <td>149</td>\n",
              "      <td>1</td>\n",
              "      <td>999</td>\n",
              "      <td>0</td>\n",
              "      <td>nonexistent</td>\n",
              "      <td>1.1</td>\n",
              "      <td>93.994</td>\n",
              "      <td>-36.4</td>\n",
              "      <td>4.857</td>\n",
              "      <td>5191.0</td>\n",
              "      <td>no</td>\n",
              "    </tr>\n",
              "    <tr>\n",
              "      <th>2</th>\n",
              "      <td>37</td>\n",
              "      <td>services</td>\n",
              "      <td>married</td>\n",
              "      <td>high.school</td>\n",
              "      <td>no</td>\n",
              "      <td>yes</td>\n",
              "      <td>no</td>\n",
              "      <td>telephone</td>\n",
              "      <td>may</td>\n",
              "      <td>mon</td>\n",
              "      <td>226</td>\n",
              "      <td>1</td>\n",
              "      <td>999</td>\n",
              "      <td>0</td>\n",
              "      <td>nonexistent</td>\n",
              "      <td>1.1</td>\n",
              "      <td>93.994</td>\n",
              "      <td>-36.4</td>\n",
              "      <td>4.857</td>\n",
              "      <td>5191.0</td>\n",
              "      <td>no</td>\n",
              "    </tr>\n",
              "    <tr>\n",
              "      <th>3</th>\n",
              "      <td>40</td>\n",
              "      <td>admin.</td>\n",
              "      <td>married</td>\n",
              "      <td>basic.6y</td>\n",
              "      <td>no</td>\n",
              "      <td>no</td>\n",
              "      <td>no</td>\n",
              "      <td>telephone</td>\n",
              "      <td>may</td>\n",
              "      <td>mon</td>\n",
              "      <td>151</td>\n",
              "      <td>1</td>\n",
              "      <td>999</td>\n",
              "      <td>0</td>\n",
              "      <td>nonexistent</td>\n",
              "      <td>1.1</td>\n",
              "      <td>93.994</td>\n",
              "      <td>-36.4</td>\n",
              "      <td>4.857</td>\n",
              "      <td>5191.0</td>\n",
              "      <td>no</td>\n",
              "    </tr>\n",
              "    <tr>\n",
              "      <th>4</th>\n",
              "      <td>56</td>\n",
              "      <td>services</td>\n",
              "      <td>married</td>\n",
              "      <td>high.school</td>\n",
              "      <td>no</td>\n",
              "      <td>no</td>\n",
              "      <td>yes</td>\n",
              "      <td>telephone</td>\n",
              "      <td>may</td>\n",
              "      <td>mon</td>\n",
              "      <td>307</td>\n",
              "      <td>1</td>\n",
              "      <td>999</td>\n",
              "      <td>0</td>\n",
              "      <td>nonexistent</td>\n",
              "      <td>1.1</td>\n",
              "      <td>93.994</td>\n",
              "      <td>-36.4</td>\n",
              "      <td>4.857</td>\n",
              "      <td>5191.0</td>\n",
              "      <td>no</td>\n",
              "    </tr>\n",
              "  </tbody>\n",
              "</table>\n",
              "</div>"
            ],
            "text/plain": [
              "   age        job  marital  ... euribor3m nr.employed   y\n",
              "0   56  housemaid  married  ...     4.857      5191.0  no\n",
              "1   57   services  married  ...     4.857      5191.0  no\n",
              "2   37   services  married  ...     4.857      5191.0  no\n",
              "3   40     admin.  married  ...     4.857      5191.0  no\n",
              "4   56   services  married  ...     4.857      5191.0  no\n",
              "\n",
              "[5 rows x 21 columns]"
            ]
          },
          "metadata": {
            "tags": []
          },
          "execution_count": 3
        }
      ]
    },
    {
      "cell_type": "code",
      "metadata": {
        "colab": {
          "base_uri": "https://localhost:8080/"
        },
        "id": "-vn9mRLawiHm",
        "outputId": "56b7f32b-0c89-4510-ca61-9eb5725f4d9a"
      },
      "source": [
        "data.shape"
      ],
      "execution_count": 47,
      "outputs": [
        {
          "output_type": "execute_result",
          "data": {
            "text/plain": [
              "(41188, 21)"
            ]
          },
          "metadata": {
            "tags": []
          },
          "execution_count": 47
        }
      ]
    },
    {
      "cell_type": "code",
      "metadata": {
        "id": "hS5zatOFOzbJ",
        "colab": {
          "base_uri": "https://localhost:8080/"
        },
        "outputId": "81ba56f7-095b-4b74-abc2-02a0f924371c"
      },
      "source": [
        "data.info()\n",
        "# The dataset has 20 columns(19 features, 1 response variable) and 41188 observations"
      ],
      "execution_count": 4,
      "outputs": [
        {
          "output_type": "stream",
          "text": [
            "<class 'pandas.core.frame.DataFrame'>\n",
            "RangeIndex: 41188 entries, 0 to 41187\n",
            "Data columns (total 21 columns):\n",
            " #   Column          Non-Null Count  Dtype  \n",
            "---  ------          --------------  -----  \n",
            " 0   age             41188 non-null  int64  \n",
            " 1   job             41188 non-null  object \n",
            " 2   marital         41188 non-null  object \n",
            " 3   education       41188 non-null  object \n",
            " 4   default         41188 non-null  object \n",
            " 5   housing         41188 non-null  object \n",
            " 6   loan            41188 non-null  object \n",
            " 7   contact         41188 non-null  object \n",
            " 8   month           41188 non-null  object \n",
            " 9   day_of_week     41188 non-null  object \n",
            " 10  duration        41188 non-null  int64  \n",
            " 11  campaign        41188 non-null  int64  \n",
            " 12  pdays           41188 non-null  int64  \n",
            " 13  previous        41188 non-null  int64  \n",
            " 14  poutcome        41188 non-null  object \n",
            " 15  emp.var.rate    41188 non-null  float64\n",
            " 16  cons.price.idx  41188 non-null  float64\n",
            " 17  cons.conf.idx   41188 non-null  float64\n",
            " 18  euribor3m       41188 non-null  float64\n",
            " 19  nr.employed     41188 non-null  float64\n",
            " 20  y               41188 non-null  object \n",
            "dtypes: float64(5), int64(5), object(11)\n",
            "memory usage: 6.6+ MB\n"
          ],
          "name": "stdout"
        }
      ]
    },
    {
      "cell_type": "code",
      "metadata": {
        "colab": {
          "base_uri": "https://localhost:8080/"
        },
        "id": "ZnJuPAfkp8he",
        "outputId": "2150c995-b36e-46e9-e81c-258e017ceca3"
      },
      "source": [
        "# list of all numerical features in the data\n",
        "numerical_features = [column for column in data.columns if data[column].dtype!='object']\n",
        "numerical_features"
      ],
      "execution_count": 5,
      "outputs": [
        {
          "output_type": "execute_result",
          "data": {
            "text/plain": [
              "['age',\n",
              " 'duration',\n",
              " 'campaign',\n",
              " 'pdays',\n",
              " 'previous',\n",
              " 'emp.var.rate',\n",
              " 'cons.price.idx',\n",
              " 'cons.conf.idx',\n",
              " 'euribor3m',\n",
              " 'nr.employed']"
            ]
          },
          "metadata": {
            "tags": []
          },
          "execution_count": 5
        }
      ]
    },
    {
      "cell_type": "code",
      "metadata": {
        "colab": {
          "base_uri": "https://localhost:8080/"
        },
        "id": "0NK3Ur2YpnVS",
        "outputId": "6b47c0a8-fb2a-49f0-97c8-407c8073bef6"
      },
      "source": [
        "# list of all the categorical features in the data\n",
        "categorical_features = [column for column in data.columns if (column!='y') and (data[column].dtype=='object')]\n",
        "categorical_features"
      ],
      "execution_count": 6,
      "outputs": [
        {
          "output_type": "execute_result",
          "data": {
            "text/plain": [
              "['job',\n",
              " 'marital',\n",
              " 'education',\n",
              " 'default',\n",
              " 'housing',\n",
              " 'loan',\n",
              " 'contact',\n",
              " 'month',\n",
              " 'day_of_week',\n",
              " 'poutcome']"
            ]
          },
          "metadata": {
            "tags": []
          },
          "execution_count": 6
        }
      ]
    },
    {
      "cell_type": "code",
      "metadata": {
        "colab": {
          "base_uri": "https://localhost:8080/"
        },
        "id": "W7d2MNc0k-N2",
        "outputId": "1031f2a8-eee4-4778-9e3d-b685f5990509"
      },
      "source": [
        "categories = [f\"{column} : {data[column].unique()}\" for column in categorical_features]\n",
        "categories"
      ],
      "execution_count": 14,
      "outputs": [
        {
          "output_type": "execute_result",
          "data": {
            "text/plain": [
              "[\"job : ['housemaid' 'services' 'admin.' 'blue-collar' 'technician' 'retired'\\n 'management' 'unemployed' 'self-employed' 'unknown' 'entrepreneur'\\n 'student']\",\n",
              " \"marital : ['married' 'single' 'divorced' 'unknown']\",\n",
              " \"education : ['basic.4y' 'high.school' 'basic.6y' 'basic.9y' 'professional.course'\\n 'unknown' 'university.degree' 'illiterate']\",\n",
              " \"default : ['no' 'unknown' 'yes']\",\n",
              " \"housing : ['no' 'yes' 'unknown']\",\n",
              " \"loan : ['no' 'yes' 'unknown']\",\n",
              " \"contact : ['telephone' 'cellular']\",\n",
              " \"month : ['may' 'jun' 'jul' 'aug' 'oct' 'nov' 'dec' 'mar' 'apr' 'sep']\",\n",
              " \"day_of_week : ['mon' 'tue' 'wed' 'thu' 'fri']\",\n",
              " \"poutcome : ['nonexistent' 'failure' 'success']\"]"
            ]
          },
          "metadata": {
            "tags": []
          },
          "execution_count": 14
        }
      ]
    },
    {
      "cell_type": "markdown",
      "metadata": {
        "id": "zFv5ezpd7eWQ"
      },
      "source": [
        "**Data Preprocessing**<br>\n",
        "- Use LabelEncoder to convert the label into numbers.<br>\n",
        "- Perform one-hot encoding on the categorical features using df_dummies = pd.get_dummies(df)<br>\n",
        "- Column \"duration\" must be deleted<br>\n",
        "- Check if there are any missing values in the dataset. If there are, drop the rows.<br>\n",
        "- Plot histogram of the label and calculate the imbalance in the dataset.<br>"
      ]
    },
    {
      "cell_type": "code",
      "metadata": {
        "colab": {
          "base_uri": "https://localhost:8080/"
        },
        "id": "UyDZRF3BqyZX",
        "outputId": "01231545-b30a-45f7-b411-9be234752527"
      },
      "source": [
        "# making a copy of original data\n",
        "df = data.copy()\n",
        "df.shape"
      ],
      "execution_count": 7,
      "outputs": [
        {
          "output_type": "execute_result",
          "data": {
            "text/plain": [
              "(41188, 21)"
            ]
          },
          "metadata": {
            "tags": []
          },
          "execution_count": 7
        }
      ]
    },
    {
      "cell_type": "code",
      "metadata": {
        "id": "mEFUi3Mmq5RC"
      },
      "source": [
        "# Encoding the labels using LabelEncoder\n",
        "df[['y']] = df[['y']].apply(LabelEncoder().fit_transform)"
      ],
      "execution_count": 8,
      "outputs": []
    },
    {
      "cell_type": "code",
      "metadata": {
        "colab": {
          "base_uri": "https://localhost:8080/"
        },
        "id": "MJkLkUg3rK9w",
        "outputId": "572a52d2-a2e4-4d4e-aff7-2c73b13a4e64"
      },
      "source": [
        "df['y'].unique()"
      ],
      "execution_count": 9,
      "outputs": [
        {
          "output_type": "execute_result",
          "data": {
            "text/plain": [
              "array([0, 1])"
            ]
          },
          "metadata": {
            "tags": []
          },
          "execution_count": 9
        }
      ]
    },
    {
      "cell_type": "code",
      "metadata": {
        "colab": {
          "base_uri": "https://localhost:8080/",
          "height": 232
        },
        "id": "0Fn90e1pre5s",
        "outputId": "c593eaf9-a7d1-4e1b-e7d1-686f54e0a482"
      },
      "source": [
        "# Encoding categerical features to numerical using pandas get_dummies() method\n",
        "df = pd.get_dummies(df, categorical_features)\n",
        "df.head()"
      ],
      "execution_count": 15,
      "outputs": [
        {
          "output_type": "execute_result",
          "data": {
            "text/html": [
              "<div>\n",
              "<style scoped>\n",
              "    .dataframe tbody tr th:only-of-type {\n",
              "        vertical-align: middle;\n",
              "    }\n",
              "\n",
              "    .dataframe tbody tr th {\n",
              "        vertical-align: top;\n",
              "    }\n",
              "\n",
              "    .dataframe thead th {\n",
              "        text-align: right;\n",
              "    }\n",
              "</style>\n",
              "<table border=\"1\" class=\"dataframe\">\n",
              "  <thead>\n",
              "    <tr style=\"text-align: right;\">\n",
              "      <th></th>\n",
              "      <th>age</th>\n",
              "      <th>duration</th>\n",
              "      <th>campaign</th>\n",
              "      <th>pdays</th>\n",
              "      <th>previous</th>\n",
              "      <th>emp.var.rate</th>\n",
              "      <th>cons.price.idx</th>\n",
              "      <th>cons.conf.idx</th>\n",
              "      <th>euribor3m</th>\n",
              "      <th>nr.employed</th>\n",
              "      <th>y</th>\n",
              "      <th>job_admin.</th>\n",
              "      <th>job_blue-collar</th>\n",
              "      <th>job_entrepreneur</th>\n",
              "      <th>job_housemaid</th>\n",
              "      <th>job_management</th>\n",
              "      <th>job_retired</th>\n",
              "      <th>job_self-employed</th>\n",
              "      <th>job_services</th>\n",
              "      <th>job_student</th>\n",
              "      <th>job_technician</th>\n",
              "      <th>job_unemployed</th>\n",
              "      <th>job_unknown</th>\n",
              "      <th>marital_divorced</th>\n",
              "      <th>marital_married</th>\n",
              "      <th>marital_single</th>\n",
              "      <th>marital_unknown</th>\n",
              "      <th>education_basic.4y</th>\n",
              "      <th>education_basic.6y</th>\n",
              "      <th>education_basic.9y</th>\n",
              "      <th>education_high.school</th>\n",
              "      <th>education_illiterate</th>\n",
              "      <th>education_professional.course</th>\n",
              "      <th>education_university.degree</th>\n",
              "      <th>education_unknown</th>\n",
              "      <th>default_no</th>\n",
              "      <th>default_unknown</th>\n",
              "      <th>default_yes</th>\n",
              "      <th>housing_no</th>\n",
              "      <th>housing_unknown</th>\n",
              "      <th>housing_yes</th>\n",
              "      <th>loan_no</th>\n",
              "      <th>loan_unknown</th>\n",
              "      <th>loan_yes</th>\n",
              "      <th>contact_cellular</th>\n",
              "      <th>contact_telephone</th>\n",
              "      <th>month_apr</th>\n",
              "      <th>month_aug</th>\n",
              "      <th>month_dec</th>\n",
              "      <th>month_jul</th>\n",
              "      <th>month_jun</th>\n",
              "      <th>month_mar</th>\n",
              "      <th>month_may</th>\n",
              "      <th>month_nov</th>\n",
              "      <th>month_oct</th>\n",
              "      <th>month_sep</th>\n",
              "      <th>day_of_week_fri</th>\n",
              "      <th>day_of_week_mon</th>\n",
              "      <th>day_of_week_thu</th>\n",
              "      <th>day_of_week_tue</th>\n",
              "      <th>day_of_week_wed</th>\n",
              "      <th>poutcome_failure</th>\n",
              "      <th>poutcome_nonexistent</th>\n",
              "      <th>poutcome_success</th>\n",
              "    </tr>\n",
              "  </thead>\n",
              "  <tbody>\n",
              "    <tr>\n",
              "      <th>0</th>\n",
              "      <td>56</td>\n",
              "      <td>261</td>\n",
              "      <td>1</td>\n",
              "      <td>999</td>\n",
              "      <td>0</td>\n",
              "      <td>1.1</td>\n",
              "      <td>93.994</td>\n",
              "      <td>-36.4</td>\n",
              "      <td>4.857</td>\n",
              "      <td>5191.0</td>\n",
              "      <td>0</td>\n",
              "      <td>0</td>\n",
              "      <td>0</td>\n",
              "      <td>0</td>\n",
              "      <td>1</td>\n",
              "      <td>0</td>\n",
              "      <td>0</td>\n",
              "      <td>0</td>\n",
              "      <td>0</td>\n",
              "      <td>0</td>\n",
              "      <td>0</td>\n",
              "      <td>0</td>\n",
              "      <td>0</td>\n",
              "      <td>0</td>\n",
              "      <td>1</td>\n",
              "      <td>0</td>\n",
              "      <td>0</td>\n",
              "      <td>1</td>\n",
              "      <td>0</td>\n",
              "      <td>0</td>\n",
              "      <td>0</td>\n",
              "      <td>0</td>\n",
              "      <td>0</td>\n",
              "      <td>0</td>\n",
              "      <td>0</td>\n",
              "      <td>1</td>\n",
              "      <td>0</td>\n",
              "      <td>0</td>\n",
              "      <td>1</td>\n",
              "      <td>0</td>\n",
              "      <td>0</td>\n",
              "      <td>1</td>\n",
              "      <td>0</td>\n",
              "      <td>0</td>\n",
              "      <td>0</td>\n",
              "      <td>1</td>\n",
              "      <td>0</td>\n",
              "      <td>0</td>\n",
              "      <td>0</td>\n",
              "      <td>0</td>\n",
              "      <td>0</td>\n",
              "      <td>0</td>\n",
              "      <td>1</td>\n",
              "      <td>0</td>\n",
              "      <td>0</td>\n",
              "      <td>0</td>\n",
              "      <td>0</td>\n",
              "      <td>1</td>\n",
              "      <td>0</td>\n",
              "      <td>0</td>\n",
              "      <td>0</td>\n",
              "      <td>0</td>\n",
              "      <td>1</td>\n",
              "      <td>0</td>\n",
              "    </tr>\n",
              "    <tr>\n",
              "      <th>1</th>\n",
              "      <td>57</td>\n",
              "      <td>149</td>\n",
              "      <td>1</td>\n",
              "      <td>999</td>\n",
              "      <td>0</td>\n",
              "      <td>1.1</td>\n",
              "      <td>93.994</td>\n",
              "      <td>-36.4</td>\n",
              "      <td>4.857</td>\n",
              "      <td>5191.0</td>\n",
              "      <td>0</td>\n",
              "      <td>0</td>\n",
              "      <td>0</td>\n",
              "      <td>0</td>\n",
              "      <td>0</td>\n",
              "      <td>0</td>\n",
              "      <td>0</td>\n",
              "      <td>0</td>\n",
              "      <td>1</td>\n",
              "      <td>0</td>\n",
              "      <td>0</td>\n",
              "      <td>0</td>\n",
              "      <td>0</td>\n",
              "      <td>0</td>\n",
              "      <td>1</td>\n",
              "      <td>0</td>\n",
              "      <td>0</td>\n",
              "      <td>0</td>\n",
              "      <td>0</td>\n",
              "      <td>0</td>\n",
              "      <td>1</td>\n",
              "      <td>0</td>\n",
              "      <td>0</td>\n",
              "      <td>0</td>\n",
              "      <td>0</td>\n",
              "      <td>0</td>\n",
              "      <td>1</td>\n",
              "      <td>0</td>\n",
              "      <td>1</td>\n",
              "      <td>0</td>\n",
              "      <td>0</td>\n",
              "      <td>1</td>\n",
              "      <td>0</td>\n",
              "      <td>0</td>\n",
              "      <td>0</td>\n",
              "      <td>1</td>\n",
              "      <td>0</td>\n",
              "      <td>0</td>\n",
              "      <td>0</td>\n",
              "      <td>0</td>\n",
              "      <td>0</td>\n",
              "      <td>0</td>\n",
              "      <td>1</td>\n",
              "      <td>0</td>\n",
              "      <td>0</td>\n",
              "      <td>0</td>\n",
              "      <td>0</td>\n",
              "      <td>1</td>\n",
              "      <td>0</td>\n",
              "      <td>0</td>\n",
              "      <td>0</td>\n",
              "      <td>0</td>\n",
              "      <td>1</td>\n",
              "      <td>0</td>\n",
              "    </tr>\n",
              "    <tr>\n",
              "      <th>2</th>\n",
              "      <td>37</td>\n",
              "      <td>226</td>\n",
              "      <td>1</td>\n",
              "      <td>999</td>\n",
              "      <td>0</td>\n",
              "      <td>1.1</td>\n",
              "      <td>93.994</td>\n",
              "      <td>-36.4</td>\n",
              "      <td>4.857</td>\n",
              "      <td>5191.0</td>\n",
              "      <td>0</td>\n",
              "      <td>0</td>\n",
              "      <td>0</td>\n",
              "      <td>0</td>\n",
              "      <td>0</td>\n",
              "      <td>0</td>\n",
              "      <td>0</td>\n",
              "      <td>0</td>\n",
              "      <td>1</td>\n",
              "      <td>0</td>\n",
              "      <td>0</td>\n",
              "      <td>0</td>\n",
              "      <td>0</td>\n",
              "      <td>0</td>\n",
              "      <td>1</td>\n",
              "      <td>0</td>\n",
              "      <td>0</td>\n",
              "      <td>0</td>\n",
              "      <td>0</td>\n",
              "      <td>0</td>\n",
              "      <td>1</td>\n",
              "      <td>0</td>\n",
              "      <td>0</td>\n",
              "      <td>0</td>\n",
              "      <td>0</td>\n",
              "      <td>1</td>\n",
              "      <td>0</td>\n",
              "      <td>0</td>\n",
              "      <td>0</td>\n",
              "      <td>0</td>\n",
              "      <td>1</td>\n",
              "      <td>1</td>\n",
              "      <td>0</td>\n",
              "      <td>0</td>\n",
              "      <td>0</td>\n",
              "      <td>1</td>\n",
              "      <td>0</td>\n",
              "      <td>0</td>\n",
              "      <td>0</td>\n",
              "      <td>0</td>\n",
              "      <td>0</td>\n",
              "      <td>0</td>\n",
              "      <td>1</td>\n",
              "      <td>0</td>\n",
              "      <td>0</td>\n",
              "      <td>0</td>\n",
              "      <td>0</td>\n",
              "      <td>1</td>\n",
              "      <td>0</td>\n",
              "      <td>0</td>\n",
              "      <td>0</td>\n",
              "      <td>0</td>\n",
              "      <td>1</td>\n",
              "      <td>0</td>\n",
              "    </tr>\n",
              "    <tr>\n",
              "      <th>3</th>\n",
              "      <td>40</td>\n",
              "      <td>151</td>\n",
              "      <td>1</td>\n",
              "      <td>999</td>\n",
              "      <td>0</td>\n",
              "      <td>1.1</td>\n",
              "      <td>93.994</td>\n",
              "      <td>-36.4</td>\n",
              "      <td>4.857</td>\n",
              "      <td>5191.0</td>\n",
              "      <td>0</td>\n",
              "      <td>1</td>\n",
              "      <td>0</td>\n",
              "      <td>0</td>\n",
              "      <td>0</td>\n",
              "      <td>0</td>\n",
              "      <td>0</td>\n",
              "      <td>0</td>\n",
              "      <td>0</td>\n",
              "      <td>0</td>\n",
              "      <td>0</td>\n",
              "      <td>0</td>\n",
              "      <td>0</td>\n",
              "      <td>0</td>\n",
              "      <td>1</td>\n",
              "      <td>0</td>\n",
              "      <td>0</td>\n",
              "      <td>0</td>\n",
              "      <td>1</td>\n",
              "      <td>0</td>\n",
              "      <td>0</td>\n",
              "      <td>0</td>\n",
              "      <td>0</td>\n",
              "      <td>0</td>\n",
              "      <td>0</td>\n",
              "      <td>1</td>\n",
              "      <td>0</td>\n",
              "      <td>0</td>\n",
              "      <td>1</td>\n",
              "      <td>0</td>\n",
              "      <td>0</td>\n",
              "      <td>1</td>\n",
              "      <td>0</td>\n",
              "      <td>0</td>\n",
              "      <td>0</td>\n",
              "      <td>1</td>\n",
              "      <td>0</td>\n",
              "      <td>0</td>\n",
              "      <td>0</td>\n",
              "      <td>0</td>\n",
              "      <td>0</td>\n",
              "      <td>0</td>\n",
              "      <td>1</td>\n",
              "      <td>0</td>\n",
              "      <td>0</td>\n",
              "      <td>0</td>\n",
              "      <td>0</td>\n",
              "      <td>1</td>\n",
              "      <td>0</td>\n",
              "      <td>0</td>\n",
              "      <td>0</td>\n",
              "      <td>0</td>\n",
              "      <td>1</td>\n",
              "      <td>0</td>\n",
              "    </tr>\n",
              "    <tr>\n",
              "      <th>4</th>\n",
              "      <td>56</td>\n",
              "      <td>307</td>\n",
              "      <td>1</td>\n",
              "      <td>999</td>\n",
              "      <td>0</td>\n",
              "      <td>1.1</td>\n",
              "      <td>93.994</td>\n",
              "      <td>-36.4</td>\n",
              "      <td>4.857</td>\n",
              "      <td>5191.0</td>\n",
              "      <td>0</td>\n",
              "      <td>0</td>\n",
              "      <td>0</td>\n",
              "      <td>0</td>\n",
              "      <td>0</td>\n",
              "      <td>0</td>\n",
              "      <td>0</td>\n",
              "      <td>0</td>\n",
              "      <td>1</td>\n",
              "      <td>0</td>\n",
              "      <td>0</td>\n",
              "      <td>0</td>\n",
              "      <td>0</td>\n",
              "      <td>0</td>\n",
              "      <td>1</td>\n",
              "      <td>0</td>\n",
              "      <td>0</td>\n",
              "      <td>0</td>\n",
              "      <td>0</td>\n",
              "      <td>0</td>\n",
              "      <td>1</td>\n",
              "      <td>0</td>\n",
              "      <td>0</td>\n",
              "      <td>0</td>\n",
              "      <td>0</td>\n",
              "      <td>1</td>\n",
              "      <td>0</td>\n",
              "      <td>0</td>\n",
              "      <td>1</td>\n",
              "      <td>0</td>\n",
              "      <td>0</td>\n",
              "      <td>0</td>\n",
              "      <td>0</td>\n",
              "      <td>1</td>\n",
              "      <td>0</td>\n",
              "      <td>1</td>\n",
              "      <td>0</td>\n",
              "      <td>0</td>\n",
              "      <td>0</td>\n",
              "      <td>0</td>\n",
              "      <td>0</td>\n",
              "      <td>0</td>\n",
              "      <td>1</td>\n",
              "      <td>0</td>\n",
              "      <td>0</td>\n",
              "      <td>0</td>\n",
              "      <td>0</td>\n",
              "      <td>1</td>\n",
              "      <td>0</td>\n",
              "      <td>0</td>\n",
              "      <td>0</td>\n",
              "      <td>0</td>\n",
              "      <td>1</td>\n",
              "      <td>0</td>\n",
              "    </tr>\n",
              "  </tbody>\n",
              "</table>\n",
              "</div>"
            ],
            "text/plain": [
              "   age  duration  ...  poutcome_nonexistent  poutcome_success\n",
              "0   56       261  ...                     1                 0\n",
              "1   57       149  ...                     1                 0\n",
              "2   37       226  ...                     1                 0\n",
              "3   40       151  ...                     1                 0\n",
              "4   56       307  ...                     1                 0\n",
              "\n",
              "[5 rows x 64 columns]"
            ]
          },
          "metadata": {
            "tags": []
          },
          "execution_count": 15
        }
      ]
    },
    {
      "cell_type": "code",
      "metadata": {
        "colab": {
          "base_uri": "https://localhost:8080/"
        },
        "id": "TIJ5Yv4yv_Q0",
        "outputId": "7eb3d73e-e834-42dd-d0ab-803a8d9c753a"
      },
      "source": [
        "df.shape"
      ],
      "execution_count": 16,
      "outputs": [
        {
          "output_type": "execute_result",
          "data": {
            "text/plain": [
              "(41188, 64)"
            ]
          },
          "metadata": {
            "tags": []
          },
          "execution_count": 16
        }
      ]
    },
    {
      "cell_type": "code",
      "metadata": {
        "colab": {
          "base_uri": "https://localhost:8080/"
        },
        "id": "jACs6UFKujsL",
        "outputId": "97228be9-4e9a-411d-b3a8-b2c43d70d99f"
      },
      "source": [
        "# deleting Column \"duration\" (duration: last contact duration, in seconds (numeric).This attribute highly affects the output target (e.g., if duration=0 then y='no'). Yet, the duration is not known before a call is performed. Also, after the end of the call y is obviously known.\n",
        "# Thus, this input should only be included for benchmark purposes and should be discarded if the intention is to have a realistic predictive model.)\n",
        "df.drop(columns=\"duration\",inplace=True)\n",
        "df.shape"
      ],
      "execution_count": 17,
      "outputs": [
        {
          "output_type": "execute_result",
          "data": {
            "text/plain": [
              "(41188, 63)"
            ]
          },
          "metadata": {
            "tags": []
          },
          "execution_count": 17
        }
      ]
    },
    {
      "cell_type": "code",
      "metadata": {
        "colab": {
          "base_uri": "https://localhost:8080/"
        },
        "id": "SL6WbtUCvwr4",
        "outputId": "4c1c40b7-d0fc-4b20-de18-53b4cbab7f28"
      },
      "source": [
        "# checking for the number of missing values in each column\n",
        "df.isnull().sum()"
      ],
      "execution_count": 18,
      "outputs": [
        {
          "output_type": "execute_result",
          "data": {
            "text/plain": [
              "age                     0\n",
              "campaign                0\n",
              "pdays                   0\n",
              "previous                0\n",
              "emp.var.rate            0\n",
              "                       ..\n",
              "day_of_week_tue         0\n",
              "day_of_week_wed         0\n",
              "poutcome_failure        0\n",
              "poutcome_nonexistent    0\n",
              "poutcome_success        0\n",
              "Length: 63, dtype: int64"
            ]
          },
          "metadata": {
            "tags": []
          },
          "execution_count": 18
        }
      ]
    },
    {
      "cell_type": "code",
      "metadata": {
        "id": "QqSOM8c5wHMN"
      },
      "source": [
        "# There are no missing values in any column"
      ],
      "execution_count": null,
      "outputs": []
    },
    {
      "cell_type": "code",
      "metadata": {
        "colab": {
          "base_uri": "https://localhost:8080/",
          "height": 282
        },
        "id": "tyOtqkHtwVvk",
        "outputId": "d03faaf8-0e81-4773-c612-f13bebabbab7"
      },
      "source": [
        "# Plot histogram of the label and calculate the imbalance in the dataset.\n",
        "sns.histplot(df[['y']],binwidth=0.4,palette= 'BuPu')"
      ],
      "execution_count": 19,
      "outputs": [
        {
          "output_type": "execute_result",
          "data": {
            "text/plain": [
              "<matplotlib.axes._subplots.AxesSubplot at 0x7f9779bdf790>"
            ]
          },
          "metadata": {
            "tags": []
          },
          "execution_count": 19
        },
        {
          "output_type": "display_data",
          "data": {
            "image/png": "[encoded data removed]",
            "text/plain": [
              "<Figure size 432x288 with 1 Axes>"
            ]
          },
          "metadata": {
            "tags": [],
            "needs_background": "light"
          }
        }
      ]
    },
    {
      "cell_type": "code",
      "metadata": {
        "colab": {
          "base_uri": "https://localhost:8080/"
        },
        "id": "9qvPe7fLwenG",
        "outputId": "6cc9d4cf-5f6c-4e30-ed11-bdc1f6fbd4f9"
      },
      "source": [
        "#calculating the imbalance in the dataset\n",
        "No  = df['y'].value_counts(normalize=True)[0]\n",
        "yes =  df['y'].value_counts(normalize=True)[1]\n",
        "\n",
        "print(\" class No : %0.2f\" % No)\n",
        "print(\" class Yes : %0.2f\" % yes)"
      ],
      "execution_count": 24,
      "outputs": [
        {
          "output_type": "stream",
          "text": [
            " class No : 0.89\n",
            " class Yes : 0.11\n"
          ],
          "name": "stdout"
        }
      ]
    },
    {
      "cell_type": "code",
      "metadata": {
        "id": "Ki6zLfqS1qRt"
      },
      "source": [
        "# This is a severely imbalanced dataset 89% of the data is in class 'No', whereas only 11% of data is in class 'yes'"
      ],
      "execution_count": 25,
      "outputs": []
    },
    {
      "cell_type": "markdown",
      "metadata": {
        "id": "Pf-maYpz6KFz"
      },
      "source": [
        "**Let's model the data:**"
      ]
    },
    {
      "cell_type": "code",
      "metadata": {
        "id": "FvDwWSyvBtpF",
        "colab": {
          "base_uri": "https://localhost:8080/"
        },
        "outputId": "70afa293-f321-4c78-d1f3-f78fade789b4"
      },
      "source": [
        "# separate your dataset into a training and a test set, with a test size of 20% and random_state=50.\n",
        "y = df['y']\n",
        "X = df.drop(columns='y')\n",
        "train_x, valid_x, train_y, valid_y = train_test_split(X,y,test_size=0.20, random_state=50,stratify=y)\n",
        "\n",
        "print(f\"Total number of Training samples: {train_x.shape[0]} \\n Total number of test samples :  {valid_x.shape[0]}\")"
      ],
      "execution_count": 26,
      "outputs": [
        {
          "output_type": "stream",
          "text": [
            "Total number of Training samples: 32950 \n",
            " Total number of test samples :  8238\n"
          ],
          "name": "stdout"
        }
      ]
    },
    {
      "cell_type": "code",
      "metadata": {
        "id": "U0y2LLIk2j5o"
      },
      "source": [
        "# Make sure the train/test split is stratified (and check that it is!)"
      ],
      "execution_count": null,
      "outputs": []
    },
    {
      "cell_type": "code",
      "metadata": {
        "colab": {
          "base_uri": "https://localhost:8080/"
        },
        "id": "9Sxdjby-SVEP",
        "outputId": "5f9fae5f-e190-4084-baac-46805fa3a479"
      },
      "source": [
        "train_y.value_counts(normalize=True)"
      ],
      "execution_count": 29,
      "outputs": [
        {
          "output_type": "execute_result",
          "data": {
            "text/plain": [
              "0    0.887344\n",
              "1    0.112656\n",
              "Name: y, dtype: float64"
            ]
          },
          "metadata": {
            "tags": []
          },
          "execution_count": 29
        }
      ]
    },
    {
      "cell_type": "code",
      "metadata": {
        "colab": {
          "base_uri": "https://localhost:8080/"
        },
        "id": "-IO9ZruxS2dT",
        "outputId": "efb20c96-9ade-44ab-c38f-0af5752428d1"
      },
      "source": [
        "valid_y.value_counts(normalize=True)"
      ],
      "execution_count": 30,
      "outputs": [
        {
          "output_type": "execute_result",
          "data": {
            "text/plain": [
              "0    0.887351\n",
              "1    0.112649\n",
              "Name: y, dtype: float64"
            ]
          },
          "metadata": {
            "tags": []
          },
          "execution_count": 30
        }
      ]
    },
    {
      "cell_type": "code",
      "metadata": {
        "id": "kuHSHivLs05h"
      },
      "source": [
        "# Both training and validation datasets have same percentage of class 0 and class 1 observations "
      ],
      "execution_count": null,
      "outputs": []
    },
    {
      "cell_type": "code",
      "metadata": {
        "colab": {
          "base_uri": "https://localhost:8080/"
        },
        "id": "L_eyRbrgvLaY",
        "outputId": "e48f2418-e595-4042-f468-222a0dd0595c"
      },
      "source": [
        "sklearn.metrics.SCORERS.keys()"
      ],
      "execution_count": null,
      "outputs": [
        {
          "output_type": "execute_result",
          "data": {
            "text/plain": [
              "dict_keys(['explained_variance', 'r2', 'max_error', 'neg_median_absolute_error', 'neg_mean_absolute_error', 'neg_mean_squared_error', 'neg_mean_squared_log_error', 'neg_root_mean_squared_error', 'neg_mean_poisson_deviance', 'neg_mean_gamma_deviance', 'accuracy', 'roc_auc', 'roc_auc_ovr', 'roc_auc_ovo', 'roc_auc_ovr_weighted', 'roc_auc_ovo_weighted', 'balanced_accuracy', 'average_precision', 'neg_log_loss', 'neg_brier_score', 'adjusted_rand_score', 'homogeneity_score', 'completeness_score', 'v_measure_score', 'mutual_info_score', 'adjusted_mutual_info_score', 'normalized_mutual_info_score', 'fowlkes_mallows_score', 'precision', 'precision_macro', 'precision_micro', 'precision_samples', 'precision_weighted', 'recall', 'recall_macro', 'recall_micro', 'recall_samples', 'recall_weighted', 'f1', 'f1_macro', 'f1_micro', 'f1_samples', 'f1_weighted', 'jaccard', 'jaccard_macro', 'jaccard_micro', 'jaccard_samples', 'jaccard_weighted'])"
            ]
          },
          "metadata": {
            "tags": []
          },
          "execution_count": 24
        }
      ]
    },
    {
      "cell_type": "markdown",
      "metadata": {
        "id": "PNk7cBi06gV6"
      },
      "source": [
        "**RandomForestClassifier**"
      ]
    },
    {
      "cell_type": "code",
      "metadata": {
        "colab": {
          "base_uri": "https://localhost:8080/"
        },
        "id": "KLUzR5Kttc63",
        "outputId": "c8343444-2f17-4a03-cafa-ba8c60a619e9"
      },
      "source": [
        "# Report the results of 10-fold stratified cross-validation on the training set using a random forest classifier with 100 trees and depth=3.\n",
        "clf = RandomForestClassifier(n_estimators=100,max_depth=3,random_state=50)\n",
        "scores = cross_val_score(clf,train_x,train_y,scoring='f1',cv=10)\n",
        "\n",
        "print(\"f1: %0.8f +/- %0.8f\" % (scores.mean(), scores.std()))\n"
      ],
      "execution_count": 36,
      "outputs": [
        {
          "output_type": "stream",
          "text": [
            "f1: 0.25786987 +/- 0.04073029\n"
          ],
          "name": "stdout"
        }
      ]
    },
    {
      "cell_type": "markdown",
      "metadata": {
        "id": "xvH-imE5qaqo"
      },
      "source": [
        "**DummyClassifier**"
      ]
    },
    {
      "cell_type": "code",
      "metadata": {
        "colab": {
          "base_uri": "https://localhost:8080/"
        },
        "id": "CDB_oJOyqYGb",
        "outputId": "8acdae71-68c0-4bab-e72c-32e503b509fb"
      },
      "source": [
        "dummy_clf = DummyClassifier(strategy=\"stratified\") # always predicts the mean of the training set\n",
        "dummy_scores = cross_val_score(dummy_clf, X, y, cv=10, scoring='f1')\n",
        "print(\"f1: %0.8f +/- %0.8f\" % (dummy_scores.mean(), dummy_scores.std()))"
      ],
      "execution_count": 32,
      "outputs": [
        {
          "output_type": "stream",
          "text": [
            "f1: 0.10869387 +/- 0.01297124\n"
          ],
          "name": "stdout"
        }
      ]
    },
    {
      "cell_type": "markdown",
      "metadata": {
        "id": "rP6LWxr2qzd_"
      },
      "source": [
        "**Compare the results of your classifier with that of a dummy classifier**"
      ]
    },
    {
      "cell_type": "markdown",
      "metadata": {
        "id": "SqkgSRGLq59L"
      },
      "source": [
        "**The dummyclassifier has low f1 score compared to RandomForestClassifier**"
      ]
    },
    {
      "cell_type": "markdown",
      "metadata": {
        "id": "Ngzp0iv67BsG"
      },
      "source": [
        "**GridSearchCV to find a better set of parameters for your random forest.**"
      ]
    },
    {
      "cell_type": "code",
      "metadata": {
        "colab": {
          "base_uri": "https://localhost:8080/"
        },
        "id": "-gfZ1Hw6zela",
        "outputId": "c4edd7a0-02aa-43ce-f9a7-30c2e74de93c"
      },
      "source": [
        "list(range(100,1000,100))"
      ],
      "execution_count": null,
      "outputs": [
        {
          "output_type": "execute_result",
          "data": {
            "text/plain": [
              "[100, 200, 300, 400, 500, 600, 700, 800, 900]"
            ]
          },
          "metadata": {
            "tags": []
          },
          "execution_count": 39
        }
      ]
    },
    {
      "cell_type": "code",
      "metadata": {
        "id": "WhSlyv69x6Pm"
      },
      "source": [
        "param_grid = {'n_estimators':range(100,600,100),\n",
        "              'criterion':['gini','entropy'],\n",
        "              'max_depth' : range(2,10,1)\n",
        "              }\n",
        "\n",
        "search = GridSearchCV(clf,\n",
        "                      param_grid=param_grid,\n",
        "                      scoring='f1',\n",
        "                      n_jobs=-1,\n",
        "                      cv=StratifiedKFold(n_splits=10),\n",
        "                      verbose=2)\n"
      ],
      "execution_count": 54,
      "outputs": []
    },
    {
      "cell_type": "code",
      "metadata": {
        "colab": {
          "base_uri": "https://localhost:8080/"
        },
        "id": "hWMR85Ma0M7f",
        "outputId": "8a8e629e-6b4d-4613-acc2-fe7fe11db33f"
      },
      "source": [
        "search.fit(train_x,train_y)"
      ],
      "execution_count": 55,
      "outputs": [
        {
          "output_type": "stream",
          "text": [
            "Fitting 10 folds for each of 80 candidates, totalling 800 fits\n"
          ],
          "name": "stdout"
        },
        {
          "output_type": "stream",
          "text": [
            "[Parallel(n_jobs=-1)]: Using backend LokyBackend with 2 concurrent workers.\n",
            "[Parallel(n_jobs=-1)]: Done  37 tasks      | elapsed:   54.3s\n",
            "[Parallel(n_jobs=-1)]: Done 158 tasks      | elapsed:  5.5min\n",
            "[Parallel(n_jobs=-1)]: Done 361 tasks      | elapsed: 17.2min\n",
            "[Parallel(n_jobs=-1)]: Done 644 tasks      | elapsed: 30.7min\n",
            "[Parallel(n_jobs=-1)]: Done 800 out of 800 | elapsed: 41.5min finished\n"
          ],
          "name": "stderr"
        },
        {
          "output_type": "execute_result",
          "data": {
            "text/plain": [
              "GridSearchCV(cv=StratifiedKFold(n_splits=10, random_state=None, shuffle=False),\n",
              "             error_score=nan,\n",
              "             estimator=RandomForestClassifier(bootstrap=True, ccp_alpha=0.0,\n",
              "                                              class_weight=None,\n",
              "                                              criterion='gini', max_depth=3,\n",
              "                                              max_features='auto',\n",
              "                                              max_leaf_nodes=None,\n",
              "                                              max_samples=None,\n",
              "                                              min_impurity_decrease=0.0,\n",
              "                                              min_impurity_split=None,\n",
              "                                              min_samples_leaf=1,\n",
              "                                              min_samples_split=2,\n",
              "                                              min_weight_fraction_leaf=0.0,\n",
              "                                              n_estimators=100, n_jobs=None,\n",
              "                                              oob_score=False, random_state=50,\n",
              "                                              verbose=0, warm_start=False),\n",
              "             iid='deprecated', n_jobs=-1,\n",
              "             param_grid={'criterion': ['gini', 'entropy'],\n",
              "                         'max_depth': range(2, 10),\n",
              "                         'n_estimators': range(100, 600, 100)},\n",
              "             pre_dispatch='2*n_jobs', refit=True, return_train_score=False,\n",
              "             scoring='f1', verbose=2)"
            ]
          },
          "metadata": {
            "tags": []
          },
          "execution_count": 55
        }
      ]
    },
    {
      "cell_type": "code",
      "metadata": {
        "id": "Tq8z0WxeZkF-"
      },
      "source": [
        "pred_y = search.predict(valid_x)\n"
      ],
      "execution_count": 57,
      "outputs": []
    },
    {
      "cell_type": "code",
      "metadata": {
        "colab": {
          "base_uri": "https://localhost:8080/"
        },
        "id": "qzhHM-x0aFqj",
        "outputId": "652138aa-ba67-44c4-bd07-c93976c86de3"
      },
      "source": [
        "accuracy_score(valid_y,pred_y)"
      ],
      "execution_count": 58,
      "outputs": [
        {
          "output_type": "execute_result",
          "data": {
            "text/plain": [
              "0.900825443068706"
            ]
          },
          "metadata": {
            "tags": []
          },
          "execution_count": 58
        }
      ]
    },
    {
      "cell_type": "code",
      "metadata": {
        "colab": {
          "base_uri": "https://localhost:8080/"
        },
        "id": "UaMY_fhgaLgV",
        "outputId": "530f8567-d529-4ffb-8dbb-d90c48a2f9ce"
      },
      "source": [
        "search.best_score_"
      ],
      "execution_count": 59,
      "outputs": [
        {
          "output_type": "execute_result",
          "data": {
            "text/plain": [
              "0.3183603330890645"
            ]
          },
          "metadata": {
            "tags": []
          },
          "execution_count": 59
        }
      ]
    },
    {
      "cell_type": "code",
      "metadata": {
        "colab": {
          "base_uri": "https://localhost:8080/"
        },
        "id": "PrY61n_r_jSt",
        "outputId": "a2d4359b-dbb2-4a1a-f278-481ba12c857f"
      },
      "source": [
        "classifier = search.best_estimator_\n",
        "classifier"
      ],
      "execution_count": 61,
      "outputs": [
        {
          "output_type": "execute_result",
          "data": {
            "text/plain": [
              "RandomForestClassifier(bootstrap=True, ccp_alpha=0.0, class_weight=None,\n",
              "                       criterion='gini', max_depth=9, max_features='auto',\n",
              "                       max_leaf_nodes=None, max_samples=None,\n",
              "                       min_impurity_decrease=0.0, min_impurity_split=None,\n",
              "                       min_samples_leaf=1, min_samples_split=2,\n",
              "                       min_weight_fraction_leaf=0.0, n_estimators=500,\n",
              "                       n_jobs=None, oob_score=False, random_state=50, verbose=0,\n",
              "                       warm_start=False)"
            ]
          },
          "metadata": {
            "tags": []
          },
          "execution_count": 61
        }
      ]
    },
    {
      "cell_type": "code",
      "metadata": {
        "colab": {
          "base_uri": "https://localhost:8080/"
        },
        "id": "3t9_qSgJaSk3",
        "outputId": "fc39d51a-e3ac-40a6-8beb-2394f5200349"
      },
      "source": [
        "classifier.fit(train_x,train_y)\n",
        "\n",
        "importances = classifier.feature_importances_\n",
        "std = np.std([tree.feature_importances_ for tree in classifier.estimators_],axis=0)\n",
        "indices = np.argsort(importances)[::-1]\n",
        "print(indices)\n",
        "features = X.columns\n",
        "# Print the feature ranking\n",
        "#print(\"Feature ranking:\")\n",
        "\n",
        "for f in range(X.shape[1]):\n",
        "    print(\"%d. %s (%f)\" % (f + 1, features[indices[f]],  importances[indices[f]]))"
      ],
      "execution_count": 62,
      "outputs": [
        {
          "output_type": "stream",
          "text": [
            "[ 7  8  2 61  4  6  5  0  3 52 43  1 49 59 60 50 42 44 55 31 53 10 48 56\n",
            " 34 14 33 54 23 38 57 22 36 58 28 17  9 39 18 41 30 27 25 47 51 45 21 32\n",
            " 16 13 15 19 26 46 12 20 37 40 11 24 29 35]\n",
            "1. euribor3m (0.161577)\n",
            "2. nr.employed (0.149672)\n",
            "3. pdays (0.101237)\n",
            "4. poutcome_success (0.081160)\n",
            "5. emp.var.rate (0.076179)\n",
            "6. cons.conf.idx (0.065292)\n",
            "7. cons.price.idx (0.058479)\n",
            "8. age (0.039460)\n",
            "9. previous (0.024521)\n",
            "10. month_oct (0.014689)\n",
            "11. contact_telephone (0.013392)\n",
            "12. campaign (0.013331)\n",
            "13. month_mar (0.013238)\n",
            "14. poutcome_failure (0.013006)\n",
            "15. poutcome_nonexistent (0.012805)\n",
            "16. month_may (0.012393)\n",
            "17. contact_cellular (0.010390)\n",
            "18. month_apr (0.007846)\n",
            "19. day_of_week_mon (0.007432)\n",
            "20. education_university.degree (0.005310)\n",
            "21. month_sep (0.004704)\n",
            "22. job_blue-collar (0.004665)\n",
            "23. month_jun (0.004592)\n",
            "24. day_of_week_thu (0.004463)\n",
            "25. default_unknown (0.004378)\n",
            "26. job_retired (0.004225)\n",
            "27. default_no (0.004204)\n",
            "28. day_of_week_fri (0.004185)\n",
            "29. marital_single (0.004127)\n",
            "30. housing_yes (0.003951)\n",
            "31. day_of_week_tue (0.003944)\n",
            "32. marital_married (0.003824)\n",
            "33. housing_no (0.003796)\n",
            "34. day_of_week_wed (0.003756)\n",
            "35. education_high.school (0.003716)\n",
            "36. job_student (0.003575)\n",
            "37. job_admin. (0.003375)\n",
            "38. loan_no (0.003268)\n",
            "39. job_technician (0.003223)\n",
            "40. loan_yes (0.003157)\n",
            "41. education_professional.course (0.003020)\n",
            "42. education_basic.9y (0.002938)\n",
            "43. education_basic.4y (0.002496)\n",
            "44. month_jul (0.002487)\n",
            "45. month_nov (0.002433)\n",
            "46. month_aug (0.002413)\n",
            "47. marital_divorced (0.002328)\n",
            "48. education_unknown (0.002320)\n",
            "49. job_services (0.002092)\n",
            "50. job_management (0.002032)\n",
            "51. job_self-employed (0.001968)\n",
            "52. job_unemployed (0.001828)\n",
            "53. education_basic.6y (0.001800)\n",
            "54. month_dec (0.001572)\n",
            "55. job_housemaid (0.001471)\n",
            "56. job_unknown (0.001454)\n",
            "57. housing_unknown (0.001414)\n",
            "58. loan_unknown (0.001405)\n",
            "59. job_entrepreneur (0.001202)\n",
            "60. marital_unknown (0.000588)\n",
            "61. education_illiterate (0.000200)\n",
            "62. default_yes (0.000000)\n"
          ],
          "name": "stdout"
        }
      ]
    },
    {
      "cell_type": "code",
      "metadata": {
        "id": "BBc5YLSbaiQI"
      },
      "source": [
        "from matplotlib import pyplot as plt\n",
        "def plot_confusion_matrix(conf_mat, classes,\n",
        "                          normalize=False,\n",
        "                          title='Confusion matrix',\n",
        "                          cmap=plt.cm.Blues):\n",
        "    \"\"\"\n",
        "    This function prints and plots the confusion matrix.\n",
        "    Normalization can be applied by setting `normalize=True`.\n",
        "    conf_mat: confusion matrix\n",
        "    classes: names of classes to be annotated\n",
        "    normalize: [True/False] whether to normalise by column\n",
        "    \"\"\"\n",
        "    if normalize:\n",
        "        conf_mat = conf_mat.astype('float') / conf_mat.sum(axis=1)[:, np.newaxis]\n",
        "        print(\"Normalized confusion matrix\")\n",
        "    else:\n",
        "        print('Confusion matrix, without normalization')\n",
        "    plt.imshow(conf_mat, interpolation='nearest', cmap=cmap)\n",
        "    plt.title(title)\n",
        "    plt.colorbar()\n",
        "    tick_marks = np.arange(len(classes))\n",
        "    plt.xticks(tick_marks, classes, rotation=45)\n",
        "    plt.yticks(tick_marks, classes)\n",
        "    for i, j in itertools.product(range(conf_mat.shape[0]), range(conf_mat.shape[1])):\n",
        "        t = \"(%.2f)\" % (conf_mat[i, j])\n",
        "    plt.tight_layout()\n",
        "    plt.ylabel('True label')\n",
        "    plt.xlabel('Predicted label')"
      ],
      "execution_count": 63,
      "outputs": []
    },
    {
      "cell_type": "code",
      "metadata": {
        "colab": {
          "base_uri": "https://localhost:8080/",
          "height": 328
        },
        "id": "DaVXBiwXdER8",
        "outputId": "bf56ab6c-7872-4be3-c124-1483e491c260"
      },
      "source": [
        "# Compute confusion matrix\n",
        "import itertools\n",
        "cnf_matrix = confusion_matrix(valid_y, pred_y)\n",
        "np.set_printoptions(precision=2)\n",
        "\n",
        "# Plot non-normalized confusion matrix\n",
        "plt.figure()\n",
        "plot_confusion_matrix(cnf_matrix, classes=range(len(set(y))), normalize=True,\n",
        "                      title='Confusion matrix')\n",
        "\n",
        "#plt.savefig(\"confusion.pdf\", bbox_inches='tight')"
      ],
      "execution_count": 64,
      "outputs": [
        {
          "output_type": "stream",
          "text": [
            "Normalized confusion matrix\n"
          ],
          "name": "stdout"
        },
        {
          "output_type": "display_data",
          "data": {
            "image/png": "[encoded data removed]",
            "text/plain": [
              "<Figure size 432x288 with 2 Axes>"
            ]
          },
          "metadata": {
            "tags": [],
            "needs_background": "light"
          }
        }
      ]
    },
    {
      "cell_type": "code",
      "metadata": {
        "id": "xTXb0Ea7GxpG"
      },
      "source": [
        "# generalisation error (still using the same metric) on your test set."
      ],
      "execution_count": 72,
      "outputs": []
    },
    {
      "cell_type": "code",
      "metadata": {
        "colab": {
          "base_uri": "https://localhost:8080/"
        },
        "id": "Ax6tsOJPBmUI",
        "outputId": "a15afc9c-1639-4147-cbf4-7aaf683a9e7b"
      },
      "source": [
        "pred_y = classifier.predict(valid_x)\n",
        "acc_score = accuracy_score(valid_y,pred_y)\n",
        "print(f\"accuracy score : {acc_score}\")\n",
        "from sklearn.metrics import f1_score\n",
        "f1 = f1_score(valid_y,pred_y)\n",
        "print(f\"f1_score on vaidation set after grid search : {f1}\")"
      ],
      "execution_count": 71,
      "outputs": [
        {
          "output_type": "stream",
          "text": [
            "accuracy score : 0.900825443068706\n",
            "f1_score on vaidation set after grid search : 0.34059725585149314\n"
          ],
          "name": "stdout"
        }
      ]
    },
    {
      "cell_type": "code",
      "metadata": {
        "id": "40FkvXsfp1ZE"
      },
      "source": [
        "# quiz"
      ],
      "execution_count": null,
      "outputs": []
    },
    {
      "cell_type": "code",
      "metadata": {
        "id": "MDaYFdxZdkxF",
        "colab": {
          "base_uri": "https://localhost:8080/"
        },
        "outputId": "0bf753dc-361f-48ed-ead6-ebe86bdb6ac6"
      },
      "source": [
        "forest_clf = RandomForestClassifier(n_estimators=150,max_depth=6,random_state=50)\n",
        "scores = cross_val_score(forest_clf,train_x,train_y,scoring='f1',cv=10)\n",
        "\n",
        "print(\"f1: %0.8f +/- %0.8f\" % (scores.mean(), scores.std()))"
      ],
      "execution_count": 48,
      "outputs": [
        {
          "output_type": "stream",
          "text": [
            "f1: 0.28370588 +/- 0.04695821\n"
          ],
          "name": "stdout"
        }
      ]
    },
    {
      "cell_type": "code",
      "metadata": {
        "colab": {
          "base_uri": "https://localhost:8080/"
        },
        "id": "bnv4Bpwdp7jG",
        "outputId": "6decc531-9454-4221-f5bb-7c8013ce05bc"
      },
      "source": [
        "forest_clf = RandomForestClassifier(n_estimators=200,max_depth=8,random_state=50)\n",
        "scores = cross_val_score(forest_clf,train_x,train_y,scoring='f1',cv=10)\n",
        "\n",
        "print(f\"f1:{scores.mean()}\")"
      ],
      "execution_count": 49,
      "outputs": [
        {
          "output_type": "stream",
          "text": [
            "f1:0.30009166356648936\n"
          ],
          "name": "stdout"
        }
      ]
    },
    {
      "cell_type": "code",
      "metadata": {
        "colab": {
          "base_uri": "https://localhost:8080/"
        },
        "id": "soYErlu7uqHX",
        "outputId": "39181729-ba98-45a4-aabf-e7facdbd9929"
      },
      "source": [
        "forest_clf = RandomForestClassifier(n_estimators=100,max_depth=8,random_state=60)\n",
        "scores = cross_val_score(forest_clf,train_x,train_y,scoring='f1',cv=10)\n",
        "\n",
        "print(f\"f1:{scores.mean()}\")"
      ],
      "execution_count": 50,
      "outputs": [
        {
          "output_type": "stream",
          "text": [
            "f1:0.30309879535867823\n"
          ],
          "name": "stdout"
        }
      ]
    },
    {
      "cell_type": "code",
      "metadata": {
        "id": "uJ0esD9uu4wz"
      },
      "source": [
        "forest_clf = RandomForestClassifier(n_estimators=300,max_depth=12,random_state=60)\n",
        "forest_clf.fit(train_x,train_y)\n",
        "imp = forest_clf.feature_importances_"
      ],
      "execution_count": 51,
      "outputs": []
    },
    {
      "cell_type": "code",
      "metadata": {
        "colab": {
          "base_uri": "https://localhost:8080/"
        },
        "id": "Sbm_FoDwu6Ss",
        "outputId": "e90aae4a-ce3e-45b6-9d0b-6e4599f85db8"
      },
      "source": [
        "std = np.std([tree.feature_importances_ for tree in forest_clf.estimators_],axis=0)\n",
        "indices = np.argsort(imp)[::-1]\n",
        "print(indices)\n",
        "features = X.columns\n",
        "# Print the feature ranking\n",
        "print(\"Feature ranking:\")\n",
        "\n",
        "for f in range(X.shape[1]):\n",
        "    print(\"%d. %s (%f)\" % (f + 1, features[indices[f]],  imp[indices[f]]))"
      ],
      "execution_count": 53,
      "outputs": [
        {
          "output_type": "stream",
          "text": [
            "[ 7  8  2 61  4  0  6  5  1  3 59 60 52 49 43 50 42 55 31 38 36 56 54 23\n",
            " 57 22 44 28 58  9 39 10 14 41 18 30 27 48 17 33 21 34 25 53 16 32 13 26\n",
            " 19 15 51 45 47 12 37 40 11 20 46 24 29 35]\n",
            "Feature ranking:\n",
            "1. euribor3m (0.137780)\n",
            "2. nr.employed (0.116927)\n",
            "3. pdays (0.074017)\n",
            "4. poutcome_success (0.069784)\n",
            "5. emp.var.rate (0.061363)\n",
            "6. age (0.060166)\n",
            "7. cons.conf.idx (0.055543)\n",
            "8. cons.price.idx (0.048979)\n",
            "9. campaign (0.026308)\n",
            "10. previous (0.025351)\n",
            "11. poutcome_failure (0.016382)\n",
            "12. poutcome_nonexistent (0.014782)\n",
            "13. month_oct (0.013438)\n",
            "14. month_mar (0.012811)\n",
            "15. contact_telephone (0.012810)\n",
            "16. month_may (0.012357)\n",
            "17. contact_cellular (0.012290)\n",
            "18. day_of_week_mon (0.010371)\n",
            "19. education_university.degree (0.009047)\n",
            "20. housing_yes (0.008521)\n",
            "21. housing_no (0.008431)\n",
            "22. day_of_week_thu (0.008164)\n",
            "23. day_of_week_fri (0.007796)\n",
            "24. marital_single (0.007611)\n",
            "25. day_of_week_tue (0.007523)\n",
            "26. marital_married (0.007450)\n",
            "27. month_apr (0.007437)\n",
            "28. education_high.school (0.007248)\n",
            "29. day_of_week_wed (0.007054)\n",
            "30. job_admin. (0.006952)\n",
            "31. loan_no (0.006847)\n",
            "32. job_blue-collar (0.006600)\n",
            "33. job_retired (0.006250)\n",
            "34. loan_yes (0.006244)\n",
            "35. job_technician (0.006190)\n",
            "36. education_professional.course (0.006005)\n",
            "37. education_basic.9y (0.005529)\n",
            "38. month_jun (0.005518)\n",
            "39. job_student (0.005392)\n",
            "40. default_no (0.005189)\n",
            "41. marital_divorced (0.004945)\n",
            "42. default_unknown (0.004916)\n",
            "43. education_basic.4y (0.004759)\n",
            "44. month_sep (0.004538)\n",
            "45. job_services (0.004164)\n",
            "46. education_unknown (0.004158)\n",
            "47. job_management (0.003956)\n",
            "48. education_basic.6y (0.003423)\n",
            "49. job_unemployed (0.003405)\n",
            "50. job_self-employed (0.003265)\n",
            "51. month_nov (0.003076)\n",
            "52. month_aug (0.003003)\n",
            "53. month_jul (0.003002)\n",
            "54. job_housemaid (0.002565)\n",
            "55. housing_unknown (0.002528)\n",
            "56. loan_unknown (0.002516)\n",
            "57. job_entrepreneur (0.002301)\n",
            "58. job_unknown (0.002204)\n",
            "59. month_dec (0.001723)\n",
            "60. marital_unknown (0.000804)\n",
            "61. education_illiterate (0.000294)\n",
            "62. default_yes (0.000000)\n"
          ],
          "name": "stdout"
        }
      ]
    }
  ]
}